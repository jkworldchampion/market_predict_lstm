{
 "cells": [
  {
   "cell_type": "code",
   "execution_count": 1,
   "metadata": {},
   "outputs": [],
   "source": [
    "import pandas as pd\n",
    "import numpy as np\n",
    "import matplotlib.pyplot as plt\n",
    "import seaborn as sns\n",
    "from sklearn.model_selection import train_test_split\n",
    "import tensorflow as tf\n",
    "from tensorflow import keras\n",
    "from tensorflow.keras import layers\n",
    "from keras.models import Sequential\n",
    "from keras.layers import LSTM, Dense\n",
    "from keras.layers import Dropout\n",
    "from sklearn.preprocessing import MinMaxScaler"
   ]
  },
  {
   "cell_type": "code",
   "execution_count": 2,
   "metadata": {},
   "outputs": [],
   "source": [
    "data_2017 = pd.read_csv('data/auction_2017.csv', sep=';', encoding='cp949')\n",
    "data_2018 = pd.read_csv('data/auction_2018.csv', sep=';', encoding='cp949')\n",
    "data_2019_1 = pd.read_csv('data/auction_201901~06.csv', encoding='cp949')\n",
    "data_2019_2 = pd.read_csv('data/auction_201901~06.csv', encoding='cp949')"
   ]
  },
  {
   "cell_type": "code",
   "execution_count": 3,
   "metadata": {},
   "outputs": [],
   "source": [
    "data_20_1 = pd.read_csv('data/auction_202001.csv', encoding='cp949')\n",
    "data_20_2 = pd.read_csv('data/auction_202002.csv', encoding='cp949')\n",
    "data_20_3 = pd.read_csv('data/auction_202003.csv', encoding='cp949')\n",
    "data_20_4 = pd.read_csv('data/auction_202004.csv', encoding='cp949')\n",
    "data_20_5 = pd.read_csv('data/auction_202005.csv', encoding='cp949')\n",
    "data_20_6 = pd.read_csv('data/auction_202006.csv', encoding='cp949')\n",
    "data_20_7 = pd.read_csv('data/auction_202007.csv', encoding='cp949')\n",
    "data_20_8 = pd.read_csv('data/auction_202008.csv', encoding='cp949')\n",
    "data_20_9 = pd.read_csv('data/auction_202009.csv', encoding='cp949')\n",
    "data_20_10 = pd.read_csv('data/auction_202010.csv', encoding='cp949')\n",
    "data_20_11 = pd.read_csv('data/auction_202011.csv', encoding='cp949')\n",
    "data_20_12 = pd.read_csv('data/auction_202012.csv', encoding='cp949')\n",
    "\n",
    "data_21_1 = pd.read_csv('data/auction_202101.csv', encoding='cp949')\n",
    "data_21_2 = pd.read_csv('data/auction_202102.csv', encoding='cp949')\n",
    "data_21_3 = pd.read_csv('data/auction_202103.csv', encoding='cp949')\n",
    "data_21_4 = pd.read_csv('data/auction_202104.csv', encoding='cp949')\n",
    "data_21_5 = pd.read_csv('data/auction_202105.csv', encoding='cp949')\n",
    "data_21_6 = pd.read_csv('data/auction_202106.csv', encoding='cp949')\n",
    "data_21_7 = pd.read_csv('data/auction_202107.csv', encoding='cp949')\n",
    "data_21_8 = pd.read_csv('data/auction_202108.csv', encoding='cp949')\n",
    "data_21_9 = pd.read_csv('data/auction_202109.csv', encoding='cp949')\n",
    "data_21_10 = pd.read_csv('data/auction_202110.csv', encoding='cp949')\n",
    "data_21_11 = pd.read_csv('data/auction_202111.csv', encoding='cp949')\n",
    "data_21_12 = pd.read_csv('data/auction_202112.csv', encoding='cp949')\n",
    "\n",
    "data_22_1 = pd.read_csv('data/auction_202201.csv', encoding='cp949')\n",
    "data_22_2 = pd.read_csv('data/auction_202202.csv', encoding='cp949')\n",
    "data_22_3 = pd.read_csv('data/auction_202203.csv', encoding='cp949')\n",
    "data_22_4 = pd.read_csv('data/auction_202204.csv', encoding='cp949')\n",
    "data_22_5 = pd.read_csv('data/auction_202205.csv', encoding='cp949')\n",
    "data_22_6 = pd.read_csv('data/auction_202206.csv', encoding='cp949')\n",
    "data_22_7 = pd.read_csv('data/auction_202207.csv', encoding='cp949')\n",
    "data_22_8 = pd.read_csv('data/auction_202208.csv', encoding='cp949')\n",
    "data_22_9 = pd.read_csv('data/auction_202209.csv', encoding='cp949')\n",
    "data_22_10 = pd.read_csv('data/auction_202210.csv', encoding='cp949')\n",
    "data_22_11 = pd.read_csv('data/auction_202211.csv', encoding='cp949')\n",
    "data_22_12 = pd.read_csv('data/auction_202212.csv', encoding='cp949')\n",
    "\n",
    "data_23_1 = pd.read_csv('data/auction_202301.csv', encoding='cp949')\n",
    "data_23_2 = pd.read_csv('data/auction_202302.csv', encoding='cp949')\n",
    "data_23_3 = pd.read_csv('data/auction_202303.csv', encoding='cp949')\n",
    "data_23_4 = pd.read_csv('data/auction_202304.csv', encoding='cp949')\n",
    "data_23_5 = pd.read_csv('data/auction_202305.csv', encoding='cp949')\n",
    "data_23_6 = pd.read_csv('data/auction_202306.csv', encoding='cp949')\n",
    "data_23_7 = pd.read_csv('data/auction_202307.csv', encoding='cp949')\n",
    "data_23_8 = pd.read_csv('data/auction_202308.csv', encoding='cp949')\n",
    "data_23_9 = pd.read_csv('data/auction_202309.csv', encoding='cp949')\n",
    "data_23_10 = pd.read_csv('data/auction_202310.csv', encoding='cp949')\n",
    "data_23_11 = pd.read_csv('data/auction_202311.csv', encoding='cp949')\n",
    "data_23_12 = pd.read_csv('data/auction_202312.csv', encoding='cp949')\n",
    "\n",
    "data_24_1 = pd.read_csv('data/auction_202401.csv', encoding='cp949')\n",
    "data_24_2 = pd.read_csv('data/auction_202402.csv', encoding='cp949')\n",
    "data_24_3 = pd.read_csv('data/auction_202403.csv', encoding='cp949')\n",
    "data_24_4 = pd.read_csv('data/auction_202404.csv', encoding='cp949')"
   ]
  },
  {
   "cell_type": "code",
   "execution_count": 16,
   "metadata": {},
   "outputs": [],
   "source": [
    "data_uni = pd.concat([data_2017, data_2018, data_2019_1, data_2019_2,\n",
    "                        data_20_1, data_20_2, data_20_3, data_20_4, data_20_5, data_20_6, data_20_7, data_20_8, data_20_9,data_20_10,data_20_11,data_20_12,\n",
    "                        data_21_1,data_21_2,data_21_3,data_21_4,data_21_5,data_21_6,data_21_7,data_21_8,data_21_9,data_21_10,data_21_11,data_21_12,\n",
    "                        data_22_1,data_22_2,data_22_3,data_22_4,data_22_5,data_22_6,data_22_7,data_22_8,data_22_9,data_22_10,data_22_11,data_22_12,\n",
    "                        data_23_1,data_23_2,data_23_3,data_23_4,data_23_5,data_23_6,data_23_7,data_23_8,data_23_9,data_23_10,data_23_11,data_23_12,\n",
    "                        data_24_1,data_24_2,data_24_3,data_24_4], ignore_index=True)"
   ]
  },
  {
   "cell_type": "code",
   "execution_count": 17,
   "metadata": {},
   "outputs": [
    {
     "data": {
      "text/plain": [
       "(44857822, 7)"
      ]
     },
     "execution_count": 17,
     "metadata": {},
     "output_type": "execute_result"
    }
   ],
   "source": [
    "data_uni.shape"
   ]
  },
  {
   "cell_type": "code",
   "execution_count": 18,
   "metadata": {},
   "outputs": [
    {
     "name": "stdout",
     "output_type": "stream",
     "text": [
      "전체 품목개수:  1003\n"
     ]
    }
   ],
   "source": [
    "data_uni['품목명'] = data_uni['품목명'].apply(lambda x: x.split(']')[0].replace('[', ''))\n",
    "print(\"전체 품목개수: \", len(data_uni['품목명'].unique()))"
   ]
  },
  {
   "cell_type": "code",
   "execution_count": 19,
   "metadata": {},
   "outputs": [
    {
     "data": {
      "text/html": [
       "<div>\n",
       "<style scoped>\n",
       "    .dataframe tbody tr th:only-of-type {\n",
       "        vertical-align: middle;\n",
       "    }\n",
       "\n",
       "    .dataframe tbody tr th {\n",
       "        vertical-align: top;\n",
       "    }\n",
       "\n",
       "    .dataframe thead th {\n",
       "        text-align: right;\n",
       "    }\n",
       "</style>\n",
       "<table border=\"1\" class=\"dataframe\">\n",
       "  <thead>\n",
       "    <tr style=\"text-align: right;\">\n",
       "      <th></th>\n",
       "      <th>품목명</th>\n",
       "      <th>단위</th>\n",
       "      <th>등급</th>\n",
       "      <th>가격</th>\n",
       "      <th>산지</th>\n",
       "      <th>친환경구분</th>\n",
       "      <th>입력일</th>\n",
       "    </tr>\n",
       "  </thead>\n",
       "  <tbody>\n",
       "    <tr>\n",
       "      <th>0</th>\n",
       "      <td>포도</td>\n",
       "      <td>4kg</td>\n",
       "      <td>특(1등)</td>\n",
       "      <td>33000</td>\n",
       "      <td>충북 영동군</td>\n",
       "      <td>일반</td>\n",
       "      <td>20171101</td>\n",
       "    </tr>\n",
       "    <tr>\n",
       "      <th>1</th>\n",
       "      <td>감</td>\n",
       "      <td>10kg</td>\n",
       "      <td>특(1등)</td>\n",
       "      <td>7500</td>\n",
       "      <td>경남 진주시</td>\n",
       "      <td>일반</td>\n",
       "      <td>20171101</td>\n",
       "    </tr>\n",
       "    <tr>\n",
       "      <th>2</th>\n",
       "      <td>포도</td>\n",
       "      <td>2kg</td>\n",
       "      <td>특(1등)</td>\n",
       "      <td>18000</td>\n",
       "      <td>충북 영동군</td>\n",
       "      <td>일반</td>\n",
       "      <td>20171101</td>\n",
       "    </tr>\n",
       "    <tr>\n",
       "      <th>3</th>\n",
       "      <td>감</td>\n",
       "      <td>10kg</td>\n",
       "      <td>특(1등)</td>\n",
       "      <td>7500</td>\n",
       "      <td>경남 진주시</td>\n",
       "      <td>일반</td>\n",
       "      <td>20171101</td>\n",
       "    </tr>\n",
       "    <tr>\n",
       "      <th>4</th>\n",
       "      <td>포도</td>\n",
       "      <td>2kg</td>\n",
       "      <td>특(1등)</td>\n",
       "      <td>15000</td>\n",
       "      <td>충북 영동군</td>\n",
       "      <td>일반</td>\n",
       "      <td>20171101</td>\n",
       "    </tr>\n",
       "  </tbody>\n",
       "</table>\n",
       "</div>"
      ],
      "text/plain": [
       "  품목명    단위     등급     가격      산지 친환경구분       입력일\n",
       "0  포도   4kg  특(1등)  33000  충북 영동군    일반  20171101\n",
       "1   감  10kg  특(1등)   7500  경남 진주시    일반  20171101\n",
       "2  포도   2kg  특(1등)  18000  충북 영동군    일반  20171101\n",
       "3   감  10kg  특(1등)   7500  경남 진주시    일반  20171101\n",
       "4  포도   2kg  특(1등)  15000  충북 영동군    일반  20171101"
      ]
     },
     "execution_count": 19,
     "metadata": {},
     "output_type": "execute_result"
    }
   ],
   "source": [
    "data_uni.head()"
   ]
  },
  {
   "cell_type": "code",
   "execution_count": 20,
   "metadata": {},
   "outputs": [],
   "source": [
    "data_uni = data_uni[['품목명', '단위', '가격', '입력일']]\n",
    "data_uni.set_index('입력일', inplace=True)"
   ]
  },
  {
   "cell_type": "code",
   "execution_count": 21,
   "metadata": {},
   "outputs": [
    {
     "data": {
      "text/html": [
       "<div>\n",
       "<style scoped>\n",
       "    .dataframe tbody tr th:only-of-type {\n",
       "        vertical-align: middle;\n",
       "    }\n",
       "\n",
       "    .dataframe tbody tr th {\n",
       "        vertical-align: top;\n",
       "    }\n",
       "\n",
       "    .dataframe thead th {\n",
       "        text-align: right;\n",
       "    }\n",
       "</style>\n",
       "<table border=\"1\" class=\"dataframe\">\n",
       "  <thead>\n",
       "    <tr style=\"text-align: right;\">\n",
       "      <th></th>\n",
       "      <th>품목명</th>\n",
       "      <th>단위</th>\n",
       "      <th>가격</th>\n",
       "    </tr>\n",
       "    <tr>\n",
       "      <th>입력일</th>\n",
       "      <th></th>\n",
       "      <th></th>\n",
       "      <th></th>\n",
       "    </tr>\n",
       "  </thead>\n",
       "  <tbody>\n",
       "    <tr>\n",
       "      <th>20171101</th>\n",
       "      <td>포도</td>\n",
       "      <td>4kg</td>\n",
       "      <td>33000</td>\n",
       "    </tr>\n",
       "    <tr>\n",
       "      <th>20171101</th>\n",
       "      <td>감</td>\n",
       "      <td>10kg</td>\n",
       "      <td>7500</td>\n",
       "    </tr>\n",
       "    <tr>\n",
       "      <th>20171101</th>\n",
       "      <td>포도</td>\n",
       "      <td>2kg</td>\n",
       "      <td>18000</td>\n",
       "    </tr>\n",
       "    <tr>\n",
       "      <th>20171101</th>\n",
       "      <td>감</td>\n",
       "      <td>10kg</td>\n",
       "      <td>7500</td>\n",
       "    </tr>\n",
       "    <tr>\n",
       "      <th>20171101</th>\n",
       "      <td>포도</td>\n",
       "      <td>2kg</td>\n",
       "      <td>15000</td>\n",
       "    </tr>\n",
       "  </tbody>\n",
       "</table>\n",
       "</div>"
      ],
      "text/plain": [
       "         품목명    단위     가격\n",
       "입력일                      \n",
       "20171101  포도   4kg  33000\n",
       "20171101   감  10kg   7500\n",
       "20171101  포도   2kg  18000\n",
       "20171101   감  10kg   7500\n",
       "20171101  포도   2kg  15000"
      ]
     },
     "execution_count": 21,
     "metadata": {},
     "output_type": "execute_result"
    }
   ],
   "source": [
    "data_uni.head()"
   ]
  },
  {
   "cell_type": "code",
   "execution_count": 23,
   "metadata": {},
   "outputs": [],
   "source": [
    "import re\n",
    "def extract_number(unit):\n",
    "    if isinstance(unit, str):\n",
    "        match = re.search(r'\\d+', unit)\n",
    "        return float(match.group()) if match else None\n",
    "    return unit\n",
    "\n",
    "data_uni['단위'] = data_uni['단위'].apply(extract_number)"
   ]
  },
  {
   "cell_type": "code",
   "execution_count": 30,
   "metadata": {},
   "outputs": [
    {
     "data": {
      "text/html": [
       "<div>\n",
       "<style scoped>\n",
       "    .dataframe tbody tr th:only-of-type {\n",
       "        vertical-align: middle;\n",
       "    }\n",
       "\n",
       "    .dataframe tbody tr th {\n",
       "        vertical-align: top;\n",
       "    }\n",
       "\n",
       "    .dataframe thead th {\n",
       "        text-align: right;\n",
       "    }\n",
       "</style>\n",
       "<table border=\"1\" class=\"dataframe\">\n",
       "  <thead>\n",
       "    <tr style=\"text-align: right;\">\n",
       "      <th></th>\n",
       "      <th>품목명</th>\n",
       "      <th>단위</th>\n",
       "      <th>가격</th>\n",
       "    </tr>\n",
       "    <tr>\n",
       "      <th>입력일</th>\n",
       "      <th></th>\n",
       "      <th></th>\n",
       "      <th></th>\n",
       "    </tr>\n",
       "  </thead>\n",
       "  <tbody>\n",
       "  </tbody>\n",
       "</table>\n",
       "</div>"
      ],
      "text/plain": [
       "Empty DataFrame\n",
       "Columns: [품목명, 단위, 가격]\n",
       "Index: []"
      ]
     },
     "execution_count": 30,
     "metadata": {},
     "output_type": "execute_result"
    }
   ],
   "source": [
    "data_uni[data_uni['단위'] == 0].__len__\n",
    "data_uni.drop(data_uni[data_uni['단위'] == 0].index, inplace=True)\n",
    "data_uni[data_uni['단위'] == 0]"
   ]
  },
  {
   "cell_type": "code",
   "execution_count": 33,
   "metadata": {},
   "outputs": [
    {
     "data": {
      "text/plain": [
       "pandas.core.series.Series"
      ]
     },
     "execution_count": 33,
     "metadata": {},
     "output_type": "execute_result"
    }
   ],
   "source": [
    "type(data_uni['가격'])"
   ]
  },
  {
   "cell_type": "code",
   "execution_count": 34,
   "metadata": {},
   "outputs": [
    {
     "ename": "TypeError",
     "evalue": "unsupported operand type(s) for /: 'str' and 'float'",
     "output_type": "error",
     "traceback": [
      "\u001b[0;31m---------------------------------------------------------------------------\u001b[0m",
      "\u001b[0;31mTypeError\u001b[0m                                 Traceback (most recent call last)",
      "File \u001b[0;32m/opt/homebrew/lib/python3.11/site-packages/pandas/core/ops/array_ops.py:171\u001b[0m, in \u001b[0;36m_na_arithmetic_op\u001b[0;34m(left, right, op, is_cmp)\u001b[0m\n\u001b[1;32m    170\u001b[0m \u001b[38;5;28;01mtry\u001b[39;00m:\n\u001b[0;32m--> 171\u001b[0m     result \u001b[38;5;241m=\u001b[39m \u001b[43mfunc\u001b[49m\u001b[43m(\u001b[49m\u001b[43mleft\u001b[49m\u001b[43m,\u001b[49m\u001b[43m \u001b[49m\u001b[43mright\u001b[49m\u001b[43m)\u001b[49m\n\u001b[1;32m    172\u001b[0m \u001b[38;5;28;01mexcept\u001b[39;00m \u001b[38;5;167;01mTypeError\u001b[39;00m:\n",
      "File \u001b[0;32m/opt/homebrew/lib/python3.11/site-packages/pandas/core/computation/expressions.py:239\u001b[0m, in \u001b[0;36mevaluate\u001b[0;34m(op, a, b, use_numexpr)\u001b[0m\n\u001b[1;32m    237\u001b[0m     \u001b[38;5;28;01mif\u001b[39;00m use_numexpr:\n\u001b[1;32m    238\u001b[0m         \u001b[38;5;66;03m# error: \"None\" not callable\u001b[39;00m\n\u001b[0;32m--> 239\u001b[0m         \u001b[38;5;28;01mreturn\u001b[39;00m \u001b[43m_evaluate\u001b[49m\u001b[43m(\u001b[49m\u001b[43mop\u001b[49m\u001b[43m,\u001b[49m\u001b[43m \u001b[49m\u001b[43mop_str\u001b[49m\u001b[43m,\u001b[49m\u001b[43m \u001b[49m\u001b[43ma\u001b[49m\u001b[43m,\u001b[49m\u001b[43m \u001b[49m\u001b[43mb\u001b[49m\u001b[43m)\u001b[49m  \u001b[38;5;66;03m# type: ignore[misc]\u001b[39;00m\n\u001b[1;32m    240\u001b[0m \u001b[38;5;28;01mreturn\u001b[39;00m _evaluate_standard(op, op_str, a, b)\n",
      "File \u001b[0;32m/opt/homebrew/lib/python3.11/site-packages/pandas/core/computation/expressions.py:70\u001b[0m, in \u001b[0;36m_evaluate_standard\u001b[0;34m(op, op_str, a, b)\u001b[0m\n\u001b[1;32m     69\u001b[0m     _store_test_result(\u001b[38;5;28;01mFalse\u001b[39;00m)\n\u001b[0;32m---> 70\u001b[0m \u001b[38;5;28;01mreturn\u001b[39;00m op(a, b)\n",
      "\u001b[0;31mTypeError\u001b[0m: unsupported operand type(s) for /: 'str' and 'float'",
      "\nDuring handling of the above exception, another exception occurred:\n",
      "\u001b[0;31mTypeError\u001b[0m                                 Traceback (most recent call last)",
      "Cell \u001b[0;32mIn[34], line 2\u001b[0m\n\u001b[1;32m      1\u001b[0m \u001b[38;5;66;03m# data_uni['가격'] = data_uni['가격'].apply(lambda x: x.replace(',', '')).astype(int)\u001b[39;00m\n\u001b[0;32m----> 2\u001b[0m data_uni[\u001b[38;5;124m'\u001b[39m\u001b[38;5;124mprice_per_unit\u001b[39m\u001b[38;5;124m'\u001b[39m] \u001b[38;5;241m=\u001b[39m \u001b[43mdata_uni\u001b[49m\u001b[43m[\u001b[49m\u001b[38;5;124;43m'\u001b[39;49m\u001b[38;5;124;43m가격\u001b[39;49m\u001b[38;5;124;43m'\u001b[39;49m\u001b[43m]\u001b[49m\u001b[43m \u001b[49m\u001b[38;5;241;43m/\u001b[39;49m\u001b[43m \u001b[49m\u001b[43mdata_uni\u001b[49m\u001b[43m[\u001b[49m\u001b[38;5;124;43m'\u001b[39;49m\u001b[38;5;124;43m단위\u001b[39;49m\u001b[38;5;124;43m'\u001b[39;49m\u001b[43m]\u001b[49m\n\u001b[1;32m      3\u001b[0m data_uni\u001b[38;5;241m.\u001b[39mhead()\n",
      "File \u001b[0;32m/opt/homebrew/lib/python3.11/site-packages/pandas/core/ops/common.py:81\u001b[0m, in \u001b[0;36m_unpack_zerodim_and_defer.<locals>.new_method\u001b[0;34m(self, other)\u001b[0m\n\u001b[1;32m     77\u001b[0m             \u001b[38;5;28;01mreturn\u001b[39;00m \u001b[38;5;28mNotImplemented\u001b[39m\n\u001b[1;32m     79\u001b[0m other \u001b[38;5;241m=\u001b[39m item_from_zerodim(other)\n\u001b[0;32m---> 81\u001b[0m \u001b[38;5;28;01mreturn\u001b[39;00m \u001b[43mmethod\u001b[49m\u001b[43m(\u001b[49m\u001b[38;5;28;43mself\u001b[39;49m\u001b[43m,\u001b[49m\u001b[43m \u001b[49m\u001b[43mother\u001b[49m\u001b[43m)\u001b[49m\n",
      "File \u001b[0;32m/opt/homebrew/lib/python3.11/site-packages/pandas/core/arraylike.py:210\u001b[0m, in \u001b[0;36mOpsMixin.__truediv__\u001b[0;34m(self, other)\u001b[0m\n\u001b[1;32m    208\u001b[0m \u001b[38;5;129m@unpack_zerodim_and_defer\u001b[39m(\u001b[38;5;124m\"\u001b[39m\u001b[38;5;124m__truediv__\u001b[39m\u001b[38;5;124m\"\u001b[39m)\n\u001b[1;32m    209\u001b[0m \u001b[38;5;28;01mdef\u001b[39;00m \u001b[38;5;21m__truediv__\u001b[39m(\u001b[38;5;28mself\u001b[39m, other):\n\u001b[0;32m--> 210\u001b[0m     \u001b[38;5;28;01mreturn\u001b[39;00m \u001b[38;5;28;43mself\u001b[39;49m\u001b[38;5;241;43m.\u001b[39;49m\u001b[43m_arith_method\u001b[49m\u001b[43m(\u001b[49m\u001b[43mother\u001b[49m\u001b[43m,\u001b[49m\u001b[43m \u001b[49m\u001b[43moperator\u001b[49m\u001b[38;5;241;43m.\u001b[39;49m\u001b[43mtruediv\u001b[49m\u001b[43m)\u001b[49m\n",
      "File \u001b[0;32m/opt/homebrew/lib/python3.11/site-packages/pandas/core/series.py:6108\u001b[0m, in \u001b[0;36mSeries._arith_method\u001b[0;34m(self, other, op)\u001b[0m\n\u001b[1;32m   6106\u001b[0m \u001b[38;5;28;01mdef\u001b[39;00m \u001b[38;5;21m_arith_method\u001b[39m(\u001b[38;5;28mself\u001b[39m, other, op):\n\u001b[1;32m   6107\u001b[0m     \u001b[38;5;28mself\u001b[39m, other \u001b[38;5;241m=\u001b[39m ops\u001b[38;5;241m.\u001b[39malign_method_SERIES(\u001b[38;5;28mself\u001b[39m, other)\n\u001b[0;32m-> 6108\u001b[0m     \u001b[38;5;28;01mreturn\u001b[39;00m \u001b[43mbase\u001b[49m\u001b[38;5;241;43m.\u001b[39;49m\u001b[43mIndexOpsMixin\u001b[49m\u001b[38;5;241;43m.\u001b[39;49m\u001b[43m_arith_method\u001b[49m\u001b[43m(\u001b[49m\u001b[38;5;28;43mself\u001b[39;49m\u001b[43m,\u001b[49m\u001b[43m \u001b[49m\u001b[43mother\u001b[49m\u001b[43m,\u001b[49m\u001b[43m \u001b[49m\u001b[43mop\u001b[49m\u001b[43m)\u001b[49m\n",
      "File \u001b[0;32m/opt/homebrew/lib/python3.11/site-packages/pandas/core/base.py:1348\u001b[0m, in \u001b[0;36mIndexOpsMixin._arith_method\u001b[0;34m(self, other, op)\u001b[0m\n\u001b[1;32m   1345\u001b[0m rvalues \u001b[38;5;241m=\u001b[39m ensure_wrapped_if_datetimelike(rvalues)\n\u001b[1;32m   1347\u001b[0m \u001b[38;5;28;01mwith\u001b[39;00m np\u001b[38;5;241m.\u001b[39merrstate(\u001b[38;5;28mall\u001b[39m\u001b[38;5;241m=\u001b[39m\u001b[38;5;124m\"\u001b[39m\u001b[38;5;124mignore\u001b[39m\u001b[38;5;124m\"\u001b[39m):\n\u001b[0;32m-> 1348\u001b[0m     result \u001b[38;5;241m=\u001b[39m \u001b[43mops\u001b[49m\u001b[38;5;241;43m.\u001b[39;49m\u001b[43marithmetic_op\u001b[49m\u001b[43m(\u001b[49m\u001b[43mlvalues\u001b[49m\u001b[43m,\u001b[49m\u001b[43m \u001b[49m\u001b[43mrvalues\u001b[49m\u001b[43m,\u001b[49m\u001b[43m \u001b[49m\u001b[43mop\u001b[49m\u001b[43m)\u001b[49m\n\u001b[1;32m   1350\u001b[0m \u001b[38;5;28;01mreturn\u001b[39;00m \u001b[38;5;28mself\u001b[39m\u001b[38;5;241m.\u001b[39m_construct_result(result, name\u001b[38;5;241m=\u001b[39mres_name)\n",
      "File \u001b[0;32m/opt/homebrew/lib/python3.11/site-packages/pandas/core/ops/array_ops.py:232\u001b[0m, in \u001b[0;36marithmetic_op\u001b[0;34m(left, right, op)\u001b[0m\n\u001b[1;32m    228\u001b[0m     _bool_arith_check(op, left, right)\n\u001b[1;32m    230\u001b[0m     \u001b[38;5;66;03m# error: Argument 1 to \"_na_arithmetic_op\" has incompatible type\u001b[39;00m\n\u001b[1;32m    231\u001b[0m     \u001b[38;5;66;03m# \"Union[ExtensionArray, ndarray[Any, Any]]\"; expected \"ndarray[Any, Any]\"\u001b[39;00m\n\u001b[0;32m--> 232\u001b[0m     res_values \u001b[38;5;241m=\u001b[39m \u001b[43m_na_arithmetic_op\u001b[49m\u001b[43m(\u001b[49m\u001b[43mleft\u001b[49m\u001b[43m,\u001b[49m\u001b[43m \u001b[49m\u001b[43mright\u001b[49m\u001b[43m,\u001b[49m\u001b[43m \u001b[49m\u001b[43mop\u001b[49m\u001b[43m)\u001b[49m  \u001b[38;5;66;03m# type: ignore[arg-type]\u001b[39;00m\n\u001b[1;32m    234\u001b[0m \u001b[38;5;28;01mreturn\u001b[39;00m res_values\n",
      "File \u001b[0;32m/opt/homebrew/lib/python3.11/site-packages/pandas/core/ops/array_ops.py:178\u001b[0m, in \u001b[0;36m_na_arithmetic_op\u001b[0;34m(left, right, op, is_cmp)\u001b[0m\n\u001b[1;32m    172\u001b[0m \u001b[38;5;28;01mexcept\u001b[39;00m \u001b[38;5;167;01mTypeError\u001b[39;00m:\n\u001b[1;32m    173\u001b[0m     \u001b[38;5;28;01mif\u001b[39;00m \u001b[38;5;129;01mnot\u001b[39;00m is_cmp \u001b[38;5;129;01mand\u001b[39;00m (is_object_dtype(left\u001b[38;5;241m.\u001b[39mdtype) \u001b[38;5;129;01mor\u001b[39;00m is_object_dtype(right)):\n\u001b[1;32m    174\u001b[0m         \u001b[38;5;66;03m# For object dtype, fallback to a masked operation (only operating\u001b[39;00m\n\u001b[1;32m    175\u001b[0m         \u001b[38;5;66;03m#  on the non-missing values)\u001b[39;00m\n\u001b[1;32m    176\u001b[0m         \u001b[38;5;66;03m# Don't do this for comparisons, as that will handle complex numbers\u001b[39;00m\n\u001b[1;32m    177\u001b[0m         \u001b[38;5;66;03m#  incorrectly, see GH#32047\u001b[39;00m\n\u001b[0;32m--> 178\u001b[0m         result \u001b[38;5;241m=\u001b[39m \u001b[43m_masked_arith_op\u001b[49m\u001b[43m(\u001b[49m\u001b[43mleft\u001b[49m\u001b[43m,\u001b[49m\u001b[43m \u001b[49m\u001b[43mright\u001b[49m\u001b[43m,\u001b[49m\u001b[43m \u001b[49m\u001b[43mop\u001b[49m\u001b[43m)\u001b[49m\n\u001b[1;32m    179\u001b[0m     \u001b[38;5;28;01melse\u001b[39;00m:\n\u001b[1;32m    180\u001b[0m         \u001b[38;5;28;01mraise\u001b[39;00m\n",
      "File \u001b[0;32m/opt/homebrew/lib/python3.11/site-packages/pandas/core/ops/array_ops.py:116\u001b[0m, in \u001b[0;36m_masked_arith_op\u001b[0;34m(x, y, op)\u001b[0m\n\u001b[1;32m    114\u001b[0m     \u001b[38;5;66;03m# See GH#5284, GH#5035, GH#19448 for historical reference\u001b[39;00m\n\u001b[1;32m    115\u001b[0m     \u001b[38;5;28;01mif\u001b[39;00m mask\u001b[38;5;241m.\u001b[39many():\n\u001b[0;32m--> 116\u001b[0m         result[mask] \u001b[38;5;241m=\u001b[39m \u001b[43mop\u001b[49m\u001b[43m(\u001b[49m\u001b[43mxrav\u001b[49m\u001b[43m[\u001b[49m\u001b[43mmask\u001b[49m\u001b[43m]\u001b[49m\u001b[43m,\u001b[49m\u001b[43m \u001b[49m\u001b[43myrav\u001b[49m\u001b[43m[\u001b[49m\u001b[43mmask\u001b[49m\u001b[43m]\u001b[49m\u001b[43m)\u001b[49m\n\u001b[1;32m    118\u001b[0m \u001b[38;5;28;01melse\u001b[39;00m:\n\u001b[1;32m    119\u001b[0m     \u001b[38;5;28;01mif\u001b[39;00m \u001b[38;5;129;01mnot\u001b[39;00m is_scalar(y):\n",
      "\u001b[0;31mTypeError\u001b[0m: unsupported operand type(s) for /: 'str' and 'float'"
     ]
    }
   ],
   "source": [
    "# data_uni['가격'] = data_uni['가격'].apply(lambda x: x.replace(',', '')).astype(int)\n",
    "data_uni['price_per_unit'] = data_uni['가격'] / data_uni['단위']\n",
    "data_uni.head()"
   ]
  },
  {
   "cell_type": "code",
   "execution_count": null,
   "metadata": {},
   "outputs": [],
   "source": []
  },
  {
   "cell_type": "code",
   "execution_count": 17,
   "metadata": {},
   "outputs": [
    {
     "data": {
      "text/html": [
       "<div>\n",
       "<style scoped>\n",
       "    .dataframe tbody tr th:only-of-type {\n",
       "        vertical-align: middle;\n",
       "    }\n",
       "\n",
       "    .dataframe tbody tr th {\n",
       "        vertical-align: top;\n",
       "    }\n",
       "\n",
       "    .dataframe thead th {\n",
       "        text-align: right;\n",
       "    }\n",
       "</style>\n",
       "<table border=\"1\" class=\"dataframe\">\n",
       "  <thead>\n",
       "    <tr style=\"text-align: right;\">\n",
       "      <th></th>\n",
       "      <th>품목명</th>\n",
       "      <th>단위</th>\n",
       "      <th>등급</th>\n",
       "      <th>가격</th>\n",
       "      <th>산지</th>\n",
       "      <th>친환경구분</th>\n",
       "      <th>입력일</th>\n",
       "    </tr>\n",
       "  </thead>\n",
       "  <tbody>\n",
       "    <tr>\n",
       "      <th>361</th>\n",
       "      <td>감귤</td>\n",
       "      <td>5kg</td>\n",
       "      <td>특(1등)</td>\n",
       "      <td>5500</td>\n",
       "      <td>충남 서산시</td>\n",
       "      <td>일반</td>\n",
       "      <td>20171101</td>\n",
       "    </tr>\n",
       "    <tr>\n",
       "      <th>363</th>\n",
       "      <td>감귤</td>\n",
       "      <td>5kg</td>\n",
       "      <td>특(1등)</td>\n",
       "      <td>3000</td>\n",
       "      <td>충남 서산시</td>\n",
       "      <td>일반</td>\n",
       "      <td>20171101</td>\n",
       "    </tr>\n",
       "    <tr>\n",
       "      <th>365</th>\n",
       "      <td>감귤</td>\n",
       "      <td>5kg</td>\n",
       "      <td>특(1등)</td>\n",
       "      <td>3500</td>\n",
       "      <td>제주도 서귀포시</td>\n",
       "      <td>일반</td>\n",
       "      <td>20171101</td>\n",
       "    </tr>\n",
       "    <tr>\n",
       "      <th>367</th>\n",
       "      <td>감귤</td>\n",
       "      <td>5kg</td>\n",
       "      <td>특(1등)</td>\n",
       "      <td>4000</td>\n",
       "      <td>제주도 서귀포시</td>\n",
       "      <td>일반</td>\n",
       "      <td>20171101</td>\n",
       "    </tr>\n",
       "    <tr>\n",
       "      <th>369</th>\n",
       "      <td>감귤</td>\n",
       "      <td>5kg</td>\n",
       "      <td>특(1등)</td>\n",
       "      <td>4500</td>\n",
       "      <td>제주도 서귀포시</td>\n",
       "      <td>일반</td>\n",
       "      <td>20171101</td>\n",
       "    </tr>\n",
       "    <tr>\n",
       "      <th>...</th>\n",
       "      <td>...</td>\n",
       "      <td>...</td>\n",
       "      <td>...</td>\n",
       "      <td>...</td>\n",
       "      <td>...</td>\n",
       "      <td>...</td>\n",
       "      <td>...</td>\n",
       "    </tr>\n",
       "    <tr>\n",
       "      <th>44820320</th>\n",
       "      <td>감귤</td>\n",
       "      <td>1.5kg</td>\n",
       "      <td>특(1등)</td>\n",
       "      <td>24000</td>\n",
       "      <td>제주자치도 서귀포시</td>\n",
       "      <td>일반</td>\n",
       "      <td>20240430</td>\n",
       "    </tr>\n",
       "    <tr>\n",
       "      <th>44820321</th>\n",
       "      <td>감귤</td>\n",
       "      <td>3kg</td>\n",
       "      <td>특(1등)</td>\n",
       "      <td>10000</td>\n",
       "      <td>제주자치도 서귀포시</td>\n",
       "      <td>일반</td>\n",
       "      <td>20240430</td>\n",
       "    </tr>\n",
       "    <tr>\n",
       "      <th>44820322</th>\n",
       "      <td>감귤</td>\n",
       "      <td>9.6kg</td>\n",
       "      <td>특(1등)</td>\n",
       "      <td>150000</td>\n",
       "      <td>제주자치도 서귀포시</td>\n",
       "      <td>일반</td>\n",
       "      <td>20240430</td>\n",
       "    </tr>\n",
       "    <tr>\n",
       "      <th>44820323</th>\n",
       "      <td>감귤</td>\n",
       "      <td>8kg</td>\n",
       "      <td>특(1등)</td>\n",
       "      <td>128000</td>\n",
       "      <td>제주자치도 서귀포시</td>\n",
       "      <td>일반</td>\n",
       "      <td>20240430</td>\n",
       "    </tr>\n",
       "    <tr>\n",
       "      <th>44820324</th>\n",
       "      <td>감귤</td>\n",
       "      <td>1.5kg</td>\n",
       "      <td>특(1등)</td>\n",
       "      <td>24000</td>\n",
       "      <td>제주자치도 서귀포시</td>\n",
       "      <td>일반</td>\n",
       "      <td>20240430</td>\n",
       "    </tr>\n",
       "  </tbody>\n",
       "</table>\n",
       "<p>988103 rows × 7 columns</p>\n",
       "</div>"
      ],
      "text/plain": [
       "         품목명     단위     등급      가격          산지 친환경구분       입력일\n",
       "361       감귤    5kg  특(1등)    5500      충남 서산시    일반  20171101\n",
       "363       감귤    5kg  특(1등)    3000      충남 서산시    일반  20171101\n",
       "365       감귤    5kg  특(1등)    3500    제주도 서귀포시    일반  20171101\n",
       "367       감귤    5kg  특(1등)    4000    제주도 서귀포시    일반  20171101\n",
       "369       감귤    5kg  특(1등)    4500    제주도 서귀포시    일반  20171101\n",
       "...       ..    ...    ...     ...         ...   ...       ...\n",
       "44820320  감귤  1.5kg  특(1등)   24000  제주자치도 서귀포시    일반  20240430\n",
       "44820321  감귤    3kg  특(1등)   10000  제주자치도 서귀포시    일반  20240430\n",
       "44820322  감귤  9.6kg  특(1등)  150000  제주자치도 서귀포시    일반  20240430\n",
       "44820323  감귤    8kg  특(1등)  128000  제주자치도 서귀포시    일반  20240430\n",
       "44820324  감귤  1.5kg  특(1등)   24000  제주자치도 서귀포시    일반  20240430\n",
       "\n",
       "[988103 rows x 7 columns]"
      ]
     },
     "execution_count": 17,
     "metadata": {},
     "output_type": "execute_result"
    }
   ],
   "source": [
    "data_uni[data_uni['품목명']=='감귤']"
   ]
  },
  {
   "cell_type": "code",
   "execution_count": 57,
   "metadata": {},
   "outputs": [
    {
     "data": {
      "text/plain": [
       "array([20240103, 20240104, 20240105, 20240106, 20240108, 20240109,\n",
       "       20240110, 20240111, 20240112, 20240113, 20240115, 20240116,\n",
       "       20240117, 20240118, 20240119, 20240120, 20240122, 20240123,\n",
       "       20240124, 20240125, 20240126, 20240127, 20240129, 20240130,\n",
       "       20240131])"
      ]
     },
     "execution_count": 57,
     "metadata": {},
     "output_type": "execute_result"
    }
   ],
   "source": [
    "data_onion = data_24_1[data_24_1['품목명'].str.contains('\\[양파\\]')]\n",
    "data_onion['입력일'].unique()"
   ]
  },
  {
   "cell_type": "code",
   "execution_count": 58,
   "metadata": {},
   "outputs": [
    {
     "name": "stdout",
     "output_type": "stream",
     "text": [
      "(10486, 7)\n"
     ]
    },
    {
     "data": {
      "text/html": [
       "<div>\n",
       "<style scoped>\n",
       "    .dataframe tbody tr th:only-of-type {\n",
       "        vertical-align: middle;\n",
       "    }\n",
       "\n",
       "    .dataframe tbody tr th {\n",
       "        vertical-align: top;\n",
       "    }\n",
       "\n",
       "    .dataframe thead th {\n",
       "        text-align: right;\n",
       "    }\n",
       "</style>\n",
       "<table border=\"1\" class=\"dataframe\">\n",
       "  <thead>\n",
       "    <tr style=\"text-align: right;\">\n",
       "      <th></th>\n",
       "      <th>품목명</th>\n",
       "      <th>단위</th>\n",
       "      <th>등급</th>\n",
       "      <th>가격</th>\n",
       "      <th>산지</th>\n",
       "      <th>친환경구분</th>\n",
       "      <th>입력일</th>\n",
       "    </tr>\n",
       "  </thead>\n",
       "  <tbody>\n",
       "    <tr>\n",
       "      <th>38115</th>\n",
       "      <td>[양파]깐양파</td>\n",
       "      <td>10kg</td>\n",
       "      <td>특(1등)</td>\n",
       "      <td>19000</td>\n",
       "      <td>충청남도 홍성군</td>\n",
       "      <td>일반</td>\n",
       "      <td>20240103</td>\n",
       "    </tr>\n",
       "    <tr>\n",
       "      <th>38116</th>\n",
       "      <td>[양파]깐양파</td>\n",
       "      <td>10kg</td>\n",
       "      <td>특(1등)</td>\n",
       "      <td>19000</td>\n",
       "      <td>경기도 광주시</td>\n",
       "      <td>일반</td>\n",
       "      <td>20240103</td>\n",
       "    </tr>\n",
       "    <tr>\n",
       "      <th>38117</th>\n",
       "      <td>[양파]깐양파</td>\n",
       "      <td>10kg</td>\n",
       "      <td>특(1등)</td>\n",
       "      <td>19000</td>\n",
       "      <td>전라남도 무안군</td>\n",
       "      <td>일반</td>\n",
       "      <td>20240103</td>\n",
       "    </tr>\n",
       "    <tr>\n",
       "      <th>38118</th>\n",
       "      <td>[양파]깐양파</td>\n",
       "      <td>10kg</td>\n",
       "      <td>특(1등)</td>\n",
       "      <td>17000</td>\n",
       "      <td>전라남도 무안군</td>\n",
       "      <td>일반</td>\n",
       "      <td>20240103</td>\n",
       "    </tr>\n",
       "    <tr>\n",
       "      <th>38119</th>\n",
       "      <td>[양파]양파</td>\n",
       "      <td>15kg</td>\n",
       "      <td>9등(등외)</td>\n",
       "      <td>20000</td>\n",
       "      <td>전라남도 무안군</td>\n",
       "      <td>일반</td>\n",
       "      <td>20240103</td>\n",
       "    </tr>\n",
       "  </tbody>\n",
       "</table>\n",
       "</div>"
      ],
      "text/plain": [
       "           품목명    단위      등급     가격        산지 친환경구분       입력일\n",
       "38115  [양파]깐양파  10kg   특(1등)  19000  충청남도 홍성군    일반  20240103\n",
       "38116  [양파]깐양파  10kg   특(1등)  19000   경기도 광주시    일반  20240103\n",
       "38117  [양파]깐양파  10kg   특(1등)  19000  전라남도 무안군    일반  20240103\n",
       "38118  [양파]깐양파  10kg   특(1등)  17000  전라남도 무안군    일반  20240103\n",
       "38119   [양파]양파  15kg  9등(등외)  20000  전라남도 무안군    일반  20240103"
      ]
     },
     "execution_count": 58,
     "metadata": {},
     "output_type": "execute_result"
    }
   ],
   "source": [
    "print(data_onion.shape)\n",
    "data_onion.head()"
   ]
  },
  {
   "cell_type": "code",
   "execution_count": 59,
   "metadata": {},
   "outputs": [
    {
     "data": {
      "text/html": [
       "<div>\n",
       "<style scoped>\n",
       "    .dataframe tbody tr th:only-of-type {\n",
       "        vertical-align: middle;\n",
       "    }\n",
       "\n",
       "    .dataframe tbody tr th {\n",
       "        vertical-align: top;\n",
       "    }\n",
       "\n",
       "    .dataframe thead th {\n",
       "        text-align: right;\n",
       "    }\n",
       "</style>\n",
       "<table border=\"1\" class=\"dataframe\">\n",
       "  <thead>\n",
       "    <tr style=\"text-align: right;\">\n",
       "      <th></th>\n",
       "      <th>가격</th>\n",
       "    </tr>\n",
       "    <tr>\n",
       "      <th>입력일</th>\n",
       "      <th></th>\n",
       "    </tr>\n",
       "  </thead>\n",
       "  <tbody>\n",
       "    <tr>\n",
       "      <th>20240103</th>\n",
       "      <td>15403.933566</td>\n",
       "    </tr>\n",
       "    <tr>\n",
       "      <th>20240104</th>\n",
       "      <td>14891.059603</td>\n",
       "    </tr>\n",
       "    <tr>\n",
       "      <th>20240105</th>\n",
       "      <td>15733.453237</td>\n",
       "    </tr>\n",
       "    <tr>\n",
       "      <th>20240106</th>\n",
       "      <td>16067.647059</td>\n",
       "    </tr>\n",
       "    <tr>\n",
       "      <th>20240108</th>\n",
       "      <td>16073.362069</td>\n",
       "    </tr>\n",
       "    <tr>\n",
       "      <th>20240109</th>\n",
       "      <td>16183.834586</td>\n",
       "    </tr>\n",
       "    <tr>\n",
       "      <th>20240110</th>\n",
       "      <td>15325.925926</td>\n",
       "    </tr>\n",
       "    <tr>\n",
       "      <th>20240111</th>\n",
       "      <td>15241.929499</td>\n",
       "    </tr>\n",
       "    <tr>\n",
       "      <th>20240112</th>\n",
       "      <td>13681.000000</td>\n",
       "    </tr>\n",
       "    <tr>\n",
       "      <th>20240113</th>\n",
       "      <td>13449.850299</td>\n",
       "    </tr>\n",
       "  </tbody>\n",
       "</table>\n",
       "</div>"
      ],
      "text/plain": [
       "                    가격\n",
       "입력일                   \n",
       "20240103  15403.933566\n",
       "20240104  14891.059603\n",
       "20240105  15733.453237\n",
       "20240106  16067.647059\n",
       "20240108  16073.362069\n",
       "20240109  16183.834586\n",
       "20240110  15325.925926\n",
       "20240111  15241.929499\n",
       "20240112  13681.000000\n",
       "20240113  13449.850299"
      ]
     },
     "execution_count": 59,
     "metadata": {},
     "output_type": "execute_result"
    }
   ],
   "source": [
    "data_onion = data_onion[['입력일', '가격']]\n",
    "data_onion = data_onion.groupby('입력일').mean()\n",
    "data_onion.head(10)\n"
   ]
  },
  {
   "cell_type": "code",
   "execution_count": 60,
   "metadata": {},
   "outputs": [
    {
     "data": {
      "text/plain": [
       "<Axes: xlabel='입력일'>"
      ]
     },
     "execution_count": 60,
     "metadata": {},
     "output_type": "execute_result"
    },
    {
     "name": "stderr",
     "output_type": "stream",
     "text": [
      "/Users/juhwan/Library/Python/3.11/lib/python/site-packages/IPython/core/events.py:93: UserWarning: Glyph 51077 (\\N{HANGUL SYLLABLE IB}) missing from current font.\n",
      "  func(*args, **kwargs)\n",
      "/Users/juhwan/Library/Python/3.11/lib/python/site-packages/IPython/core/events.py:93: UserWarning: Glyph 47141 (\\N{HANGUL SYLLABLE RYEOG}) missing from current font.\n",
      "  func(*args, **kwargs)\n",
      "/Users/juhwan/Library/Python/3.11/lib/python/site-packages/IPython/core/events.py:93: UserWarning: Glyph 51068 (\\N{HANGUL SYLLABLE IL}) missing from current font.\n",
      "  func(*args, **kwargs)\n",
      "/Users/juhwan/Library/Python/3.11/lib/python/site-packages/IPython/core/events.py:93: UserWarning: Glyph 44032 (\\N{HANGUL SYLLABLE GA}) missing from current font.\n",
      "  func(*args, **kwargs)\n",
      "/Users/juhwan/Library/Python/3.11/lib/python/site-packages/IPython/core/events.py:93: UserWarning: Glyph 44201 (\\N{HANGUL SYLLABLE GYEOG}) missing from current font.\n",
      "  func(*args, **kwargs)\n",
      "/Users/juhwan/Library/Python/3.11/lib/python/site-packages/IPython/core/pylabtools.py:152: UserWarning: Glyph 51077 (\\N{HANGUL SYLLABLE IB}) missing from current font.\n",
      "  fig.canvas.print_figure(bytes_io, **kw)\n",
      "/Users/juhwan/Library/Python/3.11/lib/python/site-packages/IPython/core/pylabtools.py:152: UserWarning: Glyph 47141 (\\N{HANGUL SYLLABLE RYEOG}) missing from current font.\n",
      "  fig.canvas.print_figure(bytes_io, **kw)\n",
      "/Users/juhwan/Library/Python/3.11/lib/python/site-packages/IPython/core/pylabtools.py:152: UserWarning: Glyph 51068 (\\N{HANGUL SYLLABLE IL}) missing from current font.\n",
      "  fig.canvas.print_figure(bytes_io, **kw)\n",
      "/Users/juhwan/Library/Python/3.11/lib/python/site-packages/IPython/core/pylabtools.py:152: UserWarning: Glyph 44032 (\\N{HANGUL SYLLABLE GA}) missing from current font.\n",
      "  fig.canvas.print_figure(bytes_io, **kw)\n",
      "/Users/juhwan/Library/Python/3.11/lib/python/site-packages/IPython/core/pylabtools.py:152: UserWarning: Glyph 44201 (\\N{HANGUL SYLLABLE GYEOG}) missing from current font.\n",
      "  fig.canvas.print_figure(bytes_io, **kw)\n"
     ]
    },
    {
     "data": {
      "image/png": "[encoded data removed]",
      "text/plain": [
       "<Figure size 640x480 with 1 Axes>"
      ]
     },
     "metadata": {},
     "output_type": "display_data"
    }
   ],
   "source": [
    "data_onion.plot()"
   ]
  },
  {
   "cell_type": "markdown",
   "metadata": {},
   "source": [
    "Data Split"
   ]
  },
  {
   "cell_type": "code",
   "execution_count": 63,
   "metadata": {},
   "outputs": [
    {
     "name": "stdout",
     "output_type": "stream",
     "text": [
      "(17, 1) (5, 1) (3, 1)\n"
     ]
    }
   ],
   "source": [
    "data_onion_train, rest = train_test_split(data_onion, test_size=0.3, shuffle=False)\n",
    "data_onion_test, data_onion_valid = train_test_split(rest, test_size=1/3, shuffle=False)\n",
    "print(data_onion_train.shape, data_onion_test.shape, data_onion_valid.shape)"
   ]
  },
  {
   "cell_type": "markdown",
   "metadata": {},
   "source": [
    "Model 정의"
   ]
  },
  {
   "cell_type": "code",
   "execution_count": null,
   "metadata": {},
   "outputs": [],
   "source": []
  }
 ],
 "metadata": {
  "kernelspec": {
   "display_name": "Python 3",
   "language": "python",
   "name": "python3"
  },
  "language_info": {
   "codemirror_mode": {
    "name": "ipython",
    "version": 3
   },
   "file_extension": ".py",
   "mimetype": "text/x-python",
   "name": "python",
   "nbconvert_exporter": "python",
   "pygments_lexer": "ipython3",
   "version": "3.11.8"
  }
 },
 "nbformat": 4,
 "nbformat_minor": 2
}
