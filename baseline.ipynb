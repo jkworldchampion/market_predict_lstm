{
 "cells": [
  {
   "cell_type": "code",
   "execution_count": 2,
   "metadata": {},
   "outputs": [],
   "source": [
    "import pandas as pd\n",
    "import numpy as np\n",
    "import matplotlib.pyplot as plt\n",
    "import seaborn as sns\n",
    "from sklearn.model_selection import train_test_split\n",
    "import tensorflow as tf\n",
    "from tensorflow import keras\n",
    "from tensorflow.keras import layers\n",
    "from keras.models import Sequential\n",
    "from keras.layers import LSTM, Dense\n",
    "from keras.layers import Dropout\n",
    "from sklearn.preprocessing import MinMaxScaler"
   ]
  },
  {
   "cell_type": "code",
   "execution_count": 3,
   "metadata": {},
   "outputs": [],
   "source": [
    "data_2017 = pd.read_csv('data/auction_2017.csv', sep=';', encoding='cp949')\n",
    "data_2018 = pd.read_csv('data/auction_2018.csv', sep=';', encoding='cp949')\n",
    "data_2019_1 = pd.read_csv('data/auction_201901~06.csv', encoding='cp949')\n",
    "data_2019_2 = pd.read_csv('data/auction_201901~06.csv', encoding='cp949')"
   ]
  },
  {
   "cell_type": "code",
   "execution_count": 33,
   "metadata": {},
   "outputs": [],
   "source": [
    "data_20_1 = pd.read_csv('data/auction_202001.csv', encoding='cp949')\n",
    "data_20_2 = pd.read_csv('data/auction_202002.csv', encoding='cp949')\n",
    "data_20_3 = pd.read_csv('data/auction_202003.csv', encoding='cp949')\n",
    "data_20_4 = pd.read_csv('data/auction_202004.csv', encoding='cp949')\n",
    "data_20_5 = pd.read_csv('data/auction_202005.csv', encoding='cp949')\n",
    "data_20_6 = pd.read_csv('data/auction_202006.csv', encoding='cp949')\n",
    "# data_20_7 = pd.read_csv('data/auction_202007.csv', encoding='cp949')\n",
    "# data_20_8 = pd.read_csv('data/auction_202008.csv', encoding='cp949')\n",
    "data_20_9 = pd.read_csv('data/auction_202009.csv', encoding='cp949')\n",
    "data_20_10 = pd.read_csv('data/auction_202010.csv', encoding='cp949')\n",
    "data_20_11 = pd.read_csv('data/auction_202011.csv', encoding='cp949')\n",
    "data_20_12 = pd.read_csv('data/auction_202012.csv', encoding='cp949')\n",
    "\n",
    "data_21_1 = pd.read_csv('data/auction_202101.csv', encoding='cp949')\n",
    "data_21_2 = pd.read_csv('data/auction_202102.csv', encoding='cp949')\n",
    "data_21_3 = pd.read_csv('data/auction_202103.csv', encoding='cp949')\n",
    "data_21_4 = pd.read_csv('data/auction_202104.csv', encoding='cp949')\n",
    "data_21_5 = pd.read_csv('data/auction_202105.csv', encoding='cp949')\n",
    "data_21_6 = pd.read_csv('data/auction_202106.csv', encoding='cp949')\n",
    "data_21_7 = pd.read_csv('data/auction_202107.csv', encoding='cp949')\n",
    "data_21_8 = pd.read_csv('data/auction_202108.csv', encoding='cp949')\n",
    "data_21_9 = pd.read_csv('data/auction_202109.csv', encoding='cp949')\n",
    "data_21_10 = pd.read_csv('data/auction_202110.csv', encoding='cp949')\n",
    "data_21_11 = pd.read_csv('data/auction_202111.csv', encoding='cp949')\n",
    "data_21_12 = pd.read_csv('data/auction_202112.csv', encoding='cp949')\n",
    "\n",
    "data_22_1 = pd.read_csv('data/auction_202201.csv', encoding='cp949')\n",
    "data_22_2 = pd.read_csv('data/auction_202202.csv', encoding='cp949')\n",
    "data_22_3 = pd.read_csv('data/auction_202203.csv', encoding='cp949')\n",
    "data_22_4 = pd.read_csv('data/auction_202204.csv', encoding='cp949')\n",
    "data_22_5 = pd.read_csv('data/auction_202205.csv', encoding='cp949')\n",
    "data_22_6 = pd.read_csv('data/auction_202206.csv', encoding='cp949')\n",
    "data_22_7 = pd.read_csv('data/auction_202207.csv', encoding='cp949')\n",
    "data_22_8 = pd.read_csv('data/auction_202208.csv', encoding='cp949')\n",
    "data_22_9 = pd.read_csv('data/auction_202209.csv', encoding='cp949')\n",
    "data_22_10 = pd.read_csv('data/auction_202210.csv', encoding='cp949')\n",
    "data_22_11 = pd.read_csv('data/auction_202211.csv', encoding='cp949')\n",
    "data_22_12 = pd.read_csv('data/auction_202212.csv', encoding='cp949')\n",
    "\n",
    "data_23_1 = pd.read_csv('data/auction_202301.csv', encoding='cp949')\n",
    "data_23_2 = pd.read_csv('data/auction_202302.csv', encoding='cp949')\n",
    "data_23_3 = pd.read_csv('data/auction_202303.csv', encoding='cp949')\n",
    "data_23_4 = pd.read_csv('data/auction_202304.csv', encoding='cp949')\n",
    "data_23_5 = pd.read_csv('data/auction_202305.csv', encoding='cp949')\n",
    "data_23_6 = pd.read_csv('data/auction_202306.csv', encoding='cp949')\n",
    "data_23_7 = pd.read_csv('data/auction_202307.csv', encoding='cp949')\n",
    "data_23_8 = pd.read_csv('data/auction_202308.csv', encoding='cp949')\n",
    "data_23_9 = pd.read_csv('data/auction_202309.csv', encoding='cp949')\n",
    "data_23_10 = pd.read_csv('data/auction_202310.csv', encoding='cp949')\n",
    "data_23_11 = pd.read_csv('data/auction_202311.csv', encoding='cp949')\n",
    "data_23_12 = pd.read_csv('data/auction_202312.csv', encoding='cp949')\n",
    "\n",
    "data_24_1 = pd.read_csv('data/auction_202401.csv', encoding='cp949')\n",
    "data_24_2 = pd.read_csv('data/auction_202402.csv', encoding='cp949')\n",
    "data_24_3 = pd.read_csv('data/auction_202403.csv', encoding='cp949')\n",
    "data_24_4 = pd.read_csv('data/auction_202404.csv', encoding='cp949')"
   ]
  },
  {
   "cell_type": "code",
   "execution_count": 21,
   "metadata": {},
   "outputs": [
    {
     "data": {
      "text/html": [
       "<div>\n",
       "<style scoped>\n",
       "    .dataframe tbody tr th:only-of-type {\n",
       "        vertical-align: middle;\n",
       "    }\n",
       "\n",
       "    .dataframe tbody tr th {\n",
       "        vertical-align: top;\n",
       "    }\n",
       "\n",
       "    .dataframe thead th {\n",
       "        text-align: right;\n",
       "    }\n",
       "</style>\n",
       "<table border=\"1\" class=\"dataframe\">\n",
       "  <thead>\n",
       "    <tr style=\"text-align: right;\">\n",
       "      <th></th>\n",
       "      <th>품목명</th>\n",
       "      <th>단위</th>\n",
       "      <th>등급</th>\n",
       "      <th>가격</th>\n",
       "      <th>산지</th>\n",
       "      <th>친환경구분</th>\n",
       "      <th>입력일</th>\n",
       "    </tr>\n",
       "  </thead>\n",
       "  <tbody>\n",
       "    <tr>\n",
       "      <th>0</th>\n",
       "      <td>[가리비국산]가리비국산</td>\n",
       "      <td>5kg</td>\n",
       "      <td>보통(3등)</td>\n",
       "      <td>24000</td>\n",
       "      <td>경상남도 남해군</td>\n",
       "      <td>일반</td>\n",
       "      <td>20240401</td>\n",
       "    </tr>\n",
       "    <tr>\n",
       "      <th>1</th>\n",
       "      <td>[가리비국산]가리비국산</td>\n",
       "      <td>5kg</td>\n",
       "      <td>보통(3등)</td>\n",
       "      <td>24000</td>\n",
       "      <td>경상남도 남해군</td>\n",
       "      <td>일반</td>\n",
       "      <td>20240401</td>\n",
       "    </tr>\n",
       "    <tr>\n",
       "      <th>2</th>\n",
       "      <td>[가리비국산]가리비국산</td>\n",
       "      <td>10kg</td>\n",
       "      <td>보통(3등)</td>\n",
       "      <td>36000</td>\n",
       "      <td>전라남도 여수시</td>\n",
       "      <td>일반</td>\n",
       "      <td>20240401</td>\n",
       "    </tr>\n",
       "    <tr>\n",
       "      <th>3</th>\n",
       "      <td>[가리비국산]가리비국산</td>\n",
       "      <td>5kg</td>\n",
       "      <td>보통(3등)</td>\n",
       "      <td>24000</td>\n",
       "      <td>경상남도 통영시</td>\n",
       "      <td>일반</td>\n",
       "      <td>20240401</td>\n",
       "    </tr>\n",
       "    <tr>\n",
       "      <th>4</th>\n",
       "      <td>[가리비국산]가리비국산</td>\n",
       "      <td>5kg</td>\n",
       "      <td>보통(3등)</td>\n",
       "      <td>24000</td>\n",
       "      <td>경상남도 통영시</td>\n",
       "      <td>일반</td>\n",
       "      <td>20240401</td>\n",
       "    </tr>\n",
       "  </tbody>\n",
       "</table>\n",
       "</div>"
      ],
      "text/plain": [
       "            품목명    단위      등급     가격        산지 친환경구분       입력일\n",
       "0  [가리비국산]가리비국산   5kg  보통(3등)  24000  경상남도 남해군    일반  20240401\n",
       "1  [가리비국산]가리비국산   5kg  보통(3등)  24000  경상남도 남해군    일반  20240401\n",
       "2  [가리비국산]가리비국산  10kg  보통(3등)  36000  전라남도 여수시    일반  20240401\n",
       "3  [가리비국산]가리비국산   5kg  보통(3등)  24000  경상남도 통영시    일반  20240401\n",
       "4  [가리비국산]가리비국산   5kg  보통(3등)  24000  경상남도 통영시    일반  20240401"
      ]
     },
     "execution_count": 21,
     "metadata": {},
     "output_type": "execute_result"
    }
   ],
   "source": [
    "data_24_4.head()"
   ]
  },
  {
   "cell_type": "code",
   "execution_count": 34,
   "metadata": {},
   "outputs": [
    {
     "name": "stdout",
     "output_type": "stream",
     "text": [
      "             품목명     단위     등급        가격  산지     친환경구분                  입력일\n",
      "[무]열무        4kg  특(1등)   5000    경기 이천시  일반  20200701  2020-07-01 17:56:33\n",
      "[무]열무        4kg  특(1등)   4200    경기 이천시  일반  20200701  2020-07-01 17:56:34\n",
      "[복숭아]그린황도  2.5kg  특(1등)  15000  전라북도 남원시  일반  20200701  2020-07-01 18:48:58\n",
      "[복숭아]그린황도  2.5kg  특(1등)  19000  전라북도 남원시  일반  20200701  2020-07-01 18:48:56\n",
      "[복숭아]그린황도  2.5kg  특(1등)   7500  전라북도 남원시  일반  20200701  2020-07-01 18:48:54\n",
      "          품목명     단위     등급       가격  산지     친환경구분                  입력일\n",
      "[호박]애호박   8kg  특(1등)  17000  강원도 홍천군  일반  20200801  2020-08-01 16:50:33\n",
      "[자두]대왕자두  5kg  상(2등)   3000   경북 경산시  일반  20200801  2020-08-01 16:46:15\n",
      "[호박]애호박   8kg  특(1등)   6000  경기도 평택시  일반  20200801  2020-08-01 16:50:38\n",
      "[자두]대왕자두  5kg  특(1등)  24000   경북 경산시  일반  20200801  2020-08-01 16:46:15\n",
      "[호박]애호박   8kg  특(1등)  13500  경기도 평택시  일반  20200801  2020-08-01 16:50:38\n"
     ]
    }
   ],
   "source": [
    "data_20_7 = pd.read_csv('data/auction_202007.csv', encoding='cp949', header=0)\n",
    "data_20_8 = pd.read_csv('data/auction_202008.csv', encoding='cp949', header=0)\n",
    "print(data_20_7.head())\n",
    "print(data_20_8.head())"
   ]
  },
  {
   "cell_type": "code",
   "execution_count": 35,
   "metadata": {},
   "outputs": [
    {
     "name": "stdout",
     "output_type": "stream",
     "text": [
      "1\n",
      "      단위     등급     가격        산지 친환경구분       입력일                 입력시간   \n",
      "0    4kg  특(1등)   5000    경기 이천시    일반  20200701  2020-07-01 17:56:33  \\\n",
      "1    4kg  특(1등)   4200    경기 이천시    일반  20200701  2020-07-01 17:56:34   \n",
      "2  2.5kg  특(1등)  15000  전라북도 남원시    일반  20200701  2020-07-01 18:48:58   \n",
      "3  2.5kg  특(1등)  19000  전라북도 남원시    일반  20200701  2020-07-01 18:48:56   \n",
      "4  2.5kg  특(1등)   7500  전라북도 남원시    일반  20200701  2020-07-01 18:48:54   \n",
      "\n",
      "         품목명  \n",
      "0      [무]열무  \n",
      "1      [무]열무  \n",
      "2  [복숭아]그린황도  \n",
      "3  [복숭아]그린황도  \n",
      "4  [복숭아]그린황도  \n"
     ]
    }
   ],
   "source": [
    "data_20_7.columns = ['단위', '등급', '가격', '산지', '친환경구분', '입력일', '입력시간']\n",
    "data_20_8.columns = ['단위', '등급', '가격', '산지', '친환경구분','입력일', '입력시간']\n",
    "data_20_7['품목명'] = data_20_7.index\n",
    "data_20_8['품목명'] = data_20_8.index\n",
    "data_20_7 = data_20_7.reset_index(drop=True)\n",
    "data_20_8 = data_20_8.reset_index(drop=True)\n",
    "print(1)\n",
    "print(data_20_7.head())"
   ]
  },
  {
   "cell_type": "code",
   "execution_count": 36,
   "metadata": {},
   "outputs": [],
   "source": [
    "data_20_7 = data_20_7[['품목명', '단위', '등급', '가격', '산지', '친환경구분', '입력일']]\n",
    "data_20_8 = data_20_8[['품목명', '단위', '등급', '가격', '산지', '친환경구분', '입력일']]"
   ]
  },
  {
   "cell_type": "code",
   "execution_count": 37,
   "metadata": {},
   "outputs": [],
   "source": [
    "data_uni = pd.concat([data_2017, data_2018, data_2019_1, data_2019_2,\n",
    "                        data_20_1, data_20_2, data_20_3, data_20_4, data_20_5, data_20_6, data_20_7, data_20_8, data_20_9,data_20_10,data_20_11,data_20_12,\n",
    "                        data_21_1,data_21_2,data_21_3,data_21_4,data_21_5,data_21_6,data_21_7,data_21_8,data_21_9,data_21_10,data_21_11,data_21_12,\n",
    "                        data_22_1,data_22_2,data_22_3,data_22_4,data_22_5,data_22_6,data_22_7,data_22_8,data_22_9,data_22_10,data_22_11,data_22_12,\n",
    "                        data_23_1,data_23_2,data_23_3,data_23_4,data_23_5,data_23_6,data_23_7,data_23_8,data_23_9,data_23_10,data_23_11,data_23_12,\n",
    "                        data_24_1,data_24_2,data_24_3,data_24_4], ignore_index=True)"
   ]
  },
  {
   "cell_type": "code",
   "execution_count": 38,
   "metadata": {},
   "outputs": [
    {
     "data": {
      "text/plain": [
       "(44857822, 7)"
      ]
     },
     "execution_count": 38,
     "metadata": {},
     "output_type": "execute_result"
    }
   ],
   "source": [
    "data_uni.shape"
   ]
  },
  {
   "cell_type": "code",
   "execution_count": 39,
   "metadata": {},
   "outputs": [
    {
     "name": "stdout",
     "output_type": "stream",
     "text": [
      "전체 품목개수:  731\n"
     ]
    }
   ],
   "source": [
    "data_uni['품목명'] = data_uni['품목명'].apply(lambda x: x.split(']')[0].replace('[', ''))\n",
    "print(\"전체 품목개수: \", len(data_uni['품목명'].unique()))"
   ]
  },
  {
   "cell_type": "code",
   "execution_count": 40,
   "metadata": {},
   "outputs": [
    {
     "data": {
      "text/html": [
       "<div>\n",
       "<style scoped>\n",
       "    .dataframe tbody tr th:only-of-type {\n",
       "        vertical-align: middle;\n",
       "    }\n",
       "\n",
       "    .dataframe tbody tr th {\n",
       "        vertical-align: top;\n",
       "    }\n",
       "\n",
       "    .dataframe thead th {\n",
       "        text-align: right;\n",
       "    }\n",
       "</style>\n",
       "<table border=\"1\" class=\"dataframe\">\n",
       "  <thead>\n",
       "    <tr style=\"text-align: right;\">\n",
       "      <th></th>\n",
       "      <th>품목명</th>\n",
       "      <th>단위</th>\n",
       "      <th>등급</th>\n",
       "      <th>가격</th>\n",
       "      <th>산지</th>\n",
       "      <th>친환경구분</th>\n",
       "      <th>입력일</th>\n",
       "    </tr>\n",
       "  </thead>\n",
       "  <tbody>\n",
       "    <tr>\n",
       "      <th>0</th>\n",
       "      <td>포도</td>\n",
       "      <td>4kg</td>\n",
       "      <td>특(1등)</td>\n",
       "      <td>33000.0</td>\n",
       "      <td>충북 영동군</td>\n",
       "      <td>일반</td>\n",
       "      <td>20171101.0</td>\n",
       "    </tr>\n",
       "    <tr>\n",
       "      <th>1</th>\n",
       "      <td>감</td>\n",
       "      <td>10kg</td>\n",
       "      <td>특(1등)</td>\n",
       "      <td>7500.0</td>\n",
       "      <td>경남 진주시</td>\n",
       "      <td>일반</td>\n",
       "      <td>20171101.0</td>\n",
       "    </tr>\n",
       "    <tr>\n",
       "      <th>2</th>\n",
       "      <td>포도</td>\n",
       "      <td>2kg</td>\n",
       "      <td>특(1등)</td>\n",
       "      <td>18000.0</td>\n",
       "      <td>충북 영동군</td>\n",
       "      <td>일반</td>\n",
       "      <td>20171101.0</td>\n",
       "    </tr>\n",
       "    <tr>\n",
       "      <th>3</th>\n",
       "      <td>감</td>\n",
       "      <td>10kg</td>\n",
       "      <td>특(1등)</td>\n",
       "      <td>7500.0</td>\n",
       "      <td>경남 진주시</td>\n",
       "      <td>일반</td>\n",
       "      <td>20171101.0</td>\n",
       "    </tr>\n",
       "    <tr>\n",
       "      <th>4</th>\n",
       "      <td>포도</td>\n",
       "      <td>2kg</td>\n",
       "      <td>특(1등)</td>\n",
       "      <td>15000.0</td>\n",
       "      <td>충북 영동군</td>\n",
       "      <td>일반</td>\n",
       "      <td>20171101.0</td>\n",
       "    </tr>\n",
       "  </tbody>\n",
       "</table>\n",
       "</div>"
      ],
      "text/plain": [
       "  품목명    단위     등급       가격      산지 친환경구분         입력일\n",
       "0  포도   4kg  특(1등)  33000.0  충북 영동군    일반  20171101.0\n",
       "1   감  10kg  특(1등)   7500.0  경남 진주시    일반  20171101.0\n",
       "2  포도   2kg  특(1등)  18000.0  충북 영동군    일반  20171101.0\n",
       "3   감  10kg  특(1등)   7500.0  경남 진주시    일반  20171101.0\n",
       "4  포도   2kg  특(1등)  15000.0  충북 영동군    일반  20171101.0"
      ]
     },
     "execution_count": 40,
     "metadata": {},
     "output_type": "execute_result"
    }
   ],
   "source": [
    "data_uni.head()"
   ]
  },
  {
   "cell_type": "code",
   "execution_count": 41,
   "metadata": {},
   "outputs": [],
   "source": [
    "data_uni = data_uni[['품목명', '단위', '가격', '입력일']]\n",
    "data_uni.set_index('입력일', inplace=True)"
   ]
  },
  {
   "cell_type": "code",
   "execution_count": 42,
   "metadata": {},
   "outputs": [
    {
     "data": {
      "text/html": [
       "<div>\n",
       "<style scoped>\n",
       "    .dataframe tbody tr th:only-of-type {\n",
       "        vertical-align: middle;\n",
       "    }\n",
       "\n",
       "    .dataframe tbody tr th {\n",
       "        vertical-align: top;\n",
       "    }\n",
       "\n",
       "    .dataframe thead th {\n",
       "        text-align: right;\n",
       "    }\n",
       "</style>\n",
       "<table border=\"1\" class=\"dataframe\">\n",
       "  <thead>\n",
       "    <tr style=\"text-align: right;\">\n",
       "      <th></th>\n",
       "      <th>품목명</th>\n",
       "      <th>단위</th>\n",
       "      <th>가격</th>\n",
       "    </tr>\n",
       "    <tr>\n",
       "      <th>입력일</th>\n",
       "      <th></th>\n",
       "      <th></th>\n",
       "      <th></th>\n",
       "    </tr>\n",
       "  </thead>\n",
       "  <tbody>\n",
       "    <tr>\n",
       "      <th>20171101.0</th>\n",
       "      <td>포도</td>\n",
       "      <td>4kg</td>\n",
       "      <td>33000.0</td>\n",
       "    </tr>\n",
       "    <tr>\n",
       "      <th>20171101.0</th>\n",
       "      <td>감</td>\n",
       "      <td>10kg</td>\n",
       "      <td>7500.0</td>\n",
       "    </tr>\n",
       "    <tr>\n",
       "      <th>20171101.0</th>\n",
       "      <td>포도</td>\n",
       "      <td>2kg</td>\n",
       "      <td>18000.0</td>\n",
       "    </tr>\n",
       "    <tr>\n",
       "      <th>20171101.0</th>\n",
       "      <td>감</td>\n",
       "      <td>10kg</td>\n",
       "      <td>7500.0</td>\n",
       "    </tr>\n",
       "    <tr>\n",
       "      <th>20171101.0</th>\n",
       "      <td>포도</td>\n",
       "      <td>2kg</td>\n",
       "      <td>15000.0</td>\n",
       "    </tr>\n",
       "  </tbody>\n",
       "</table>\n",
       "</div>"
      ],
      "text/plain": [
       "           품목명    단위       가격\n",
       "입력일                          \n",
       "20171101.0  포도   4kg  33000.0\n",
       "20171101.0   감  10kg   7500.0\n",
       "20171101.0  포도   2kg  18000.0\n",
       "20171101.0   감  10kg   7500.0\n",
       "20171101.0  포도   2kg  15000.0"
      ]
     },
     "execution_count": 42,
     "metadata": {},
     "output_type": "execute_result"
    }
   ],
   "source": [
    "data_uni.head()"
   ]
  },
  {
   "cell_type": "code",
   "execution_count": 43,
   "metadata": {},
   "outputs": [],
   "source": [
    "import re\n",
    "def extract_number(unit):\n",
    "    if isinstance(unit, str):\n",
    "        match = re.search(r'\\d+', unit)\n",
    "        return float(match.group()) if match else None\n",
    "    return unit\n",
    "\n",
    "data_uni['단위'] = data_uni['단위'].apply(extract_number)"
   ]
  },
  {
   "cell_type": "code",
   "execution_count": 44,
   "metadata": {},
   "outputs": [
    {
     "data": {
      "text/html": [
       "<div>\n",
       "<style scoped>\n",
       "    .dataframe tbody tr th:only-of-type {\n",
       "        vertical-align: middle;\n",
       "    }\n",
       "\n",
       "    .dataframe tbody tr th {\n",
       "        vertical-align: top;\n",
       "    }\n",
       "\n",
       "    .dataframe thead th {\n",
       "        text-align: right;\n",
       "    }\n",
       "</style>\n",
       "<table border=\"1\" class=\"dataframe\">\n",
       "  <thead>\n",
       "    <tr style=\"text-align: right;\">\n",
       "      <th></th>\n",
       "      <th>품목명</th>\n",
       "      <th>단위</th>\n",
       "      <th>가격</th>\n",
       "    </tr>\n",
       "    <tr>\n",
       "      <th>입력일</th>\n",
       "      <th></th>\n",
       "      <th></th>\n",
       "      <th></th>\n",
       "    </tr>\n",
       "  </thead>\n",
       "  <tbody>\n",
       "  </tbody>\n",
       "</table>\n",
       "</div>"
      ],
      "text/plain": [
       "Empty DataFrame\n",
       "Columns: [품목명, 단위, 가격]\n",
       "Index: []"
      ]
     },
     "execution_count": 44,
     "metadata": {},
     "output_type": "execute_result"
    }
   ],
   "source": [
    "data_uni[data_uni['단위'] == 0].__len__\n",
    "data_uni.drop(data_uni[data_uni['단위'] == 0].index, inplace=True)\n",
    "data_uni[data_uni['단위'] == 0]"
   ]
  },
  {
   "cell_type": "code",
   "execution_count": 45,
   "metadata": {},
   "outputs": [
    {
     "name": "stdout",
     "output_type": "stream",
     "text": [
      "           품목명    단위       가격\n",
      "입력일                          \n",
      "20171101.0  포도   4.0  33000.0\n",
      "20171101.0   감  10.0   7500.0\n",
      "20171101.0  포도   2.0  18000.0\n",
      "20171101.0   감  10.0   7500.0\n",
      "20171101.0  포도   2.0  15000.0\n",
      "<class 'pandas.core.frame.DataFrame'>\n",
      "Index: 43470971 entries, 20171101.0 to 20240430.0\n",
      "Data columns (total 3 columns):\n",
      " #   Column  Dtype  \n",
      "---  ------  -----  \n",
      " 0   품목명     object \n",
      " 1   단위      float64\n",
      " 2   가격      float64\n",
      "dtypes: float64(2), object(1)\n",
      "memory usage: 1.3+ GB\n",
      "None\n"
     ]
    }
   ],
   "source": [
    "print(data_uni.head())\n",
    "print(data_uni.info())"
   ]
  },
  {
   "cell_type": "code",
   "execution_count": 47,
   "metadata": {},
   "outputs": [
    {
     "data": {
      "text/html": [
       "<div>\n",
       "<style scoped>\n",
       "    .dataframe tbody tr th:only-of-type {\n",
       "        vertical-align: middle;\n",
       "    }\n",
       "\n",
       "    .dataframe tbody tr th {\n",
       "        vertical-align: top;\n",
       "    }\n",
       "\n",
       "    .dataframe thead th {\n",
       "        text-align: right;\n",
       "    }\n",
       "</style>\n",
       "<table border=\"1\" class=\"dataframe\">\n",
       "  <thead>\n",
       "    <tr style=\"text-align: right;\">\n",
       "      <th></th>\n",
       "      <th>품목명</th>\n",
       "      <th>단위</th>\n",
       "      <th>가격</th>\n",
       "      <th>price_per_unit</th>\n",
       "    </tr>\n",
       "    <tr>\n",
       "      <th>입력일</th>\n",
       "      <th></th>\n",
       "      <th></th>\n",
       "      <th></th>\n",
       "      <th></th>\n",
       "    </tr>\n",
       "  </thead>\n",
       "  <tbody>\n",
       "    <tr>\n",
       "      <th>20171101.0</th>\n",
       "      <td>포도</td>\n",
       "      <td>4.0</td>\n",
       "      <td>33000.0</td>\n",
       "      <td>8250.0</td>\n",
       "    </tr>\n",
       "    <tr>\n",
       "      <th>20171101.0</th>\n",
       "      <td>감</td>\n",
       "      <td>10.0</td>\n",
       "      <td>7500.0</td>\n",
       "      <td>750.0</td>\n",
       "    </tr>\n",
       "    <tr>\n",
       "      <th>20171101.0</th>\n",
       "      <td>포도</td>\n",
       "      <td>2.0</td>\n",
       "      <td>18000.0</td>\n",
       "      <td>9000.0</td>\n",
       "    </tr>\n",
       "    <tr>\n",
       "      <th>20171101.0</th>\n",
       "      <td>감</td>\n",
       "      <td>10.0</td>\n",
       "      <td>7500.0</td>\n",
       "      <td>750.0</td>\n",
       "    </tr>\n",
       "    <tr>\n",
       "      <th>20171101.0</th>\n",
       "      <td>포도</td>\n",
       "      <td>2.0</td>\n",
       "      <td>15000.0</td>\n",
       "      <td>7500.0</td>\n",
       "    </tr>\n",
       "  </tbody>\n",
       "</table>\n",
       "</div>"
      ],
      "text/plain": [
       "           품목명    단위       가격  price_per_unit\n",
       "입력일                                          \n",
       "20171101.0  포도   4.0  33000.0          8250.0\n",
       "20171101.0   감  10.0   7500.0           750.0\n",
       "20171101.0  포도   2.0  18000.0          9000.0\n",
       "20171101.0   감  10.0   7500.0           750.0\n",
       "20171101.0  포도   2.0  15000.0          7500.0"
      ]
     },
     "execution_count": 47,
     "metadata": {},
     "output_type": "execute_result"
    }
   ],
   "source": [
    "#data_uni['가격'] = data_uni['가격'].str.replace(',', '').astype(float)\n",
    "data_uni['price_per_unit'] = data_uni['가격'] / data_uni['단위']\n",
    "data_uni.head()"
   ]
  },
  {
   "cell_type": "code",
   "execution_count": 50,
   "metadata": {},
   "outputs": [
    {
     "data": {
      "text/html": [
       "<div>\n",
       "<style scoped>\n",
       "    .dataframe tbody tr th:only-of-type {\n",
       "        vertical-align: middle;\n",
       "    }\n",
       "\n",
       "    .dataframe tbody tr th {\n",
       "        vertical-align: top;\n",
       "    }\n",
       "\n",
       "    .dataframe thead th {\n",
       "        text-align: right;\n",
       "    }\n",
       "</style>\n",
       "<table border=\"1\" class=\"dataframe\">\n",
       "  <thead>\n",
       "    <tr style=\"text-align: right;\">\n",
       "      <th></th>\n",
       "      <th>품목명</th>\n",
       "      <th>단위</th>\n",
       "      <th>가격</th>\n",
       "      <th>price_per_unit</th>\n",
       "      <th>입력일</th>\n",
       "    </tr>\n",
       "    <tr>\n",
       "      <th>입력일</th>\n",
       "      <th></th>\n",
       "      <th></th>\n",
       "      <th></th>\n",
       "      <th></th>\n",
       "      <th></th>\n",
       "    </tr>\n",
       "  </thead>\n",
       "  <tbody>\n",
       "    <tr>\n",
       "      <th>20171101.0</th>\n",
       "      <td>포도</td>\n",
       "      <td>4.0</td>\n",
       "      <td>33000.0</td>\n",
       "      <td>8250.0</td>\n",
       "      <td>2017-11-01</td>\n",
       "    </tr>\n",
       "    <tr>\n",
       "      <th>20171101.0</th>\n",
       "      <td>감</td>\n",
       "      <td>10.0</td>\n",
       "      <td>7500.0</td>\n",
       "      <td>750.0</td>\n",
       "      <td>2017-11-01</td>\n",
       "    </tr>\n",
       "    <tr>\n",
       "      <th>20171101.0</th>\n",
       "      <td>포도</td>\n",
       "      <td>2.0</td>\n",
       "      <td>18000.0</td>\n",
       "      <td>9000.0</td>\n",
       "      <td>2017-11-01</td>\n",
       "    </tr>\n",
       "    <tr>\n",
       "      <th>20171101.0</th>\n",
       "      <td>감</td>\n",
       "      <td>10.0</td>\n",
       "      <td>7500.0</td>\n",
       "      <td>750.0</td>\n",
       "      <td>2017-11-01</td>\n",
       "    </tr>\n",
       "    <tr>\n",
       "      <th>20171101.0</th>\n",
       "      <td>포도</td>\n",
       "      <td>2.0</td>\n",
       "      <td>15000.0</td>\n",
       "      <td>7500.0</td>\n",
       "      <td>2017-11-01</td>\n",
       "    </tr>\n",
       "  </tbody>\n",
       "</table>\n",
       "</div>"
      ],
      "text/plain": [
       "           품목명    단위       가격  price_per_unit        입력일\n",
       "입력일                                                     \n",
       "20171101.0  포도   4.0  33000.0          8250.0 2017-11-01\n",
       "20171101.0   감  10.0   7500.0           750.0 2017-11-01\n",
       "20171101.0  포도   2.0  18000.0          9000.0 2017-11-01\n",
       "20171101.0   감  10.0   7500.0           750.0 2017-11-01\n",
       "20171101.0  포도   2.0  15000.0          7500.0 2017-11-01"
      ]
     },
     "execution_count": 50,
     "metadata": {},
     "output_type": "execute_result"
    }
   ],
   "source": [
    "data_uni['입력일'] = pd.to_datetime(data_uni.index, format='%Y%m%d')\n",
    "data_uni.head()"
   ]
  },
  {
   "cell_type": "code",
   "execution_count": 51,
   "metadata": {},
   "outputs": [],
   "source": [
    "data_uni = data_uni[['품목명', 'price_per_unit', '입력일']]"
   ]
  },
  {
   "cell_type": "code",
   "execution_count": 58,
   "metadata": {},
   "outputs": [],
   "source": [
    "data_uni = data_uni.rename(columns={'입력일': '입력_일자'})"
   ]
  },
  {
   "cell_type": "code",
   "execution_count": 59,
   "metadata": {},
   "outputs": [
    {
     "data": {
      "text/html": [
       "<div>\n",
       "<style scoped>\n",
       "    .dataframe tbody tr th:only-of-type {\n",
       "        vertical-align: middle;\n",
       "    }\n",
       "\n",
       "    .dataframe tbody tr th {\n",
       "        vertical-align: top;\n",
       "    }\n",
       "\n",
       "    .dataframe thead th {\n",
       "        text-align: right;\n",
       "    }\n",
       "</style>\n",
       "<table border=\"1\" class=\"dataframe\">\n",
       "  <thead>\n",
       "    <tr style=\"text-align: right;\">\n",
       "      <th></th>\n",
       "      <th>품목명</th>\n",
       "      <th>price_per_unit</th>\n",
       "    </tr>\n",
       "    <tr>\n",
       "      <th>입력_일자</th>\n",
       "      <th></th>\n",
       "      <th></th>\n",
       "    </tr>\n",
       "  </thead>\n",
       "  <tbody>\n",
       "    <tr>\n",
       "      <th>2023-07-06</th>\n",
       "      <td>=수박</td>\n",
       "      <td>1603.874954</td>\n",
       "    </tr>\n",
       "    <tr>\n",
       "      <th>2023-07-07</th>\n",
       "      <td>=수박</td>\n",
       "      <td>1754.941484</td>\n",
       "    </tr>\n",
       "    <tr>\n",
       "      <th>2023-07-08</th>\n",
       "      <td>=수박</td>\n",
       "      <td>1635.918144</td>\n",
       "    </tr>\n",
       "    <tr>\n",
       "      <th>2023-07-10</th>\n",
       "      <td>=수박</td>\n",
       "      <td>1324.517156</td>\n",
       "    </tr>\n",
       "    <tr>\n",
       "      <th>2017-11-01</th>\n",
       "      <td>가리비국산</td>\n",
       "      <td>4087.500000</td>\n",
       "    </tr>\n",
       "  </tbody>\n",
       "</table>\n",
       "</div>"
      ],
      "text/plain": [
       "              품목명  price_per_unit\n",
       "입력_일자                            \n",
       "2023-07-06    =수박     1603.874954\n",
       "2023-07-07    =수박     1754.941484\n",
       "2023-07-08    =수박     1635.918144\n",
       "2023-07-10    =수박     1324.517156\n",
       "2017-11-01  가리비국산     4087.500000"
      ]
     },
     "execution_count": 59,
     "metadata": {},
     "output_type": "execute_result"
    }
   ],
   "source": [
    "data_uni = data_uni.groupby(['품목명', '입력_일자']).mean()\n",
    "data_uni = data_uni.reset_index()\n",
    "data_uni.set_index('입력_일자', inplace=True)\n",
    "data_uni.head()"
   ]
  },
  {
   "cell_type": "code",
   "execution_count": 65,
   "metadata": {},
   "outputs": [
    {
     "name": "stdout",
     "output_type": "stream",
     "text": [
      "(307167, 2)\n",
      "              품목명  price_per_unit\n",
      "입력_일자                            \n",
      "2023-07-06    =수박     1603.874954\n",
      "2023-07-07    =수박     1754.941484\n",
      "2023-07-08    =수박     1635.918144\n",
      "2023-07-10    =수박     1324.517156\n",
      "2017-11-01  가리비국산     4087.500000\n",
      "716\n"
     ]
    }
   ],
   "source": [
    "print(data_uni.shape)\n",
    "print(data_uni.head())\n",
    "print(len(data_uni['품목명'].unique()))"
   ]
  },
  {
   "cell_type": "code",
   "execution_count": 66,
   "metadata": {},
   "outputs": [
    {
     "name": "stdout",
     "output_type": "stream",
     "text": [
      "['=수박' '가리비국산' '가리비수입' '가물치국산' '가오리국산' '가오리수입' '가오리채수입' '가오리포수입' '가자미국산'\n",
      " '가자미수입' '가죽나물' '가지' '각굴국산' '각굴수입' '간재미국산' '갈치국산' '갈치수입' '갈치원양' '갈치포국산'\n",
      " '감' '감귤' '감귤(비가림)' '감귤(하우스)' '감말랭이' '감성돔국산' '감자' '갑오징어국산' '갑오징어다리수입'\n",
      " '갑오징어몸통수입' '갑오징어살국산' '갑오징어살수입' '갑오징어수입' '갓' '강낭콩' '강낭콩(울타리콩)' '강달이국산'\n",
      " '개량조개국산' '개불국산' '개불수입' '개암' '개조개국산' '개조개수입' '갯가재국산' '갯장어국산' '건고구마순' '건고추'\n",
      " '건채류' '검복국산' '게국산' '게수입' '게지국산' '겨자' '고구마' '고구마(국산)' '고구마순' '고구마순(줄기)'\n",
      " '고니수입' '고둥국산' '고둥수입' '고들빼기' '고등어국산' '고등어수입' '고비' '고사리' '고수' '고추' '고추잎'\n",
      " '곤달비' '곤드레나물' '골뱅이국산' '골뱅이수입' '곶감' '과실류기타' '과실류기타(도매법인)' '과실류기타(수입)'\n",
      " '굴국산' '굴수입' '귤' '그레이프푸룻(자몽)' '그린빈스(껍질콩' '근대' '근채류기타' '금감' '금감(금귤)' '기타'\n",
      " '기타(과일)' '기타(수입과일)' '기타가리비수입' '기타가재수입' '기타게국산' '기타게수입' '기타과실류' '기타과일'\n",
      " '기타과일과채류' '기타과일류' '기타과채' '기타과채류' '기타근채류' '기타다랑어수입' '기타대구수입' '기타돔국산'\n",
      " '기타돔수입' '기타두류' '기타명태국산' '기타명태수입' '기타문어수입' '기타버섯류' '기타복어수입' '기타산채류'\n",
      " '기타상어국산' '기타새우국산' '기타새우수입' '기타새치국산' '기타새치수입' '기타수산동물수입' '기타수실류' '기타양채'\n",
      " '기타양채류' '기타어류국산' '기타어류수입' '기타어류원양' '기타엽경채류' '기타엽채' '기타엽채류' '기타오징어국산'\n",
      " '기타오징어수입' '기타오징어원양' '기타장어국산' '기타장어수입' '기타전복국산' '기타조개국산' '기타조개수입' '기타조기국산'\n",
      " '기타조기수입' '기타조기원양' '기타조미채소류' '기타채소' '기타채소류' '기타패류국산' '기타패류수입' '기타홍합수입'\n",
      " '김국산' '깐동죽국산' '깐맛살국산' '깐바지락국산' '깐바지락수입' '깐백새우국산' '깐백새우수입' '깐소라국산' '깐소라수입'\n",
      " '깐우렁국산' '깐적새우국산' '깐적새우수입' '깐조개국산' '깐조개수입' '깐키조개국산' '깐키조개수입' '깐피조개국산'\n",
      " '깐피조개수입' '깐홍합국산' '깐홍합수입' '깔게국산' '깻잎' '꼬막(고막)국산' '꼬시래기국산' '꼴뚜기국산' '꼼치국산'\n",
      " '꽁치국산' '꽁치수입' '꽁치원양' '꽃게살국산' '꽃새우국산' '꽈리고추' '낙지국산' '낙지수입' '날치알수입' '냉이'\n",
      " '넙치(광어)국산' '노랑가오리국산' '노루궁뎅이버섯' '논우렁이국산' '논우렁이수입' '놀래기국산' '농어국산'\n",
      " '눈볼대(적어)국산' '눈볼대(적어)수입' '느타리' '느타리버섯' '능성어수입' '다랑어국산' '다래' '다래(국산)'\n",
      " '다래(수입)' '다래순' '다슬기국산' '다슬기수입' '다시마' '단감' '달래' '닭새우국산' '닭새우수입' '당귀' '당근'\n",
      " '대구고니수입' '대구국산' '대구머리수입' '대구수입' '대구알수입' '대구원양' '대구포수입' '대추' '대추(수입)' '대파'\n",
      " '대하국산' '더덕' '덟은감' '도다리국산' '도다리수입' '도라지' '도루묵국산' '도치국산' '도토리' '돈나물' '돌게국산'\n",
      " '돌게수입' '돌나물' '돌조개국산' '돗나물' '동백하새우국산' '동백하새우수입' '동부콩' '동자개(빠가사리)국산'\n",
      " '동자개(빠가사리)수입' '동죽국산' '동죽살국산' '동죽수입' '두류' '두릅' '두릅(두릅)' '두리안' '두부류'\n",
      " '듀리안(수입)' '들깨' '딱돔국산' '딸기' '땅콩' '떫은감' '라임' '라임(수입)' '람부탄' '람부탄(수입)' '레드쉬'\n",
      " '레드쉬(이십일무)' '레몬' '레몬(국산)' '레몬(수입)' '로케트(루꼴라)' '리치' '리치(수입)' '마' '마늘'\n",
      " '마늘(수입)' '만가닥' '만감' '맛국산' '맛수입' '망고' '망고스턴(수입)' '망고스틴' '망둥어국산' '매생이국산'\n",
      " '매생이수입' '매실' '매실(기타)' '머루' '머위대' '메기국산' '메기수입' '메론' '메밀' '멸치국산' '멸치수입'\n",
      " '명이나물' '명태곤니국산' '명태곤니수입' '명태국산' '명태수입' '명태알수입' '명태원양' '명태포수입' '명태필렛수입'\n",
      " '모과' '모시조개국산' '모시조개수입' '모자반' '목이' '무' '무순' '무우' '무청' '무청(무시래기)' '무화과'\n",
      " '문어국산' '문어바지락국산' '문어바지락수입' '문어발수입' '문어수입' '물가자미국산' '물가자미수입' '물메기국산' '물미역'\n",
      " '미꾸라지국산' '미꾸라지수입' '미나리' '미더덕국산' '미역' '민대구수입' '민들레' '민들조개국산' '민물돔수입'\n",
      " '민물새우국산' '민물새우수입' '민물새우원양' '민어국산' '민어수입' '밀복국산' '바나나' '바나나(국산)' '바나나(수입)'\n",
      " '바다가재수입' '바지락국산' '바지락수입' '박' '박대국산' '밤' '밤게국산' '방아' '방어국산' '방어수입' '방울토마토'\n",
      " '방풍' '방풍나물' '배' '배추' '백새우국산' '백조기국산' '백합국산' '백합수입' '뱀장어국산' '뱀장어수입' '뱅어국산'\n",
      " '버섯' '버찌' '벅굴국산' '벗' '벗찌' '병어국산' '병어살수입' '병어수입' '보리' '보리멸수입' '보리멸원양'\n",
      " '보리새우수입' '보리수' '복분자' '복숭아' '복어국산' '복어수입' '볼락(우럭)국산' '볼락수입' '봄동' '봄동배추'\n",
      " '봉지굴국산' '부세국산' '부세수입' '부지갱이' '부추' '북방대합조개수입' '붉은고추' '붉은대게수입' '붉은메기수입'\n",
      " '붕어국산' '붕어수입' '붕장어국산' '붕장어수입' '브로커리' '브로코리' '브로코리(녹색꽃양배' '블루베리' '비단멍게국산'\n",
      " '비단조개국산' '비단조개수입' '비름' '비타민' '비트' '비트(붉은사탕무우)' '빈스' '빙어국산' '빙어수입'\n",
      " '빨간양배추(루비볼)' '삐틀이국산' '사과' '사과(수입)' '산딸기' '산마늘(망부추)' '살구' '삼나물' '삼세기국산'\n",
      " '삼치국산' '상어국산' '상어수입' '상추' '상황버섯' '새꼬막(새고막)국산' '새꼬막(새고막)수입' '새꼬막살(자숙)국산'\n",
      " '새송이' '새싹' '새우국산' '새우살국산' '새우살수입' '새우수입' '새우원양' '새조개국산' '새조개수입' '샐러리'\n",
      " '샛돔국산' '생강' '생고추' '생채' '서대국산' '서대수입' '서대원양' '석류' '석류(수입)' '선동오징어국산'\n",
      " '선동오징어수입' '선인장열매' '성게국산' '성게수입' '성게알수입' '세러리' '세발나물' '세트' '셀러리'\n",
      " '셀러리(양미나리)' '소라국산' '소라수입' '소라원양' '소포장' '속새' '솔잎' '송어국산' '송이' '수경토마토' '수박'\n",
      " '수삼' '숙주나물' '순무' '숫꽃게국산' '숫꽃게수입' '시금치' '시바국산' '식용허브' '신선초' '실파' '쌈용채소'\n",
      " '쌈채류' '쌈추' '쑥' '쑥갓' '씀바귀' '아귀국산' '아귀수입' '아로니아' '아보카도' '아보카도(수입)' '아보카드'\n",
      " '아스파라가스' '아스파라거스' '아욱' '알로애' '알배기' '알타리' '알타리무' '알타리무우' '암꽃게국산' '암꽃게수입'\n",
      " '암숫꽃게혼합국산' '앵두' '야자' '야콘' '양미리국산' '양배추' '양상추' '양상추(결구상추)' '양상추기타' '양송이'\n",
      " '양조기수입' '양채류' '양채류(수입)' '양채류기타' '양태국산' '양파' '양파(수입)' '얼갈이' '얼갈이배추' '엄나무'\n",
      " '여주' '연근' '연어살수입' '연어수입' '열기국산' '열무' '염고등어국산' '염고등어수입' '엽경채류' '영지버섯'\n",
      " '오가피' '오디' '오렌지' '오렌지(국산)' '오렌지(수입)' '오만둥이(오만리)국산' '오만둥이(오만리)수입' '오이'\n",
      " '오징어국산' '오징어다리수입' '오징어몸통국산' '오징어몸통수입' '오징어수입' '오징어알국산' '오징어원양' '오징어채국산'\n",
      " '오징어채수입' '오징어채원양' '오크라' '옥돔국산' '옥돔수입' '옥수수' '완두콩' '왕게(킹크랩)수입' '용과'\n",
      " '우럭조개국산' '우렁쉥이국산' '우렁쉥이수입' '우렁이국산' '우뭇가시리' '우엉' '우엉대' '원추리' '위소라수입' '유자'\n",
      " '유채' '으름' '은어(도루묵)국산' '은어국산' '은행' '임연수어국산' '임연수어수입' '임연수어원양' '잉어국산'\n",
      " '잉어수입' '자두' '자라국산' '자라수입' '자몽' '자몽(수입)' '잔대' '잣' '재첩국산' '재첩수입' '적겨자'\n",
      " '적근대' '적새우수입' '적채' '전갱이국산' '전복국산' '전복수입' '전어국산' '전처리' '절단 쭈꾸미수입' '절단낙지국산'\n",
      " '절단낙지수입' '절임' '젓새우국산' '젓새우수입' '조개살국산' '조개살수입' '조미제품' '조피볼락수입' '죽순' '죽합국산'\n",
      " '준치국산' '줄삼치국산' '중하국산' '질경이' '쪽파' '쭈꾸미국산' '쭈꾸미수입' '참깨' '참꼬막(참고막)국산'\n",
      " '참꼬막(참고막)수입' '참나물' '참다래' '참다래(국산)' '참다래(수입)' '참다래(키위)' '참당귀' '참돔국산'\n",
      " '참돔수입' '참외' '참조기국산' '참조기수입' '참죽나무순(참죽나물)' '채소기타' '천도복숭아' '청각' '청각국산'\n",
      " '청겨자' '청경채' '청어국산' '청어수입' '청어원양' '체리' '체리모야' '총각무' '춘채' '춘채(하루나)' '취나물'\n",
      " '치커리' '칠게국산' '칼라후라워' '칼리플라워' '칼리플라워(꽃양배추)' '칼리후라워' '케일' '코끼리조개국산'\n",
      " '코다리명태수입' '코라비' '코라비(순무양배추)' '코코넛' '코코넛(수입)' '콜라비' '콩' '콩나물' '큰구슬우렁이국산'\n",
      " '키위' '키조개국산' '키조개꼭지국산' '키조개날개국산' '키조개수입' '탄제린' '탱자' '토란' '토란대' '토마토' '톳'\n",
      " '톳국산' '파' '파래' '파래김국산' '파세리' '파세리(향미나리)' '파인애플' '파인애플(국산)' '파인애플(수입)'\n",
      " '파파야' '파프리카' '팥' '패션푸룻' '팽이' '팽이버섯' '포도' '포도(수입)' '포장바지락국산' '포장바지락수입'\n",
      " '표고' '표고버섯' '풋고추' '풋옥수수' '피마자잎' '피망' '피망(단고추)' '피문어국산' '피뿔고동국산' '피뿔고동수입'\n",
      " '피조개국산' '피조개수입' '학꽁치국산' '한치국산' '한치수입' '함초' '해삼국산' '해삼수입' '해파리수입' '향나물'\n",
      " '향신료' '향어수입' '호두' '호박' '호박잎' '홍게국산' '홍고추' '홍어국산' '홍어수입' '홍어원양' '홍합국산'\n",
      " '홍합수입' '활복오징어국산' '활복오징어수입' '활복오징어원양' '황강달이국산' '황새치국산' '황어수입' '흑돔국산']\n"
     ]
    }
   ],
   "source": [
    "unique_items = data_uni['품목명'].unique()\n",
    "print(unique_items)"
   ]
  },
  {
   "cell_type": "markdown",
   "metadata": {},
   "source": [
    "Data Split"
   ]
  },
  {
   "cell_type": "code",
   "execution_count": 67,
   "metadata": {},
   "outputs": [
    {
     "data": {
      "text/html": [
       "<div>\n",
       "<style scoped>\n",
       "    .dataframe tbody tr th:only-of-type {\n",
       "        vertical-align: middle;\n",
       "    }\n",
       "\n",
       "    .dataframe tbody tr th {\n",
       "        vertical-align: top;\n",
       "    }\n",
       "\n",
       "    .dataframe thead th {\n",
       "        text-align: right;\n",
       "    }\n",
       "</style>\n",
       "<table border=\"1\" class=\"dataframe\">\n",
       "  <thead>\n",
       "    <tr style=\"text-align: right;\">\n",
       "      <th></th>\n",
       "      <th>품목명</th>\n",
       "      <th>price_per_unit</th>\n",
       "    </tr>\n",
       "    <tr>\n",
       "      <th>입력_일자</th>\n",
       "      <th></th>\n",
       "      <th></th>\n",
       "    </tr>\n",
       "  </thead>\n",
       "  <tbody>\n",
       "    <tr>\n",
       "      <th>2017-11-01</th>\n",
       "      <td>배추</td>\n",
       "      <td>740.839457</td>\n",
       "    </tr>\n",
       "    <tr>\n",
       "      <th>2017-11-02</th>\n",
       "      <td>배추</td>\n",
       "      <td>752.691197</td>\n",
       "    </tr>\n",
       "    <tr>\n",
       "      <th>2017-11-03</th>\n",
       "      <td>배추</td>\n",
       "      <td>790.302451</td>\n",
       "    </tr>\n",
       "    <tr>\n",
       "      <th>2017-11-04</th>\n",
       "      <td>배추</td>\n",
       "      <td>686.042080</td>\n",
       "    </tr>\n",
       "    <tr>\n",
       "      <th>2017-11-06</th>\n",
       "      <td>배추</td>\n",
       "      <td>717.141490</td>\n",
       "    </tr>\n",
       "    <tr>\n",
       "      <th>...</th>\n",
       "      <td>...</td>\n",
       "      <td>...</td>\n",
       "    </tr>\n",
       "    <tr>\n",
       "      <th>2024-04-25</th>\n",
       "      <td>배추</td>\n",
       "      <td>1310.040662</td>\n",
       "    </tr>\n",
       "    <tr>\n",
       "      <th>2024-04-26</th>\n",
       "      <td>배추</td>\n",
       "      <td>1268.445207</td>\n",
       "    </tr>\n",
       "    <tr>\n",
       "      <th>2024-04-27</th>\n",
       "      <td>배추</td>\n",
       "      <td>1317.055991</td>\n",
       "    </tr>\n",
       "    <tr>\n",
       "      <th>2024-04-29</th>\n",
       "      <td>배추</td>\n",
       "      <td>1509.380966</td>\n",
       "    </tr>\n",
       "    <tr>\n",
       "      <th>2024-04-30</th>\n",
       "      <td>배추</td>\n",
       "      <td>1481.003642</td>\n",
       "    </tr>\n",
       "  </tbody>\n",
       "</table>\n",
       "<p>1379 rows × 2 columns</p>\n",
       "</div>"
      ],
      "text/plain": [
       "           품목명  price_per_unit\n",
       "입력_일자                         \n",
       "2017-11-01  배추      740.839457\n",
       "2017-11-02  배추      752.691197\n",
       "2017-11-03  배추      790.302451\n",
       "2017-11-04  배추      686.042080\n",
       "2017-11-06  배추      717.141490\n",
       "...         ..             ...\n",
       "2024-04-25  배추     1310.040662\n",
       "2024-04-26  배추     1268.445207\n",
       "2024-04-27  배추     1317.055991\n",
       "2024-04-29  배추     1509.380966\n",
       "2024-04-30  배추     1481.003642\n",
       "\n",
       "[1379 rows x 2 columns]"
      ]
     },
     "execution_count": 67,
     "metadata": {},
     "output_type": "execute_result"
    }
   ],
   "source": [
    "data_uni[data_uni['품목명'] == '배추']"
   ]
  },
  {
   "cell_type": "code",
   "execution_count": 103,
   "metadata": {},
   "outputs": [
    {
     "data": {
      "text/html": [
       "<div>\n",
       "<style scoped>\n",
       "    .dataframe tbody tr th:only-of-type {\n",
       "        vertical-align: middle;\n",
       "    }\n",
       "\n",
       "    .dataframe tbody tr th {\n",
       "        vertical-align: top;\n",
       "    }\n",
       "\n",
       "    .dataframe thead th {\n",
       "        text-align: right;\n",
       "    }\n",
       "</style>\n",
       "<table border=\"1\" class=\"dataframe\">\n",
       "  <thead>\n",
       "    <tr style=\"text-align: right;\">\n",
       "      <th></th>\n",
       "      <th>품목명</th>\n",
       "      <th>price_per_unit</th>\n",
       "    </tr>\n",
       "    <tr>\n",
       "      <th>입력_일자</th>\n",
       "      <th></th>\n",
       "      <th></th>\n",
       "    </tr>\n",
       "  </thead>\n",
       "  <tbody>\n",
       "    <tr>\n",
       "      <th>2017-11-01</th>\n",
       "      <td>깻잎</td>\n",
       "      <td>3527.327737</td>\n",
       "    </tr>\n",
       "    <tr>\n",
       "      <th>2017-11-02</th>\n",
       "      <td>깻잎</td>\n",
       "      <td>3631.681743</td>\n",
       "    </tr>\n",
       "    <tr>\n",
       "      <th>2017-11-03</th>\n",
       "      <td>깻잎</td>\n",
       "      <td>3972.286810</td>\n",
       "    </tr>\n",
       "    <tr>\n",
       "      <th>2017-11-04</th>\n",
       "      <td>깻잎</td>\n",
       "      <td>3963.098197</td>\n",
       "    </tr>\n",
       "    <tr>\n",
       "      <th>2017-11-06</th>\n",
       "      <td>깻잎</td>\n",
       "      <td>3844.263810</td>\n",
       "    </tr>\n",
       "    <tr>\n",
       "      <th>...</th>\n",
       "      <td>...</td>\n",
       "      <td>...</td>\n",
       "    </tr>\n",
       "    <tr>\n",
       "      <th>2024-04-25</th>\n",
       "      <td>깻잎</td>\n",
       "      <td>4930.470951</td>\n",
       "    </tr>\n",
       "    <tr>\n",
       "      <th>2024-04-26</th>\n",
       "      <td>깻잎</td>\n",
       "      <td>5007.586237</td>\n",
       "    </tr>\n",
       "    <tr>\n",
       "      <th>2024-04-27</th>\n",
       "      <td>깻잎</td>\n",
       "      <td>4876.885830</td>\n",
       "    </tr>\n",
       "    <tr>\n",
       "      <th>2024-04-29</th>\n",
       "      <td>깻잎</td>\n",
       "      <td>4816.670488</td>\n",
       "    </tr>\n",
       "    <tr>\n",
       "      <th>2024-04-30</th>\n",
       "      <td>깻잎</td>\n",
       "      <td>5444.033364</td>\n",
       "    </tr>\n",
       "  </tbody>\n",
       "</table>\n",
       "<p>1393 rows × 2 columns</p>\n",
       "</div>"
      ],
      "text/plain": [
       "           품목명  price_per_unit\n",
       "입력_일자                         \n",
       "2017-11-01  깻잎     3527.327737\n",
       "2017-11-02  깻잎     3631.681743\n",
       "2017-11-03  깻잎     3972.286810\n",
       "2017-11-04  깻잎     3963.098197\n",
       "2017-11-06  깻잎     3844.263810\n",
       "...         ..             ...\n",
       "2024-04-25  깻잎     4930.470951\n",
       "2024-04-26  깻잎     5007.586237\n",
       "2024-04-27  깻잎     4876.885830\n",
       "2024-04-29  깻잎     4816.670488\n",
       "2024-04-30  깻잎     5444.033364\n",
       "\n",
       "[1393 rows x 2 columns]"
      ]
     },
     "execution_count": 103,
     "metadata": {},
     "output_type": "execute_result"
    }
   ],
   "source": [
    "data_uni[data_uni['품목명'] == '깻잎']"
   ]
  },
  {
   "cell_type": "code",
   "execution_count": 70,
   "metadata": {},
   "outputs": [
    {
     "data": {
      "text/plain": [
       "<Axes: xlabel='입력_일자'>"
      ]
     },
     "execution_count": 70,
     "metadata": {},
     "output_type": "execute_result"
    },
    {
     "name": "stderr",
     "output_type": "stream",
     "text": [
      "/Users/juhwan/Library/Python/3.11/lib/python/site-packages/IPython/core/events.py:93: UserWarning: Glyph 51077 (\\N{HANGUL SYLLABLE IB}) missing from current font.\n",
      "  func(*args, **kwargs)\n",
      "/Users/juhwan/Library/Python/3.11/lib/python/site-packages/IPython/core/events.py:93: UserWarning: Glyph 47141 (\\N{HANGUL SYLLABLE RYEOG}) missing from current font.\n",
      "  func(*args, **kwargs)\n",
      "/Users/juhwan/Library/Python/3.11/lib/python/site-packages/IPython/core/events.py:93: UserWarning: Glyph 51068 (\\N{HANGUL SYLLABLE IL}) missing from current font.\n",
      "  func(*args, **kwargs)\n",
      "/Users/juhwan/Library/Python/3.11/lib/python/site-packages/IPython/core/events.py:93: UserWarning: Glyph 51088 (\\N{HANGUL SYLLABLE JA}) missing from current font.\n",
      "  func(*args, **kwargs)\n",
      "/Users/juhwan/Library/Python/3.11/lib/python/site-packages/IPython/core/pylabtools.py:152: UserWarning: Glyph 51077 (\\N{HANGUL SYLLABLE IB}) missing from current font.\n",
      "  fig.canvas.print_figure(bytes_io, **kw)\n",
      "/Users/juhwan/Library/Python/3.11/lib/python/site-packages/IPython/core/pylabtools.py:152: UserWarning: Glyph 47141 (\\N{HANGUL SYLLABLE RYEOG}) missing from current font.\n",
      "  fig.canvas.print_figure(bytes_io, **kw)\n",
      "/Users/juhwan/Library/Python/3.11/lib/python/site-packages/IPython/core/pylabtools.py:152: UserWarning: Glyph 51068 (\\N{HANGUL SYLLABLE IL}) missing from current font.\n",
      "  fig.canvas.print_figure(bytes_io, **kw)\n",
      "/Users/juhwan/Library/Python/3.11/lib/python/site-packages/IPython/core/pylabtools.py:152: UserWarning: Glyph 51088 (\\N{HANGUL SYLLABLE JA}) missing from current font.\n",
      "  fig.canvas.print_figure(bytes_io, **kw)\n"
     ]
    },
    {
     "data": {
      "image/png": "[encoded data removed]",
      "text/plain": [
       "<Figure size 640x480 with 1 Axes>"
      ]
     },
     "metadata": {},
     "output_type": "display_data"
    }
   ],
   "source": [
    "data_uni[data_uni['품목명'] == '배추'].plot()"
   ]
  },
  {
   "cell_type": "code",
   "execution_count": 68,
   "metadata": {},
   "outputs": [
    {
     "data": {
      "text/html": [
       "<div>\n",
       "<style scoped>\n",
       "    .dataframe tbody tr th:only-of-type {\n",
       "        vertical-align: middle;\n",
       "    }\n",
       "\n",
       "    .dataframe tbody tr th {\n",
       "        vertical-align: top;\n",
       "    }\n",
       "\n",
       "    .dataframe thead th {\n",
       "        text-align: right;\n",
       "    }\n",
       "</style>\n",
       "<table border=\"1\" class=\"dataframe\">\n",
       "  <thead>\n",
       "    <tr style=\"text-align: right;\">\n",
       "      <th></th>\n",
       "      <th>품목명</th>\n",
       "      <th>price_per_unit</th>\n",
       "    </tr>\n",
       "    <tr>\n",
       "      <th>입력_일자</th>\n",
       "      <th></th>\n",
       "      <th></th>\n",
       "    </tr>\n",
       "  </thead>\n",
       "  <tbody>\n",
       "    <tr>\n",
       "      <th>2017-11-01</th>\n",
       "      <td>양파</td>\n",
       "      <td>1041.477353</td>\n",
       "    </tr>\n",
       "    <tr>\n",
       "      <th>2017-11-02</th>\n",
       "      <td>양파</td>\n",
       "      <td>1090.093593</td>\n",
       "    </tr>\n",
       "    <tr>\n",
       "      <th>2017-11-03</th>\n",
       "      <td>양파</td>\n",
       "      <td>1071.934129</td>\n",
       "    </tr>\n",
       "    <tr>\n",
       "      <th>2017-11-04</th>\n",
       "      <td>양파</td>\n",
       "      <td>1128.555556</td>\n",
       "    </tr>\n",
       "    <tr>\n",
       "      <th>2017-11-06</th>\n",
       "      <td>양파</td>\n",
       "      <td>1112.400000</td>\n",
       "    </tr>\n",
       "    <tr>\n",
       "      <th>...</th>\n",
       "      <td>...</td>\n",
       "      <td>...</td>\n",
       "    </tr>\n",
       "    <tr>\n",
       "      <th>2024-04-25</th>\n",
       "      <td>양파</td>\n",
       "      <td>1388.244921</td>\n",
       "    </tr>\n",
       "    <tr>\n",
       "      <th>2024-04-26</th>\n",
       "      <td>양파</td>\n",
       "      <td>1367.638889</td>\n",
       "    </tr>\n",
       "    <tr>\n",
       "      <th>2024-04-27</th>\n",
       "      <td>양파</td>\n",
       "      <td>1256.290087</td>\n",
       "    </tr>\n",
       "    <tr>\n",
       "      <th>2024-04-29</th>\n",
       "      <td>양파</td>\n",
       "      <td>1126.542254</td>\n",
       "    </tr>\n",
       "    <tr>\n",
       "      <th>2024-04-30</th>\n",
       "      <td>양파</td>\n",
       "      <td>1143.568301</td>\n",
       "    </tr>\n",
       "  </tbody>\n",
       "</table>\n",
       "<p>1358 rows × 2 columns</p>\n",
       "</div>"
      ],
      "text/plain": [
       "           품목명  price_per_unit\n",
       "입력_일자                         \n",
       "2017-11-01  양파     1041.477353\n",
       "2017-11-02  양파     1090.093593\n",
       "2017-11-03  양파     1071.934129\n",
       "2017-11-04  양파     1128.555556\n",
       "2017-11-06  양파     1112.400000\n",
       "...         ..             ...\n",
       "2024-04-25  양파     1388.244921\n",
       "2024-04-26  양파     1367.638889\n",
       "2024-04-27  양파     1256.290087\n",
       "2024-04-29  양파     1126.542254\n",
       "2024-04-30  양파     1143.568301\n",
       "\n",
       "[1358 rows x 2 columns]"
      ]
     },
     "execution_count": 68,
     "metadata": {},
     "output_type": "execute_result"
    }
   ],
   "source": [
    "data_uni[data_uni['품목명'] == '양파']"
   ]
  },
  {
   "cell_type": "code",
   "execution_count": 69,
   "metadata": {},
   "outputs": [
    {
     "data": {
      "text/plain": [
       "<Axes: xlabel='입력_일자'>"
      ]
     },
     "execution_count": 69,
     "metadata": {},
     "output_type": "execute_result"
    },
    {
     "name": "stderr",
     "output_type": "stream",
     "text": [
      "/Users/juhwan/Library/Python/3.11/lib/python/site-packages/IPython/core/events.py:93: UserWarning: Glyph 51077 (\\N{HANGUL SYLLABLE IB}) missing from current font.\n",
      "  func(*args, **kwargs)\n",
      "/Users/juhwan/Library/Python/3.11/lib/python/site-packages/IPython/core/events.py:93: UserWarning: Glyph 47141 (\\N{HANGUL SYLLABLE RYEOG}) missing from current font.\n",
      "  func(*args, **kwargs)\n",
      "/Users/juhwan/Library/Python/3.11/lib/python/site-packages/IPython/core/events.py:93: UserWarning: Glyph 51068 (\\N{HANGUL SYLLABLE IL}) missing from current font.\n",
      "  func(*args, **kwargs)\n",
      "/Users/juhwan/Library/Python/3.11/lib/python/site-packages/IPython/core/events.py:93: UserWarning: Glyph 51088 (\\N{HANGUL SYLLABLE JA}) missing from current font.\n",
      "  func(*args, **kwargs)\n",
      "/Users/juhwan/Library/Python/3.11/lib/python/site-packages/IPython/core/pylabtools.py:152: UserWarning: Glyph 51077 (\\N{HANGUL SYLLABLE IB}) missing from current font.\n",
      "  fig.canvas.print_figure(bytes_io, **kw)\n",
      "/Users/juhwan/Library/Python/3.11/lib/python/site-packages/IPython/core/pylabtools.py:152: UserWarning: Glyph 47141 (\\N{HANGUL SYLLABLE RYEOG}) missing from current font.\n",
      "  fig.canvas.print_figure(bytes_io, **kw)\n",
      "/Users/juhwan/Library/Python/3.11/lib/python/site-packages/IPython/core/pylabtools.py:152: UserWarning: Glyph 51068 (\\N{HANGUL SYLLABLE IL}) missing from current font.\n",
      "  fig.canvas.print_figure(bytes_io, **kw)\n",
      "/Users/juhwan/Library/Python/3.11/lib/python/site-packages/IPython/core/pylabtools.py:152: UserWarning: Glyph 51088 (\\N{HANGUL SYLLABLE JA}) missing from current font.\n",
      "  fig.canvas.print_figure(bytes_io, **kw)\n"
     ]
    },
    {
     "data": {
      "image/png": "[encoded data removed]",
      "text/plain": [
       "<Figure size 640x480 with 1 Axes>"
      ]
     },
     "metadata": {},
     "output_type": "display_data"
    }
   ],
   "source": [
    "data_uni[data_uni['품목명'] == '양파'].plot()"
   ]
  },
  {
   "cell_type": "markdown",
   "metadata": {},
   "source": [
    "농수산물에 따른 가격 데이터 분석"
   ]
  },
  {
   "cell_type": "code",
   "execution_count": 79,
   "metadata": {},
   "outputs": [],
   "source": [
    "def get_item_data(item_name):\n",
    "    return data_uni[data_uni['품목명'] == item_name]"
   ]
  },
  {
   "cell_type": "code",
   "execution_count": 80,
   "metadata": {},
   "outputs": [
    {
     "data": {
      "text/plain": [
       "<Axes: xlabel='입력_일자'>"
      ]
     },
     "execution_count": 80,
     "metadata": {},
     "output_type": "execute_result"
    },
    {
     "name": "stderr",
     "output_type": "stream",
     "text": [
      "/Users/juhwan/Library/Python/3.11/lib/python/site-packages/IPython/core/events.py:93: UserWarning: Glyph 51077 (\\N{HANGUL SYLLABLE IB}) missing from current font.\n",
      "  func(*args, **kwargs)\n",
      "/Users/juhwan/Library/Python/3.11/lib/python/site-packages/IPython/core/events.py:93: UserWarning: Glyph 47141 (\\N{HANGUL SYLLABLE RYEOG}) missing from current font.\n",
      "  func(*args, **kwargs)\n",
      "/Users/juhwan/Library/Python/3.11/lib/python/site-packages/IPython/core/events.py:93: UserWarning: Glyph 51068 (\\N{HANGUL SYLLABLE IL}) missing from current font.\n",
      "  func(*args, **kwargs)\n",
      "/Users/juhwan/Library/Python/3.11/lib/python/site-packages/IPython/core/events.py:93: UserWarning: Glyph 51088 (\\N{HANGUL SYLLABLE JA}) missing from current font.\n",
      "  func(*args, **kwargs)\n",
      "/Users/juhwan/Library/Python/3.11/lib/python/site-packages/IPython/core/pylabtools.py:152: UserWarning: Glyph 51077 (\\N{HANGUL SYLLABLE IB}) missing from current font.\n",
      "  fig.canvas.print_figure(bytes_io, **kw)\n",
      "/Users/juhwan/Library/Python/3.11/lib/python/site-packages/IPython/core/pylabtools.py:152: UserWarning: Glyph 47141 (\\N{HANGUL SYLLABLE RYEOG}) missing from current font.\n",
      "  fig.canvas.print_figure(bytes_io, **kw)\n",
      "/Users/juhwan/Library/Python/3.11/lib/python/site-packages/IPython/core/pylabtools.py:152: UserWarning: Glyph 51068 (\\N{HANGUL SYLLABLE IL}) missing from current font.\n",
      "  fig.canvas.print_figure(bytes_io, **kw)\n",
      "/Users/juhwan/Library/Python/3.11/lib/python/site-packages/IPython/core/pylabtools.py:152: UserWarning: Glyph 51088 (\\N{HANGUL SYLLABLE JA}) missing from current font.\n",
      "  fig.canvas.print_figure(bytes_io, **kw)\n"
     ]
    },
    {
     "data": {
      "image/png": "[encoded data removed]",
      "text/plain": [
       "<Figure size 640x480 with 1 Axes>"
      ]
     },
     "metadata": {},
     "output_type": "display_data"
    }
   ],
   "source": [
    "onion_data = get_item_data('양파')\n",
    "onion_data.plot()"
   ]
  },
  {
   "cell_type": "code",
   "execution_count": 83,
   "metadata": {},
   "outputs": [
    {
     "data": {
      "text/html": [
       "<div>\n",
       "<style scoped>\n",
       "    .dataframe tbody tr th:only-of-type {\n",
       "        vertical-align: middle;\n",
       "    }\n",
       "\n",
       "    .dataframe tbody tr th {\n",
       "        vertical-align: top;\n",
       "    }\n",
       "\n",
       "    .dataframe thead th {\n",
       "        text-align: right;\n",
       "    }\n",
       "</style>\n",
       "<table border=\"1\" class=\"dataframe\">\n",
       "  <thead>\n",
       "    <tr style=\"text-align: right;\">\n",
       "      <th></th>\n",
       "      <th>품목명</th>\n",
       "      <th>price_per_unit</th>\n",
       "    </tr>\n",
       "    <tr>\n",
       "      <th>입력_일자</th>\n",
       "      <th></th>\n",
       "      <th></th>\n",
       "    </tr>\n",
       "  </thead>\n",
       "  <tbody>\n",
       "    <tr>\n",
       "      <th>2021-08-11</th>\n",
       "      <td>양파</td>\n",
       "      <td>16306.824142</td>\n",
       "    </tr>\n",
       "    <tr>\n",
       "      <th>2021-08-18</th>\n",
       "      <td>양파</td>\n",
       "      <td>49824.403251</td>\n",
       "    </tr>\n",
       "  </tbody>\n",
       "</table>\n",
       "</div>"
      ],
      "text/plain": [
       "           품목명  price_per_unit\n",
       "입력_일자                         \n",
       "2021-08-11  양파    16306.824142\n",
       "2021-08-18  양파    49824.403251"
      ]
     },
     "execution_count": 83,
     "metadata": {},
     "output_type": "execute_result"
    }
   ],
   "source": [
    "onion_data[(onion_data['품목명'] == '양파') & (onion_data['price_per_unit'] > 10000)]"
   ]
  },
  {
   "cell_type": "code",
   "execution_count": 88,
   "metadata": {},
   "outputs": [
    {
     "data": {
      "text/plain": [
       "<Axes: xlabel='입력_일자'>"
      ]
     },
     "execution_count": 88,
     "metadata": {},
     "output_type": "execute_result"
    },
    {
     "name": "stderr",
     "output_type": "stream",
     "text": [
      "/Users/juhwan/Library/Python/3.11/lib/python/site-packages/IPython/core/events.py:93: UserWarning: Glyph 51077 (\\N{HANGUL SYLLABLE IB}) missing from current font.\n",
      "  func(*args, **kwargs)\n",
      "/Users/juhwan/Library/Python/3.11/lib/python/site-packages/IPython/core/events.py:93: UserWarning: Glyph 47141 (\\N{HANGUL SYLLABLE RYEOG}) missing from current font.\n",
      "  func(*args, **kwargs)\n",
      "/Users/juhwan/Library/Python/3.11/lib/python/site-packages/IPython/core/events.py:93: UserWarning: Glyph 51068 (\\N{HANGUL SYLLABLE IL}) missing from current font.\n",
      "  func(*args, **kwargs)\n",
      "/Users/juhwan/Library/Python/3.11/lib/python/site-packages/IPython/core/events.py:93: UserWarning: Glyph 51088 (\\N{HANGUL SYLLABLE JA}) missing from current font.\n",
      "  func(*args, **kwargs)\n",
      "/Users/juhwan/Library/Python/3.11/lib/python/site-packages/IPython/core/pylabtools.py:152: UserWarning: Glyph 51077 (\\N{HANGUL SYLLABLE IB}) missing from current font.\n",
      "  fig.canvas.print_figure(bytes_io, **kw)\n",
      "/Users/juhwan/Library/Python/3.11/lib/python/site-packages/IPython/core/pylabtools.py:152: UserWarning: Glyph 47141 (\\N{HANGUL SYLLABLE RYEOG}) missing from current font.\n",
      "  fig.canvas.print_figure(bytes_io, **kw)\n",
      "/Users/juhwan/Library/Python/3.11/lib/python/site-packages/IPython/core/pylabtools.py:152: UserWarning: Glyph 51068 (\\N{HANGUL SYLLABLE IL}) missing from current font.\n",
      "  fig.canvas.print_figure(bytes_io, **kw)\n",
      "/Users/juhwan/Library/Python/3.11/lib/python/site-packages/IPython/core/pylabtools.py:152: UserWarning: Glyph 51088 (\\N{HANGUL SYLLABLE JA}) missing from current font.\n",
      "  fig.canvas.print_figure(bytes_io, **kw)\n"
     ]
    },
    {
     "data": {
      "image/png": "[encoded data removed]",
      "text/plain": [
       "<Figure size 640x480 with 1 Axes>"
      ]
     },
     "metadata": {},
     "output_type": "display_data"
    }
   ],
   "source": [
    "onion_data = onion_data[onion_data['price_per_unit'] < 2500]  # remove outliers\n",
    "onion_data.plot()"
   ]
  },
  {
   "cell_type": "code",
   "execution_count": 129,
   "metadata": {},
   "outputs": [],
   "source": [
    "onion_data = onion_data[['price_per_unit']]"
   ]
  },
  {
   "cell_type": "code",
   "execution_count": null,
   "metadata": {},
   "outputs": [],
   "source": []
  },
  {
   "cell_type": "code",
   "execution_count": 130,
   "metadata": {},
   "outputs": [],
   "source": [
    "def df_to_X_y(df, window_size=21):\n",
    "    df_as_np = df.to_numpy()\n",
    "    X = []\n",
    "    y = []\n",
    "    for i in range(len(df_as_np)-window_size-7):  # 인덱스를 초과하지 않기 위해서\n",
    "        row = df_as_np[i:i+window_size]\n",
    "        X.append(row)\n",
    "        label = df_as_np[i+window_size:i+window_size+7]\n",
    "        y.append(label)\n",
    "    return np.array(X), np.array(y)"
   ]
  },
  {
   "cell_type": "code",
   "execution_count": 131,
   "metadata": {},
   "outputs": [
    {
     "data": {
      "text/plain": [
       "((1325, 21, 1), (1325, 7, 1))"
      ]
     },
     "execution_count": 131,
     "metadata": {},
     "output_type": "execute_result"
    }
   ],
   "source": [
    "WINDOW_SIZE = 21\n",
    "X, y = df_to_X_y(onion_data, window_size=WINDOW_SIZE)\n",
    "X.shape, y.shape"
   ]
  },
  {
   "cell_type": "code",
   "execution_count": 132,
   "metadata": {},
   "outputs": [
    {
     "data": {
      "text/plain": [
       "1060.0"
      ]
     },
     "execution_count": 132,
     "metadata": {},
     "output_type": "execute_result"
    }
   ],
   "source": [
    "1325*0.8"
   ]
  },
  {
   "cell_type": "code",
   "execution_count": 133,
   "metadata": {},
   "outputs": [
    {
     "data": {
      "text/plain": [
       "((1060, 21, 1), (1060, 7, 1), (265, 21, 1), (265, 7, 1))"
      ]
     },
     "execution_count": 133,
     "metadata": {},
     "output_type": "execute_result"
    }
   ],
   "source": [
    "X_train, y_train = X[:1060], y[:1060]\n",
    "X_test, y_test = X[1060:], y[1060:]\n",
    "X_train.shape, y_train.shape, X_test.shape, y_test.shape"
   ]
  },
  {
   "cell_type": "markdown",
   "metadata": {},
   "source": [
    "전체 데이터를 전부가지고 다시 만들기"
   ]
  },
  {
   "cell_type": "code",
   "execution_count": 140,
   "metadata": {},
   "outputs": [
    {
     "data": {
      "text/html": [
       "<div>\n",
       "<style scoped>\n",
       "    .dataframe tbody tr th:only-of-type {\n",
       "        vertical-align: middle;\n",
       "    }\n",
       "\n",
       "    .dataframe tbody tr th {\n",
       "        vertical-align: top;\n",
       "    }\n",
       "\n",
       "    .dataframe thead th {\n",
       "        text-align: right;\n",
       "    }\n",
       "</style>\n",
       "<table border=\"1\" class=\"dataframe\">\n",
       "  <thead>\n",
       "    <tr style=\"text-align: right;\">\n",
       "      <th>품목명</th>\n",
       "      <th>=수박</th>\n",
       "      <th>가리비국산</th>\n",
       "      <th>가리비수입</th>\n",
       "      <th>가물치국산</th>\n",
       "      <th>가오리국산</th>\n",
       "      <th>가오리수입</th>\n",
       "      <th>가오리채수입</th>\n",
       "      <th>가오리포수입</th>\n",
       "      <th>가자미국산</th>\n",
       "      <th>가자미수입</th>\n",
       "      <th>...</th>\n",
       "      <th>홍어원양</th>\n",
       "      <th>홍합국산</th>\n",
       "      <th>홍합수입</th>\n",
       "      <th>활복오징어국산</th>\n",
       "      <th>활복오징어수입</th>\n",
       "      <th>활복오징어원양</th>\n",
       "      <th>황강달이국산</th>\n",
       "      <th>황새치국산</th>\n",
       "      <th>황어수입</th>\n",
       "      <th>흑돔국산</th>\n",
       "    </tr>\n",
       "    <tr>\n",
       "      <th>입력_일자</th>\n",
       "      <th></th>\n",
       "      <th></th>\n",
       "      <th></th>\n",
       "      <th></th>\n",
       "      <th></th>\n",
       "      <th></th>\n",
       "      <th></th>\n",
       "      <th></th>\n",
       "      <th></th>\n",
       "      <th></th>\n",
       "      <th></th>\n",
       "      <th></th>\n",
       "      <th></th>\n",
       "      <th></th>\n",
       "      <th></th>\n",
       "      <th></th>\n",
       "      <th></th>\n",
       "      <th></th>\n",
       "      <th></th>\n",
       "      <th></th>\n",
       "      <th></th>\n",
       "    </tr>\n",
       "  </thead>\n",
       "  <tbody>\n",
       "    <tr>\n",
       "      <th>2017-11-01</th>\n",
       "      <td>NaN</td>\n",
       "      <td>4087.500000</td>\n",
       "      <td>10000.0</td>\n",
       "      <td>NaN</td>\n",
       "      <td>NaN</td>\n",
       "      <td>4286.666667</td>\n",
       "      <td>4212.5</td>\n",
       "      <td>NaN</td>\n",
       "      <td>NaN</td>\n",
       "      <td>3114.843750</td>\n",
       "      <td>...</td>\n",
       "      <td>NaN</td>\n",
       "      <td>918.357488</td>\n",
       "      <td>9444.444444</td>\n",
       "      <td>7045.833333</td>\n",
       "      <td>NaN</td>\n",
       "      <td>NaN</td>\n",
       "      <td>NaN</td>\n",
       "      <td>NaN</td>\n",
       "      <td>NaN</td>\n",
       "      <td>NaN</td>\n",
       "    </tr>\n",
       "    <tr>\n",
       "      <th>2017-11-02</th>\n",
       "      <td>NaN</td>\n",
       "      <td>4254.545455</td>\n",
       "      <td>10000.0</td>\n",
       "      <td>8500.0</td>\n",
       "      <td>NaN</td>\n",
       "      <td>2500.000000</td>\n",
       "      <td>5000.0</td>\n",
       "      <td>NaN</td>\n",
       "      <td>NaN</td>\n",
       "      <td>3300.000000</td>\n",
       "      <td>...</td>\n",
       "      <td>NaN</td>\n",
       "      <td>913.194444</td>\n",
       "      <td>NaN</td>\n",
       "      <td>6666.666667</td>\n",
       "      <td>NaN</td>\n",
       "      <td>NaN</td>\n",
       "      <td>NaN</td>\n",
       "      <td>NaN</td>\n",
       "      <td>NaN</td>\n",
       "      <td>NaN</td>\n",
       "    </tr>\n",
       "    <tr>\n",
       "      <th>2017-11-03</th>\n",
       "      <td>NaN</td>\n",
       "      <td>4200.000000</td>\n",
       "      <td>10000.0</td>\n",
       "      <td>NaN</td>\n",
       "      <td>NaN</td>\n",
       "      <td>NaN</td>\n",
       "      <td>5000.0</td>\n",
       "      <td>NaN</td>\n",
       "      <td>NaN</td>\n",
       "      <td>3377.651515</td>\n",
       "      <td>...</td>\n",
       "      <td>NaN</td>\n",
       "      <td>910.476190</td>\n",
       "      <td>9444.444444</td>\n",
       "      <td>6666.666667</td>\n",
       "      <td>NaN</td>\n",
       "      <td>NaN</td>\n",
       "      <td>NaN</td>\n",
       "      <td>NaN</td>\n",
       "      <td>NaN</td>\n",
       "      <td>NaN</td>\n",
       "    </tr>\n",
       "    <tr>\n",
       "      <th>2017-11-04</th>\n",
       "      <td>NaN</td>\n",
       "      <td>4240.000000</td>\n",
       "      <td>10000.0</td>\n",
       "      <td>NaN</td>\n",
       "      <td>NaN</td>\n",
       "      <td>NaN</td>\n",
       "      <td>5000.0</td>\n",
       "      <td>NaN</td>\n",
       "      <td>NaN</td>\n",
       "      <td>3597.000000</td>\n",
       "      <td>...</td>\n",
       "      <td>NaN</td>\n",
       "      <td>918.493151</td>\n",
       "      <td>NaN</td>\n",
       "      <td>7235.416667</td>\n",
       "      <td>NaN</td>\n",
       "      <td>NaN</td>\n",
       "      <td>NaN</td>\n",
       "      <td>NaN</td>\n",
       "      <td>NaN</td>\n",
       "      <td>NaN</td>\n",
       "    </tr>\n",
       "    <tr>\n",
       "      <th>2017-11-06</th>\n",
       "      <td>NaN</td>\n",
       "      <td>4133.333333</td>\n",
       "      <td>10000.0</td>\n",
       "      <td>NaN</td>\n",
       "      <td>NaN</td>\n",
       "      <td>3000.000000</td>\n",
       "      <td>5000.0</td>\n",
       "      <td>NaN</td>\n",
       "      <td>NaN</td>\n",
       "      <td>3030.000000</td>\n",
       "      <td>...</td>\n",
       "      <td>NaN</td>\n",
       "      <td>912.500000</td>\n",
       "      <td>NaN</td>\n",
       "      <td>4688.888889</td>\n",
       "      <td>NaN</td>\n",
       "      <td>NaN</td>\n",
       "      <td>NaN</td>\n",
       "      <td>NaN</td>\n",
       "      <td>NaN</td>\n",
       "      <td>NaN</td>\n",
       "    </tr>\n",
       "  </tbody>\n",
       "</table>\n",
       "<p>5 rows × 716 columns</p>\n",
       "</div>"
      ],
      "text/plain": [
       "품목명         =수박        가리비국산    가리비수입   가물치국산  가오리국산        가오리수입  가오리채수입   \n",
       "입력_일자                                                                       \n",
       "2017-11-01  NaN  4087.500000  10000.0     NaN    NaN  4286.666667  4212.5  \\\n",
       "2017-11-02  NaN  4254.545455  10000.0  8500.0    NaN  2500.000000  5000.0   \n",
       "2017-11-03  NaN  4200.000000  10000.0     NaN    NaN          NaN  5000.0   \n",
       "2017-11-04  NaN  4240.000000  10000.0     NaN    NaN          NaN  5000.0   \n",
       "2017-11-06  NaN  4133.333333  10000.0     NaN    NaN  3000.000000  5000.0   \n",
       "\n",
       "품목명         가오리포수입  가자미국산        가자미수입  ...  홍어원양        홍합국산         홍합수입   \n",
       "입력_일자                                   ...                                  \n",
       "2017-11-01     NaN    NaN  3114.843750  ...   NaN  918.357488  9444.444444  \\\n",
       "2017-11-02     NaN    NaN  3300.000000  ...   NaN  913.194444          NaN   \n",
       "2017-11-03     NaN    NaN  3377.651515  ...   NaN  910.476190  9444.444444   \n",
       "2017-11-04     NaN    NaN  3597.000000  ...   NaN  918.493151          NaN   \n",
       "2017-11-06     NaN    NaN  3030.000000  ...   NaN  912.500000          NaN   \n",
       "\n",
       "품목명             활복오징어국산  활복오징어수입  활복오징어원양  황강달이국산  황새치국산  황어수입  흑돔국산  \n",
       "입력_일자                                                                 \n",
       "2017-11-01  7045.833333      NaN      NaN     NaN    NaN   NaN   NaN  \n",
       "2017-11-02  6666.666667      NaN      NaN     NaN    NaN   NaN   NaN  \n",
       "2017-11-03  6666.666667      NaN      NaN     NaN    NaN   NaN   NaN  \n",
       "2017-11-04  7235.416667      NaN      NaN     NaN    NaN   NaN   NaN  \n",
       "2017-11-06  4688.888889      NaN      NaN     NaN    NaN   NaN   NaN  \n",
       "\n",
       "[5 rows x 716 columns]"
      ]
     },
     "execution_count": 140,
     "metadata": {},
     "output_type": "execute_result"
    }
   ],
   "source": [
    "data_uni_all = data_uni.pivot(columns='품목명', values='price_per_unit')\n",
    "\n",
    "# 결과 출력\n",
    "data_uni_all.head()"
   ]
  },
  {
   "cell_type": "code",
   "execution_count": 142,
   "metadata": {},
   "outputs": [
    {
     "name": "stdout",
     "output_type": "stream",
     "text": [
      "(1425, 298)\n"
     ]
    },
    {
     "data": {
      "text/html": [
       "<div>\n",
       "<style scoped>\n",
       "    .dataframe tbody tr th:only-of-type {\n",
       "        vertical-align: middle;\n",
       "    }\n",
       "\n",
       "    .dataframe tbody tr th {\n",
       "        vertical-align: top;\n",
       "    }\n",
       "\n",
       "    .dataframe thead th {\n",
       "        text-align: right;\n",
       "    }\n",
       "</style>\n",
       "<table border=\"1\" class=\"dataframe\">\n",
       "  <thead>\n",
       "    <tr style=\"text-align: right;\">\n",
       "      <th>품목명</th>\n",
       "      <th>가리비국산</th>\n",
       "      <th>가리비수입</th>\n",
       "      <th>가오리수입</th>\n",
       "      <th>가오리채수입</th>\n",
       "      <th>가자미국산</th>\n",
       "      <th>가자미수입</th>\n",
       "      <th>가지</th>\n",
       "      <th>각굴국산</th>\n",
       "      <th>갈치국산</th>\n",
       "      <th>갈치수입</th>\n",
       "      <th>...</th>\n",
       "      <th>피망</th>\n",
       "      <th>피망(단고추)</th>\n",
       "      <th>피조개국산</th>\n",
       "      <th>피조개수입</th>\n",
       "      <th>해삼국산</th>\n",
       "      <th>호박</th>\n",
       "      <th>호박잎</th>\n",
       "      <th>홍고추</th>\n",
       "      <th>홍합국산</th>\n",
       "      <th>활복오징어국산</th>\n",
       "    </tr>\n",
       "    <tr>\n",
       "      <th>입력_일자</th>\n",
       "      <th></th>\n",
       "      <th></th>\n",
       "      <th></th>\n",
       "      <th></th>\n",
       "      <th></th>\n",
       "      <th></th>\n",
       "      <th></th>\n",
       "      <th></th>\n",
       "      <th></th>\n",
       "      <th></th>\n",
       "      <th></th>\n",
       "      <th></th>\n",
       "      <th></th>\n",
       "      <th></th>\n",
       "      <th></th>\n",
       "      <th></th>\n",
       "      <th></th>\n",
       "      <th></th>\n",
       "      <th></th>\n",
       "      <th></th>\n",
       "      <th></th>\n",
       "    </tr>\n",
       "  </thead>\n",
       "  <tbody>\n",
       "    <tr>\n",
       "      <th>2017-11-01</th>\n",
       "      <td>4087.500000</td>\n",
       "      <td>10000.0</td>\n",
       "      <td>4286.666667</td>\n",
       "      <td>4212.5</td>\n",
       "      <td>NaN</td>\n",
       "      <td>3114.843750</td>\n",
       "      <td>1138.811563</td>\n",
       "      <td>2990.476190</td>\n",
       "      <td>NaN</td>\n",
       "      <td>5283.333333</td>\n",
       "      <td>...</td>\n",
       "      <td>2617.487937</td>\n",
       "      <td>2500.381944</td>\n",
       "      <td>1069.736842</td>\n",
       "      <td>4666.666667</td>\n",
       "      <td>NaN</td>\n",
       "      <td>965.149195</td>\n",
       "      <td>NaN</td>\n",
       "      <td>3506.024454</td>\n",
       "      <td>918.357488</td>\n",
       "      <td>7045.833333</td>\n",
       "    </tr>\n",
       "    <tr>\n",
       "      <th>2017-11-02</th>\n",
       "      <td>4254.545455</td>\n",
       "      <td>10000.0</td>\n",
       "      <td>2500.000000</td>\n",
       "      <td>5000.0</td>\n",
       "      <td>NaN</td>\n",
       "      <td>3300.000000</td>\n",
       "      <td>1279.634465</td>\n",
       "      <td>3908.000000</td>\n",
       "      <td>NaN</td>\n",
       "      <td>6082.500000</td>\n",
       "      <td>...</td>\n",
       "      <td>2177.572016</td>\n",
       "      <td>2232.670220</td>\n",
       "      <td>1202.068966</td>\n",
       "      <td>5166.666667</td>\n",
       "      <td>NaN</td>\n",
       "      <td>968.806628</td>\n",
       "      <td>NaN</td>\n",
       "      <td>3620.440729</td>\n",
       "      <td>913.194444</td>\n",
       "      <td>6666.666667</td>\n",
       "    </tr>\n",
       "    <tr>\n",
       "      <th>2017-11-03</th>\n",
       "      <td>4200.000000</td>\n",
       "      <td>10000.0</td>\n",
       "      <td>NaN</td>\n",
       "      <td>5000.0</td>\n",
       "      <td>NaN</td>\n",
       "      <td>3377.651515</td>\n",
       "      <td>1337.144420</td>\n",
       "      <td>3731.481481</td>\n",
       "      <td>NaN</td>\n",
       "      <td>5851.590909</td>\n",
       "      <td>...</td>\n",
       "      <td>1990.880784</td>\n",
       "      <td>2139.050036</td>\n",
       "      <td>1147.250000</td>\n",
       "      <td>5166.666667</td>\n",
       "      <td>NaN</td>\n",
       "      <td>997.324154</td>\n",
       "      <td>NaN</td>\n",
       "      <td>3327.871148</td>\n",
       "      <td>910.476190</td>\n",
       "      <td>6666.666667</td>\n",
       "    </tr>\n",
       "    <tr>\n",
       "      <th>2017-11-04</th>\n",
       "      <td>4240.000000</td>\n",
       "      <td>10000.0</td>\n",
       "      <td>NaN</td>\n",
       "      <td>5000.0</td>\n",
       "      <td>NaN</td>\n",
       "      <td>3597.000000</td>\n",
       "      <td>1694.683099</td>\n",
       "      <td>3107.500000</td>\n",
       "      <td>NaN</td>\n",
       "      <td>5312.500000</td>\n",
       "      <td>...</td>\n",
       "      <td>1849.665688</td>\n",
       "      <td>2101.807229</td>\n",
       "      <td>1090.277778</td>\n",
       "      <td>5166.666667</td>\n",
       "      <td>NaN</td>\n",
       "      <td>904.921884</td>\n",
       "      <td>NaN</td>\n",
       "      <td>4385.256410</td>\n",
       "      <td>918.493151</td>\n",
       "      <td>7235.416667</td>\n",
       "    </tr>\n",
       "    <tr>\n",
       "      <th>2017-11-06</th>\n",
       "      <td>4133.333333</td>\n",
       "      <td>10000.0</td>\n",
       "      <td>3000.000000</td>\n",
       "      <td>5000.0</td>\n",
       "      <td>NaN</td>\n",
       "      <td>3030.000000</td>\n",
       "      <td>1863.448104</td>\n",
       "      <td>3841.379310</td>\n",
       "      <td>NaN</td>\n",
       "      <td>4062.500000</td>\n",
       "      <td>...</td>\n",
       "      <td>1746.699507</td>\n",
       "      <td>2121.395349</td>\n",
       "      <td>1157.073171</td>\n",
       "      <td>5000.000000</td>\n",
       "      <td>NaN</td>\n",
       "      <td>967.508779</td>\n",
       "      <td>NaN</td>\n",
       "      <td>4407.614087</td>\n",
       "      <td>912.500000</td>\n",
       "      <td>4688.888889</td>\n",
       "    </tr>\n",
       "  </tbody>\n",
       "</table>\n",
       "<p>5 rows × 298 columns</p>\n",
       "</div>"
      ],
      "text/plain": [
       "품목명               가리비국산    가리비수입        가오리수입  가오리채수입  가자미국산        가자미수입   \n",
       "입력_일자                                                                       \n",
       "2017-11-01  4087.500000  10000.0  4286.666667  4212.5    NaN  3114.843750  \\\n",
       "2017-11-02  4254.545455  10000.0  2500.000000  5000.0    NaN  3300.000000   \n",
       "2017-11-03  4200.000000  10000.0          NaN  5000.0    NaN  3377.651515   \n",
       "2017-11-04  4240.000000  10000.0          NaN  5000.0    NaN  3597.000000   \n",
       "2017-11-06  4133.333333  10000.0  3000.000000  5000.0    NaN  3030.000000   \n",
       "\n",
       "품목명                  가지         각굴국산  갈치국산         갈치수입  ...           피망   \n",
       "입력_일자                                                    ...                \n",
       "2017-11-01  1138.811563  2990.476190   NaN  5283.333333  ...  2617.487937  \\\n",
       "2017-11-02  1279.634465  3908.000000   NaN  6082.500000  ...  2177.572016   \n",
       "2017-11-03  1337.144420  3731.481481   NaN  5851.590909  ...  1990.880784   \n",
       "2017-11-04  1694.683099  3107.500000   NaN  5312.500000  ...  1849.665688   \n",
       "2017-11-06  1863.448104  3841.379310   NaN  4062.500000  ...  1746.699507   \n",
       "\n",
       "품목명             피망(단고추)        피조개국산        피조개수입  해삼국산          호박  호박잎   \n",
       "입력_일자                                                                      \n",
       "2017-11-01  2500.381944  1069.736842  4666.666667   NaN  965.149195  NaN  \\\n",
       "2017-11-02  2232.670220  1202.068966  5166.666667   NaN  968.806628  NaN   \n",
       "2017-11-03  2139.050036  1147.250000  5166.666667   NaN  997.324154  NaN   \n",
       "2017-11-04  2101.807229  1090.277778  5166.666667   NaN  904.921884  NaN   \n",
       "2017-11-06  2121.395349  1157.073171  5000.000000   NaN  967.508779  NaN   \n",
       "\n",
       "품목명                 홍고추        홍합국산      활복오징어국산  \n",
       "입력_일자                                             \n",
       "2017-11-01  3506.024454  918.357488  7045.833333  \n",
       "2017-11-02  3620.440729  913.194444  6666.666667  \n",
       "2017-11-03  3327.871148  910.476190  6666.666667  \n",
       "2017-11-04  4385.256410  918.493151  7235.416667  \n",
       "2017-11-06  4407.614087  912.500000  4688.888889  \n",
       "\n",
       "[5 rows x 298 columns]"
      ]
     },
     "execution_count": 142,
     "metadata": {},
     "output_type": "execute_result"
    }
   ],
   "source": [
    "# 열 기준으로 80% 이상이 null인 열을 제거\n",
    "data_uni_all = data_uni_all.dropna(thresh=int(data_uni_all.shape[0]*0.2), axis=1)\n",
    "\n",
    "# 결과 출력\n",
    "print(data_uni_all.shape)\n",
    "data_uni_all.head()"
   ]
  },
  {
   "cell_type": "code",
   "execution_count": 144,
   "metadata": {},
   "outputs": [
    {
     "data": {
      "text/html": [
       "<div>\n",
       "<style scoped>\n",
       "    .dataframe tbody tr th:only-of-type {\n",
       "        vertical-align: middle;\n",
       "    }\n",
       "\n",
       "    .dataframe tbody tr th {\n",
       "        vertical-align: top;\n",
       "    }\n",
       "\n",
       "    .dataframe thead th {\n",
       "        text-align: right;\n",
       "    }\n",
       "</style>\n",
       "<table border=\"1\" class=\"dataframe\">\n",
       "  <thead>\n",
       "    <tr style=\"text-align: right;\">\n",
       "      <th>품목명</th>\n",
       "      <th>가리비국산</th>\n",
       "      <th>가리비수입</th>\n",
       "      <th>가오리수입</th>\n",
       "      <th>가오리채수입</th>\n",
       "      <th>가자미국산</th>\n",
       "      <th>가자미수입</th>\n",
       "      <th>가지</th>\n",
       "      <th>각굴국산</th>\n",
       "      <th>갈치국산</th>\n",
       "      <th>갈치수입</th>\n",
       "      <th>...</th>\n",
       "      <th>피망</th>\n",
       "      <th>피망(단고추)</th>\n",
       "      <th>피조개국산</th>\n",
       "      <th>피조개수입</th>\n",
       "      <th>해삼국산</th>\n",
       "      <th>호박</th>\n",
       "      <th>호박잎</th>\n",
       "      <th>홍고추</th>\n",
       "      <th>홍합국산</th>\n",
       "      <th>활복오징어국산</th>\n",
       "    </tr>\n",
       "    <tr>\n",
       "      <th>입력_일자</th>\n",
       "      <th></th>\n",
       "      <th></th>\n",
       "      <th></th>\n",
       "      <th></th>\n",
       "      <th></th>\n",
       "      <th></th>\n",
       "      <th></th>\n",
       "      <th></th>\n",
       "      <th></th>\n",
       "      <th></th>\n",
       "      <th></th>\n",
       "      <th></th>\n",
       "      <th></th>\n",
       "      <th></th>\n",
       "      <th></th>\n",
       "      <th></th>\n",
       "      <th></th>\n",
       "      <th></th>\n",
       "      <th></th>\n",
       "      <th></th>\n",
       "      <th></th>\n",
       "    </tr>\n",
       "  </thead>\n",
       "  <tbody>\n",
       "    <tr>\n",
       "      <th>2017-11-01</th>\n",
       "      <td>4087.500000</td>\n",
       "      <td>10000.0</td>\n",
       "      <td>4286.666667</td>\n",
       "      <td>4212.5</td>\n",
       "      <td>NaN</td>\n",
       "      <td>3114.843750</td>\n",
       "      <td>1138.811563</td>\n",
       "      <td>2990.476190</td>\n",
       "      <td>NaN</td>\n",
       "      <td>5283.333333</td>\n",
       "      <td>...</td>\n",
       "      <td>2617.487937</td>\n",
       "      <td>2500.381944</td>\n",
       "      <td>1069.736842</td>\n",
       "      <td>4666.666667</td>\n",
       "      <td>NaN</td>\n",
       "      <td>965.149195</td>\n",
       "      <td>NaN</td>\n",
       "      <td>3506.024454</td>\n",
       "      <td>918.357488</td>\n",
       "      <td>7045.833333</td>\n",
       "    </tr>\n",
       "    <tr>\n",
       "      <th>2017-11-02</th>\n",
       "      <td>4254.545455</td>\n",
       "      <td>10000.0</td>\n",
       "      <td>2500.000000</td>\n",
       "      <td>5000.0</td>\n",
       "      <td>NaN</td>\n",
       "      <td>3300.000000</td>\n",
       "      <td>1279.634465</td>\n",
       "      <td>3908.000000</td>\n",
       "      <td>NaN</td>\n",
       "      <td>6082.500000</td>\n",
       "      <td>...</td>\n",
       "      <td>2177.572016</td>\n",
       "      <td>2232.670220</td>\n",
       "      <td>1202.068966</td>\n",
       "      <td>5166.666667</td>\n",
       "      <td>NaN</td>\n",
       "      <td>968.806628</td>\n",
       "      <td>NaN</td>\n",
       "      <td>3620.440729</td>\n",
       "      <td>913.194444</td>\n",
       "      <td>6666.666667</td>\n",
       "    </tr>\n",
       "    <tr>\n",
       "      <th>2017-11-03</th>\n",
       "      <td>4200.000000</td>\n",
       "      <td>10000.0</td>\n",
       "      <td>2625.000000</td>\n",
       "      <td>5000.0</td>\n",
       "      <td>NaN</td>\n",
       "      <td>3377.651515</td>\n",
       "      <td>1337.144420</td>\n",
       "      <td>3731.481481</td>\n",
       "      <td>NaN</td>\n",
       "      <td>5851.590909</td>\n",
       "      <td>...</td>\n",
       "      <td>1990.880784</td>\n",
       "      <td>2139.050036</td>\n",
       "      <td>1147.250000</td>\n",
       "      <td>5166.666667</td>\n",
       "      <td>NaN</td>\n",
       "      <td>997.324154</td>\n",
       "      <td>NaN</td>\n",
       "      <td>3327.871148</td>\n",
       "      <td>910.476190</td>\n",
       "      <td>6666.666667</td>\n",
       "    </tr>\n",
       "    <tr>\n",
       "      <th>2017-11-04</th>\n",
       "      <td>4240.000000</td>\n",
       "      <td>10000.0</td>\n",
       "      <td>2750.000000</td>\n",
       "      <td>5000.0</td>\n",
       "      <td>NaN</td>\n",
       "      <td>3597.000000</td>\n",
       "      <td>1694.683099</td>\n",
       "      <td>3107.500000</td>\n",
       "      <td>NaN</td>\n",
       "      <td>5312.500000</td>\n",
       "      <td>...</td>\n",
       "      <td>1849.665688</td>\n",
       "      <td>2101.807229</td>\n",
       "      <td>1090.277778</td>\n",
       "      <td>5166.666667</td>\n",
       "      <td>NaN</td>\n",
       "      <td>904.921884</td>\n",
       "      <td>NaN</td>\n",
       "      <td>4385.256410</td>\n",
       "      <td>918.493151</td>\n",
       "      <td>7235.416667</td>\n",
       "    </tr>\n",
       "    <tr>\n",
       "      <th>2017-11-06</th>\n",
       "      <td>4133.333333</td>\n",
       "      <td>10000.0</td>\n",
       "      <td>3000.000000</td>\n",
       "      <td>5000.0</td>\n",
       "      <td>NaN</td>\n",
       "      <td>3030.000000</td>\n",
       "      <td>1863.448104</td>\n",
       "      <td>3841.379310</td>\n",
       "      <td>NaN</td>\n",
       "      <td>4062.500000</td>\n",
       "      <td>...</td>\n",
       "      <td>1746.699507</td>\n",
       "      <td>2121.395349</td>\n",
       "      <td>1157.073171</td>\n",
       "      <td>5000.000000</td>\n",
       "      <td>NaN</td>\n",
       "      <td>967.508779</td>\n",
       "      <td>NaN</td>\n",
       "      <td>4407.614087</td>\n",
       "      <td>912.500000</td>\n",
       "      <td>4688.888889</td>\n",
       "    </tr>\n",
       "  </tbody>\n",
       "</table>\n",
       "<p>5 rows × 298 columns</p>\n",
       "</div>"
      ],
      "text/plain": [
       "품목명               가리비국산    가리비수입        가오리수입  가오리채수입  가자미국산        가자미수입   \n",
       "입력_일자                                                                       \n",
       "2017-11-01  4087.500000  10000.0  4286.666667  4212.5    NaN  3114.843750  \\\n",
       "2017-11-02  4254.545455  10000.0  2500.000000  5000.0    NaN  3300.000000   \n",
       "2017-11-03  4200.000000  10000.0  2625.000000  5000.0    NaN  3377.651515   \n",
       "2017-11-04  4240.000000  10000.0  2750.000000  5000.0    NaN  3597.000000   \n",
       "2017-11-06  4133.333333  10000.0  3000.000000  5000.0    NaN  3030.000000   \n",
       "\n",
       "품목명                  가지         각굴국산  갈치국산         갈치수입  ...           피망   \n",
       "입력_일자                                                    ...                \n",
       "2017-11-01  1138.811563  2990.476190   NaN  5283.333333  ...  2617.487937  \\\n",
       "2017-11-02  1279.634465  3908.000000   NaN  6082.500000  ...  2177.572016   \n",
       "2017-11-03  1337.144420  3731.481481   NaN  5851.590909  ...  1990.880784   \n",
       "2017-11-04  1694.683099  3107.500000   NaN  5312.500000  ...  1849.665688   \n",
       "2017-11-06  1863.448104  3841.379310   NaN  4062.500000  ...  1746.699507   \n",
       "\n",
       "품목명             피망(단고추)        피조개국산        피조개수입  해삼국산          호박  호박잎   \n",
       "입력_일자                                                                      \n",
       "2017-11-01  2500.381944  1069.736842  4666.666667   NaN  965.149195  NaN  \\\n",
       "2017-11-02  2232.670220  1202.068966  5166.666667   NaN  968.806628  NaN   \n",
       "2017-11-03  2139.050036  1147.250000  5166.666667   NaN  997.324154  NaN   \n",
       "2017-11-04  2101.807229  1090.277778  5166.666667   NaN  904.921884  NaN   \n",
       "2017-11-06  2121.395349  1157.073171  5000.000000   NaN  967.508779  NaN   \n",
       "\n",
       "품목명                 홍고추        홍합국산      활복오징어국산  \n",
       "입력_일자                                             \n",
       "2017-11-01  3506.024454  918.357488  7045.833333  \n",
       "2017-11-02  3620.440729  913.194444  6666.666667  \n",
       "2017-11-03  3327.871148  910.476190  6666.666667  \n",
       "2017-11-04  4385.256410  918.493151  7235.416667  \n",
       "2017-11-06  4407.614087  912.500000  4688.888889  \n",
       "\n",
       "[5 rows x 298 columns]"
      ]
     },
     "execution_count": 144,
     "metadata": {},
     "output_type": "execute_result"
    }
   ],
   "source": [
    "data = data_uni_all.interpolate(method='slinear')\n",
    "data.head()"
   ]
  },
  {
   "cell_type": "code",
   "execution_count": 147,
   "metadata": {},
   "outputs": [
    {
     "data": {
      "text/plain": [
       "품목명\n",
       "가리비국산      0\n",
       "가리비수입      0\n",
       "가오리수입      0\n",
       "가오리채수입     0\n",
       "가자미국산      0\n",
       "          ..\n",
       "호박         0\n",
       "호박잎        0\n",
       "홍고추        0\n",
       "홍합국산       0\n",
       "활복오징어국산    0\n",
       "Length: 298, dtype: int64"
      ]
     },
     "execution_count": 147,
     "metadata": {},
     "output_type": "execute_result"
    }
   ],
   "source": [
    "# 남아있는 null값이 있는지 확인\n",
    "data = data.fillna(data.mean())\n",
    "data.isnull().sum()\n"
   ]
  },
  {
   "cell_type": "markdown",
   "metadata": {},
   "source": [
    "Model 정의"
   ]
  },
  {
   "cell_type": "code",
   "execution_count": 148,
   "metadata": {},
   "outputs": [
    {
     "data": {
      "text/plain": [
       "((1397, 21, 298), (1397, 7, 298))"
      ]
     },
     "execution_count": 148,
     "metadata": {},
     "output_type": "execute_result"
    }
   ],
   "source": [
    "WINDOW_SIZE = 21\n",
    "X, y = df_to_X_y(data, window_size=WINDOW_SIZE)\n",
    "X.shape, y.shape"
   ]
  },
  {
   "cell_type": "code",
   "execution_count": 149,
   "metadata": {},
   "outputs": [
    {
     "data": {
      "text/plain": [
       "((1060, 21, 298), (1060, 7, 298), (337, 21, 298), (337, 7, 298))"
      ]
     },
     "execution_count": 149,
     "metadata": {},
     "output_type": "execute_result"
    }
   ],
   "source": [
    "X_train, y_train = X[:1060], y[:1060]\n",
    "X_test, y_test = X[1060:], y[1060:]\n",
    "X_train.shape, y_train.shape, X_test.shape, y_test.shape"
   ]
  },
  {
   "cell_type": "code",
   "execution_count": 150,
   "metadata": {},
   "outputs": [],
   "source": [
    "from tensorflow.keras.models import Sequential\n",
    "from tensorflow.keras.layers import *\n",
    "from tensorflow.keras.callbacks import ModelCheckpoint\n",
    "from tensorflow.keras.losses import MeanSquaredError\n",
    "from tensorflow.keras.metrics import RootMeanSquaredError\n",
    "from tensorflow.keras.optimizers import Adam"
   ]
  },
  {
   "cell_type": "code",
   "execution_count": 168,
   "metadata": {},
   "outputs": [
    {
     "name": "stdout",
     "output_type": "stream",
     "text": [
      "Model: \"sequential_14\"\n",
      "_________________________________________________________________\n",
      " Layer (type)                Output Shape              Param #   \n",
      "=================================================================\n",
      " lstm_13 (LSTM)              (None, 64)                92928     \n",
      "                                                                 \n",
      " dense_26 (Dense)            (None, 8)                 520       \n",
      "                                                                 \n",
      " dense_27 (Dense)            (None, 298)               2682      \n",
      "                                                                 \n",
      "=================================================================\n",
      "Total params: 96130 (375.51 KB)\n",
      "Trainable params: 96130 (375.51 KB)\n",
      "Non-trainable params: 0 (0.00 Byte)\n",
      "_________________________________________________________________\n"
     ]
    }
   ],
   "source": [
    "model_1 = Sequential()\n",
    "model_1.add(InputLayer((21,298)))\n",
    "model_1.add(LSTM(64))\n",
    "model_1.add(Dense(8, activation='relu'))\n",
    "model_1.add(Dense(298, 'linear'))\n",
    "\n",
    "model_1.summary()"
   ]
  },
  {
   "cell_type": "code",
   "execution_count": 174,
   "metadata": {},
   "outputs": [
    {
     "name": "stdout",
     "output_type": "stream",
     "text": [
      "Model: \"sequential_17\"\n",
      "_________________________________________________________________\n",
      " Layer (type)                Output Shape              Param #   \n",
      "=================================================================\n",
      " lstm_17 (LSTM)              (None, 256)               568320    \n",
      "                                                                 \n",
      " repeat_vector_1 (RepeatVec  (None, 7, 256)            0         \n",
      " tor)                                                            \n",
      "                                                                 \n",
      " lstm_18 (LSTM)              (None, 7, 64)             82176     \n",
      "                                                                 \n",
      " time_distributed_11 (TimeD  (None, 7, 298)            19370     \n",
      " istributed)                                                     \n",
      "                                                                 \n",
      "=================================================================\n",
      "Total params: 669866 (2.56 MB)\n",
      "Trainable params: 669866 (2.56 MB)\n",
      "Non-trainable params: 0 (0.00 Byte)\n",
      "_________________________________________________________________\n"
     ]
    }
   ],
   "source": [
    "from keras.layers import RepeatVector\n",
    "\n",
    "model_1 = Sequential()\n",
    "model_1.add(InputLayer(input_shape=(21, 298)))\n",
    "model_1.add(LSTM(256, return_sequences=False))  # LSTM 레이어에서 출력을 마지막 시간 단계에서만 반환하도록 설정\n",
    "model_1.add(RepeatVector(7))  # 출력 시퀀스를 7번 반복\n",
    "model_1.add(LSTM(64, return_sequences=True))  # 모든 시간 단계에서 출력을 반환하도록 설정\n",
    "model_1.add(TimeDistributed(Dense(298)))  # 각 시간 단계에 Dense 레이어를 적용\n",
    "model_1.compile(loss='mean_squared_error', optimizer='adam')\n",
    "\n",
    "model_1.summary()"
   ]
  },
  {
   "cell_type": "code",
   "execution_count": 177,
   "metadata": {},
   "outputs": [
    {
     "name": "stderr",
     "output_type": "stream",
     "text": [
      "WARNING:absl:At this time, the v2.11+ optimizer `tf.keras.optimizers.Adam` runs slowly on M1/M2 Macs, please use the legacy Keras optimizer instead, located at `tf.keras.optimizers.legacy.Adam`.\n"
     ]
    }
   ],
   "source": [
    "cp = ModelCheckpoint('model_1/', save_best_only=True) # validation loss가 가장 낮은 모델을 저장\n",
    "model_1.compile(loss=MeanSquaredError(), optimizer=Adam(learning_rate=0.0005), metrics=[RootMeanSquaredError()])"
   ]
  },
  {
   "cell_type": "code",
   "execution_count": 178,
   "metadata": {},
   "outputs": [
    {
     "name": "stdout",
     "output_type": "stream",
     "text": [
      "Epoch 1/30\n",
      "33/34 [============================>.] - ETA: 0s - loss: 61861636.0000 - root_mean_squared_error: 7865.2173INFO:tensorflow:Assets written to: model_1/assets\n"
     ]
    },
    {
     "name": "stderr",
     "output_type": "stream",
     "text": [
      "INFO:tensorflow:Assets written to: model_1/assets\n"
     ]
    },
    {
     "name": "stdout",
     "output_type": "stream",
     "text": [
      "34/34 [==============================] - 8s 180ms/step - loss: 61851608.0000 - root_mean_squared_error: 7864.5796 - val_loss: 69142472.0000 - val_root_mean_squared_error: 8315.1953\n",
      "Epoch 2/30\n",
      "33/34 [============================>.] - ETA: 0s - loss: 61885680.0000 - root_mean_squared_error: 7866.7456INFO:tensorflow:Assets written to: model_1/assets\n"
     ]
    },
    {
     "name": "stderr",
     "output_type": "stream",
     "text": [
      "INFO:tensorflow:Assets written to: model_1/assets\n"
     ]
    },
    {
     "name": "stdout",
     "output_type": "stream",
     "text": [
      "34/34 [==============================] - 6s 177ms/step - loss: 61829936.0000 - root_mean_squared_error: 7863.2017 - val_loss: 69117888.0000 - val_root_mean_squared_error: 8313.7168\n",
      "Epoch 3/30\n",
      "34/34 [==============================] - ETA: 0s - loss: 61808348.0000 - root_mean_squared_error: 7861.8286INFO:tensorflow:Assets written to: model_1/assets\n"
     ]
    },
    {
     "name": "stderr",
     "output_type": "stream",
     "text": [
      "INFO:tensorflow:Assets written to: model_1/assets\n"
     ]
    },
    {
     "name": "stdout",
     "output_type": "stream",
     "text": [
      "34/34 [==============================] - 6s 186ms/step - loss: 61808348.0000 - root_mean_squared_error: 7861.8286 - val_loss: 69093384.0000 - val_root_mean_squared_error: 8312.2422\n",
      "Epoch 4/30\n",
      "32/34 [===========================>..] - ETA: 0s - loss: 60823232.0000 - root_mean_squared_error: 7798.9258INFO:tensorflow:Assets written to: model_1/assets\n"
     ]
    },
    {
     "name": "stderr",
     "output_type": "stream",
     "text": [
      "INFO:tensorflow:Assets written to: model_1/assets\n"
     ]
    },
    {
     "name": "stdout",
     "output_type": "stream",
     "text": [
      "34/34 [==============================] - 6s 179ms/step - loss: 61786736.0000 - root_mean_squared_error: 7860.4551 - val_loss: 69068864.0000 - val_root_mean_squared_error: 8310.7686\n",
      "Epoch 5/30\n",
      "32/34 [===========================>..] - ETA: 0s - loss: 62023112.0000 - root_mean_squared_error: 7875.4756INFO:tensorflow:Assets written to: model_1/assets\n"
     ]
    },
    {
     "name": "stderr",
     "output_type": "stream",
     "text": [
      "INFO:tensorflow:Assets written to: model_1/assets\n"
     ]
    },
    {
     "name": "stdout",
     "output_type": "stream",
     "text": [
      "34/34 [==============================] - 6s 175ms/step - loss: 61765156.0000 - root_mean_squared_error: 7859.0815 - val_loss: 69044392.0000 - val_root_mean_squared_error: 8309.2959\n",
      "Epoch 6/30\n",
      "34/34 [==============================] - ETA: 0s - loss: 61743596.0000 - root_mean_squared_error: 7857.7095INFO:tensorflow:Assets written to: model_1/assets\n"
     ]
    },
    {
     "name": "stderr",
     "output_type": "stream",
     "text": [
      "INFO:tensorflow:Assets written to: model_1/assets\n"
     ]
    },
    {
     "name": "stdout",
     "output_type": "stream",
     "text": [
      "34/34 [==============================] - 6s 192ms/step - loss: 61743596.0000 - root_mean_squared_error: 7857.7095 - val_loss: 69019888.0000 - val_root_mean_squared_error: 8307.8213\n",
      "Epoch 7/30\n",
      "33/34 [============================>.] - ETA: 0s - loss: 61764216.0000 - root_mean_squared_error: 7859.0215INFO:tensorflow:Assets written to: model_1/assets\n"
     ]
    },
    {
     "name": "stderr",
     "output_type": "stream",
     "text": [
      "INFO:tensorflow:Assets written to: model_1/assets\n"
     ]
    },
    {
     "name": "stdout",
     "output_type": "stream",
     "text": [
      "34/34 [==============================] - 6s 177ms/step - loss: 61722044.0000 - root_mean_squared_error: 7856.3379 - val_loss: 68995392.0000 - val_root_mean_squared_error: 8306.3467\n",
      "Epoch 8/30\n",
      "33/34 [============================>.] - ETA: 0s - loss: 61739704.0000 - root_mean_squared_error: 7857.4619INFO:tensorflow:Assets written to: model_1/assets\n"
     ]
    },
    {
     "name": "stderr",
     "output_type": "stream",
     "text": [
      "INFO:tensorflow:Assets written to: model_1/assets\n"
     ]
    },
    {
     "name": "stdout",
     "output_type": "stream",
     "text": [
      "34/34 [==============================] - 6s 176ms/step - loss: 61700504.0000 - root_mean_squared_error: 7854.9673 - val_loss: 68970960.0000 - val_root_mean_squared_error: 8304.8750\n",
      "Epoch 9/30\n",
      "32/34 [===========================>..] - ETA: 0s - loss: 60506700.0000 - root_mean_squared_error: 7778.6050INFO:tensorflow:Assets written to: model_1/assets\n"
     ]
    },
    {
     "name": "stderr",
     "output_type": "stream",
     "text": [
      "INFO:tensorflow:Assets written to: model_1/assets\n"
     ]
    },
    {
     "name": "stdout",
     "output_type": "stream",
     "text": [
      "34/34 [==============================] - 6s 183ms/step - loss: 61678972.0000 - root_mean_squared_error: 7853.5957 - val_loss: 68946472.0000 - val_root_mean_squared_error: 8303.4014\n",
      "Epoch 10/30\n",
      "33/34 [============================>.] - ETA: 0s - loss: 61710036.0000 - root_mean_squared_error: 7855.5732INFO:tensorflow:Assets written to: model_1/assets\n"
     ]
    },
    {
     "name": "stderr",
     "output_type": "stream",
     "text": [
      "INFO:tensorflow:Assets written to: model_1/assets\n"
     ]
    },
    {
     "name": "stdout",
     "output_type": "stream",
     "text": [
      "34/34 [==============================] - 7s 204ms/step - loss: 61657420.0000 - root_mean_squared_error: 7852.2241 - val_loss: 68922040.0000 - val_root_mean_squared_error: 8301.9297\n",
      "Epoch 11/30\n",
      "32/34 [===========================>..] - ETA: 0s - loss: 61882388.0000 - root_mean_squared_error: 7866.5356INFO:tensorflow:Assets written to: model_1/assets\n"
     ]
    },
    {
     "name": "stderr",
     "output_type": "stream",
     "text": [
      "INFO:tensorflow:Assets written to: model_1/assets\n"
     ]
    },
    {
     "name": "stdout",
     "output_type": "stream",
     "text": [
      "34/34 [==============================] - 6s 189ms/step - loss: 61635924.0000 - root_mean_squared_error: 7850.8545 - val_loss: 68897600.0000 - val_root_mean_squared_error: 8300.4580\n",
      "Epoch 12/30\n",
      "34/34 [==============================] - ETA: 0s - loss: 61614400.0000 - root_mean_squared_error: 7849.4839INFO:tensorflow:Assets written to: model_1/assets\n"
     ]
    },
    {
     "name": "stderr",
     "output_type": "stream",
     "text": [
      "INFO:tensorflow:Assets written to: model_1/assets\n"
     ]
    },
    {
     "name": "stdout",
     "output_type": "stream",
     "text": [
      "34/34 [==============================] - 6s 184ms/step - loss: 61614400.0000 - root_mean_squared_error: 7849.4839 - val_loss: 68873144.0000 - val_root_mean_squared_error: 8298.9844\n",
      "Epoch 13/30\n",
      "33/34 [============================>.] - ETA: 0s - loss: 61620096.0000 - root_mean_squared_error: 7849.8472INFO:tensorflow:Assets written to: model_1/assets\n"
     ]
    },
    {
     "name": "stderr",
     "output_type": "stream",
     "text": [
      "INFO:tensorflow:Assets written to: model_1/assets\n"
     ]
    },
    {
     "name": "stdout",
     "output_type": "stream",
     "text": [
      "34/34 [==============================] - 6s 184ms/step - loss: 61592908.0000 - root_mean_squared_error: 7848.1152 - val_loss: 68848792.0000 - val_root_mean_squared_error: 8297.5166\n",
      "Epoch 14/30\n",
      "33/34 [============================>.] - ETA: 0s - loss: 61609852.0000 - root_mean_squared_error: 7849.1948INFO:tensorflow:Assets written to: model_1/assets\n"
     ]
    },
    {
     "name": "stderr",
     "output_type": "stream",
     "text": [
      "INFO:tensorflow:Assets written to: model_1/assets\n"
     ]
    },
    {
     "name": "stdout",
     "output_type": "stream",
     "text": [
      "34/34 [==============================] - 6s 173ms/step - loss: 61571456.0000 - root_mean_squared_error: 7846.7485 - val_loss: 68824368.0000 - val_root_mean_squared_error: 8296.0459\n",
      "Epoch 15/30\n",
      "34/34 [==============================] - ETA: 0s - loss: 61549980.0000 - root_mean_squared_error: 7845.3804INFO:tensorflow:Assets written to: model_1/assets\n"
     ]
    },
    {
     "name": "stderr",
     "output_type": "stream",
     "text": [
      "INFO:tensorflow:Assets written to: model_1/assets\n"
     ]
    },
    {
     "name": "stdout",
     "output_type": "stream",
     "text": [
      "34/34 [==============================] - 6s 183ms/step - loss: 61549980.0000 - root_mean_squared_error: 7845.3804 - val_loss: 68800000.0000 - val_root_mean_squared_error: 8294.5771\n",
      "Epoch 16/30\n",
      "34/34 [==============================] - ETA: 0s - loss: 61528548.0000 - root_mean_squared_error: 7844.0137INFO:tensorflow:Assets written to: model_1/assets\n"
     ]
    },
    {
     "name": "stderr",
     "output_type": "stream",
     "text": [
      "INFO:tensorflow:Assets written to: model_1/assets\n"
     ]
    },
    {
     "name": "stdout",
     "output_type": "stream",
     "text": [
      "34/34 [==============================] - 6s 187ms/step - loss: 61528548.0000 - root_mean_squared_error: 7844.0137 - val_loss: 68775664.0000 - val_root_mean_squared_error: 8293.1094\n",
      "Epoch 17/30\n",
      "32/34 [===========================>..] - ETA: 0s - loss: 61360100.0000 - root_mean_squared_error: 7833.2686INFO:tensorflow:Assets written to: model_1/assets\n"
     ]
    },
    {
     "name": "stderr",
     "output_type": "stream",
     "text": [
      "INFO:tensorflow:Assets written to: model_1/assets\n"
     ]
    },
    {
     "name": "stdout",
     "output_type": "stream",
     "text": [
      "34/34 [==============================] - 6s 189ms/step - loss: 61507108.0000 - root_mean_squared_error: 7842.6460 - val_loss: 68751280.0000 - val_root_mean_squared_error: 8291.6396\n",
      "Epoch 18/30\n",
      "33/34 [============================>.] - ETA: 0s - loss: 61532012.0000 - root_mean_squared_error: 7844.2339INFO:tensorflow:Assets written to: model_1/assets\n"
     ]
    },
    {
     "name": "stderr",
     "output_type": "stream",
     "text": [
      "INFO:tensorflow:Assets written to: model_1/assets\n"
     ]
    },
    {
     "name": "stdout",
     "output_type": "stream",
     "text": [
      "34/34 [==============================] - 6s 191ms/step - loss: 61485632.0000 - root_mean_squared_error: 7841.2769 - val_loss: 68726888.0000 - val_root_mean_squared_error: 8290.1689\n",
      "Epoch 19/30\n",
      "32/34 [===========================>..] - ETA: 0s - loss: 61006932.0000 - root_mean_squared_error: 7810.6934INFO:tensorflow:Assets written to: model_1/assets\n"
     ]
    },
    {
     "name": "stderr",
     "output_type": "stream",
     "text": [
      "INFO:tensorflow:Assets written to: model_1/assets\n"
     ]
    },
    {
     "name": "stdout",
     "output_type": "stream",
     "text": [
      "34/34 [==============================] - 6s 191ms/step - loss: 61464208.0000 - root_mean_squared_error: 7839.9111 - val_loss: 68702584.0000 - val_root_mean_squared_error: 8288.7021\n",
      "Epoch 20/30\n",
      "32/34 [===========================>..] - ETA: 0s - loss: 61770696.0000 - root_mean_squared_error: 7859.4336INFO:tensorflow:Assets written to: model_1/assets\n"
     ]
    },
    {
     "name": "stderr",
     "output_type": "stream",
     "text": [
      "INFO:tensorflow:Assets written to: model_1/assets\n"
     ]
    },
    {
     "name": "stdout",
     "output_type": "stream",
     "text": [
      "34/34 [==============================] - 7s 199ms/step - loss: 61442852.0000 - root_mean_squared_error: 7838.5498 - val_loss: 68678288.0000 - val_root_mean_squared_error: 8287.2363\n",
      "Epoch 21/30\n",
      "32/34 [===========================>..] - ETA: 0s - loss: 61708052.0000 - root_mean_squared_error: 7855.4478INFO:tensorflow:Assets written to: model_1/assets\n"
     ]
    },
    {
     "name": "stderr",
     "output_type": "stream",
     "text": [
      "INFO:tensorflow:Assets written to: model_1/assets\n"
     ]
    },
    {
     "name": "stdout",
     "output_type": "stream",
     "text": [
      "34/34 [==============================] - 6s 189ms/step - loss: 61421468.0000 - root_mean_squared_error: 7837.1851 - val_loss: 68654024.0000 - val_root_mean_squared_error: 8285.7715\n",
      "Epoch 22/30\n",
      "34/34 [==============================] - ETA: 0s - loss: 61400148.0000 - root_mean_squared_error: 7835.8247INFO:tensorflow:Assets written to: model_1/assets\n"
     ]
    },
    {
     "name": "stderr",
     "output_type": "stream",
     "text": [
      "INFO:tensorflow:Assets written to: model_1/assets\n"
     ]
    },
    {
     "name": "stdout",
     "output_type": "stream",
     "text": [
      "34/34 [==============================] - 6s 194ms/step - loss: 61400148.0000 - root_mean_squared_error: 7835.8247 - val_loss: 68629768.0000 - val_root_mean_squared_error: 8284.3086\n",
      "Epoch 23/30\n",
      "32/34 [===========================>..] - ETA: 0s - loss: 61661040.0000 - root_mean_squared_error: 7852.4546INFO:tensorflow:Assets written to: model_1/assets\n"
     ]
    },
    {
     "name": "stderr",
     "output_type": "stream",
     "text": [
      "INFO:tensorflow:Assets written to: model_1/assets\n"
     ]
    },
    {
     "name": "stdout",
     "output_type": "stream",
     "text": [
      "34/34 [==============================] - 6s 186ms/step - loss: 61378752.0000 - root_mean_squared_error: 7834.4595 - val_loss: 68605512.0000 - val_root_mean_squared_error: 8282.8438\n",
      "Epoch 24/30\n",
      "34/34 [==============================] - ETA: 0s - loss: 61357424.0000 - root_mean_squared_error: 7833.0977INFO:tensorflow:Assets written to: model_1/assets\n"
     ]
    },
    {
     "name": "stderr",
     "output_type": "stream",
     "text": [
      "INFO:tensorflow:Assets written to: model_1/assets\n"
     ]
    },
    {
     "name": "stdout",
     "output_type": "stream",
     "text": [
      "34/34 [==============================] - 6s 177ms/step - loss: 61357424.0000 - root_mean_squared_error: 7833.0977 - val_loss: 68581240.0000 - val_root_mean_squared_error: 8281.3789\n",
      "Epoch 25/30\n",
      "33/34 [============================>.] - ETA: 0s - loss: 61364716.0000 - root_mean_squared_error: 7833.5635INFO:tensorflow:Assets written to: model_1/assets\n"
     ]
    },
    {
     "name": "stderr",
     "output_type": "stream",
     "text": [
      "INFO:tensorflow:Assets written to: model_1/assets\n"
     ]
    },
    {
     "name": "stdout",
     "output_type": "stream",
     "text": [
      "34/34 [==============================] - 6s 184ms/step - loss: 61336072.0000 - root_mean_squared_error: 7831.7354 - val_loss: 68556960.0000 - val_root_mean_squared_error: 8279.9131\n",
      "Epoch 26/30\n",
      "34/34 [==============================] - ETA: 0s - loss: 61314748.0000 - root_mean_squared_error: 7830.3735INFO:tensorflow:Assets written to: model_1/assets\n"
     ]
    },
    {
     "name": "stderr",
     "output_type": "stream",
     "text": [
      "INFO:tensorflow:Assets written to: model_1/assets\n"
     ]
    },
    {
     "name": "stdout",
     "output_type": "stream",
     "text": [
      "34/34 [==============================] - 6s 176ms/step - loss: 61314748.0000 - root_mean_squared_error: 7830.3735 - val_loss: 68532744.0000 - val_root_mean_squared_error: 8278.4492\n",
      "Epoch 27/30\n",
      "34/34 [==============================] - ETA: 0s - loss: 61293452.0000 - root_mean_squared_error: 7829.0132INFO:tensorflow:Assets written to: model_1/assets\n"
     ]
    },
    {
     "name": "stderr",
     "output_type": "stream",
     "text": [
      "INFO:tensorflow:Assets written to: model_1/assets\n"
     ]
    },
    {
     "name": "stdout",
     "output_type": "stream",
     "text": [
      "34/34 [==============================] - 6s 189ms/step - loss: 61293452.0000 - root_mean_squared_error: 7829.0132 - val_loss: 68508552.0000 - val_root_mean_squared_error: 8276.9893\n",
      "Epoch 28/30\n",
      "33/34 [============================>.] - ETA: 0s - loss: 61335436.0000 - root_mean_squared_error: 7831.6938INFO:tensorflow:Assets written to: model_1/assets\n"
     ]
    },
    {
     "name": "stderr",
     "output_type": "stream",
     "text": [
      "INFO:tensorflow:Assets written to: model_1/assets\n"
     ]
    },
    {
     "name": "stdout",
     "output_type": "stream",
     "text": [
      "34/34 [==============================] - 6s 178ms/step - loss: 61272164.0000 - root_mean_squared_error: 7827.6538 - val_loss: 68484336.0000 - val_root_mean_squared_error: 8275.5264\n",
      "Epoch 29/30\n",
      "33/34 [============================>.] - ETA: 0s - loss: 61274160.0000 - root_mean_squared_error: 7827.7812INFO:tensorflow:Assets written to: model_1/assets\n"
     ]
    },
    {
     "name": "stderr",
     "output_type": "stream",
     "text": [
      "INFO:tensorflow:Assets written to: model_1/assets\n"
     ]
    },
    {
     "name": "stdout",
     "output_type": "stream",
     "text": [
      "34/34 [==============================] - 6s 190ms/step - loss: 61250928.0000 - root_mean_squared_error: 7826.2974 - val_loss: 68460200.0000 - val_root_mean_squared_error: 8274.0684\n",
      "Epoch 30/30\n",
      "33/34 [============================>.] - ETA: 0s - loss: 61297804.0000 - root_mean_squared_error: 7829.2915INFO:tensorflow:Assets written to: model_1/assets\n"
     ]
    },
    {
     "name": "stderr",
     "output_type": "stream",
     "text": [
      "INFO:tensorflow:Assets written to: model_1/assets\n"
     ]
    },
    {
     "name": "stdout",
     "output_type": "stream",
     "text": [
      "34/34 [==============================] - 6s 178ms/step - loss: 61229644.0000 - root_mean_squared_error: 7824.9370 - val_loss: 68436040.0000 - val_root_mean_squared_error: 8272.6074\n"
     ]
    },
    {
     "data": {
      "text/plain": [
       "<keras.src.callbacks.History at 0x6e059df50>"
      ]
     },
     "execution_count": 178,
     "metadata": {},
     "output_type": "execute_result"
    }
   ],
   "source": [
    "# X_train = X_train.astype('float32')\n",
    "# y_train = y_train.astype('float32')\n",
    "# X_test = X_test.astype('float32')\n",
    "# y_test = y_test.astype('float32')\n",
    "\n",
    "model_1.fit(X_train, y_train, validation_data=(X_test, y_test), epochs=30, callbacks=[cp])"
   ]
  },
  {
   "cell_type": "code",
   "execution_count": 179,
   "metadata": {},
   "outputs": [
    {
     "name": "stderr",
     "output_type": "stream",
     "text": [
      "WARNING:absl:At this time, the v2.11+ optimizer `tf.keras.optimizers.Adam` runs slowly on M1/M2 Macs, please use the legacy Keras optimizer instead, located at `tf.keras.optimizers.legacy.Adam`.\n"
     ]
    },
    {
     "name": "stdout",
     "output_type": "stream",
     "text": [
      "Epoch 1/30\n",
      "33/34 [============================>.] - ETA: 0s - loss: 61256204.0000 - root_mean_squared_error: 7826.6338INFO:tensorflow:Assets written to: model_1/assets\n"
     ]
    },
    {
     "name": "stderr",
     "output_type": "stream",
     "text": [
      "INFO:tensorflow:Assets written to: model_1/assets\n"
     ]
    },
    {
     "name": "stdout",
     "output_type": "stream",
     "text": [
      "34/34 [==============================] - 8s 192ms/step - loss: 61213400.0000 - root_mean_squared_error: 7823.8989 - val_loss: 68423880.0000 - val_root_mean_squared_error: 8271.8730\n",
      "Epoch 2/30\n",
      "33/34 [============================>.] - ETA: 0s - loss: 61255988.0000 - root_mean_squared_error: 7826.6201INFO:tensorflow:Assets written to: model_1/assets\n"
     ]
    },
    {
     "name": "stderr",
     "output_type": "stream",
     "text": [
      "INFO:tensorflow:Assets written to: model_1/assets\n"
     ]
    },
    {
     "name": "stdout",
     "output_type": "stream",
     "text": [
      "34/34 [==============================] - 6s 192ms/step - loss: 61202704.0000 - root_mean_squared_error: 7823.2158 - val_loss: 68411752.0000 - val_root_mean_squared_error: 8271.1396\n",
      "Epoch 3/30\n",
      "32/34 [===========================>..] - ETA: 0s - loss: 61535268.0000 - root_mean_squared_error: 7844.4414INFO:tensorflow:Assets written to: model_1/assets\n"
     ]
    },
    {
     "name": "stderr",
     "output_type": "stream",
     "text": [
      "INFO:tensorflow:Assets written to: model_1/assets\n"
     ]
    },
    {
     "name": "stdout",
     "output_type": "stream",
     "text": [
      "34/34 [==============================] - 6s 178ms/step - loss: 61192024.0000 - root_mean_squared_error: 7822.5332 - val_loss: 68399600.0000 - val_root_mean_squared_error: 8270.4053\n",
      "Epoch 4/30\n",
      "32/34 [===========================>..] - ETA: 0s - loss: 61447984.0000 - root_mean_squared_error: 7838.8760INFO:tensorflow:Assets written to: model_1/assets\n"
     ]
    },
    {
     "name": "stderr",
     "output_type": "stream",
     "text": [
      "INFO:tensorflow:Assets written to: model_1/assets\n"
     ]
    },
    {
     "name": "stdout",
     "output_type": "stream",
     "text": [
      "34/34 [==============================] - 6s 195ms/step - loss: 61181364.0000 - root_mean_squared_error: 7821.8516 - val_loss: 68387472.0000 - val_root_mean_squared_error: 8269.6709\n",
      "Epoch 5/30\n",
      "32/34 [===========================>..] - ETA: 0s - loss: 61383420.0000 - root_mean_squared_error: 7834.7573INFO:tensorflow:Assets written to: model_1/assets\n"
     ]
    },
    {
     "name": "stderr",
     "output_type": "stream",
     "text": [
      "INFO:tensorflow:Assets written to: model_1/assets\n"
     ]
    },
    {
     "name": "stdout",
     "output_type": "stream",
     "text": [
      "34/34 [==============================] - 6s 176ms/step - loss: 61170680.0000 - root_mean_squared_error: 7821.1689 - val_loss: 68375344.0000 - val_root_mean_squared_error: 8268.9385\n",
      "Epoch 6/30\n",
      "32/34 [===========================>..] - ETA: 0s - loss: 60761212.0000 - root_mean_squared_error: 7794.9487INFO:tensorflow:Assets written to: model_1/assets\n"
     ]
    },
    {
     "name": "stderr",
     "output_type": "stream",
     "text": [
      "INFO:tensorflow:Assets written to: model_1/assets\n"
     ]
    },
    {
     "name": "stdout",
     "output_type": "stream",
     "text": [
      "34/34 [==============================] - 6s 180ms/step - loss: 61160012.0000 - root_mean_squared_error: 7820.4873 - val_loss: 68363200.0000 - val_root_mean_squared_error: 8268.2041\n",
      "Epoch 7/30\n",
      "34/34 [==============================] - ETA: 0s - loss: 61149352.0000 - root_mean_squared_error: 7819.8047INFO:tensorflow:Assets written to: model_1/assets\n"
     ]
    },
    {
     "name": "stderr",
     "output_type": "stream",
     "text": [
      "INFO:tensorflow:Assets written to: model_1/assets\n"
     ]
    },
    {
     "name": "stdout",
     "output_type": "stream",
     "text": [
      "34/34 [==============================] - 7s 198ms/step - loss: 61149352.0000 - root_mean_squared_error: 7819.8047 - val_loss: 68351048.0000 - val_root_mean_squared_error: 8267.4697\n",
      "Epoch 8/30\n",
      "32/34 [===========================>..] - ETA: 0s - loss: 60215404.0000 - root_mean_squared_error: 7759.8579INFO:tensorflow:Assets written to: model_1/assets\n"
     ]
    },
    {
     "name": "stderr",
     "output_type": "stream",
     "text": [
      "INFO:tensorflow:Assets written to: model_1/assets\n"
     ]
    },
    {
     "name": "stdout",
     "output_type": "stream",
     "text": [
      "34/34 [==============================] - 6s 189ms/step - loss: 61138676.0000 - root_mean_squared_error: 7819.1221 - val_loss: 68338936.0000 - val_root_mean_squared_error: 8266.7363\n",
      "Epoch 9/30\n",
      "33/34 [============================>.] - ETA: 0s - loss: 61169836.0000 - root_mean_squared_error: 7821.1147INFO:tensorflow:Assets written to: model_1/assets\n"
     ]
    },
    {
     "name": "stderr",
     "output_type": "stream",
     "text": [
      "INFO:tensorflow:Assets written to: model_1/assets\n"
     ]
    },
    {
     "name": "stdout",
     "output_type": "stream",
     "text": [
      "34/34 [==============================] - 6s 182ms/step - loss: 61128012.0000 - root_mean_squared_error: 7818.4404 - val_loss: 68326824.0000 - val_root_mean_squared_error: 8266.0039\n",
      "Epoch 10/30\n",
      "33/34 [============================>.] - ETA: 0s - loss: 61168852.0000 - root_mean_squared_error: 7821.0522INFO:tensorflow:Assets written to: model_1/assets\n"
     ]
    },
    {
     "name": "stderr",
     "output_type": "stream",
     "text": [
      "INFO:tensorflow:Assets written to: model_1/assets\n"
     ]
    },
    {
     "name": "stdout",
     "output_type": "stream",
     "text": [
      "34/34 [==============================] - 6s 182ms/step - loss: 61117360.0000 - root_mean_squared_error: 7817.7598 - val_loss: 68314696.0000 - val_root_mean_squared_error: 8265.2705\n",
      "Epoch 11/30\n",
      "33/34 [============================>.] - ETA: 0s - loss: 61163748.0000 - root_mean_squared_error: 7820.7251INFO:tensorflow:Assets written to: model_1/assets\n"
     ]
    },
    {
     "name": "stderr",
     "output_type": "stream",
     "text": [
      "INFO:tensorflow:Assets written to: model_1/assets\n"
     ]
    },
    {
     "name": "stdout",
     "output_type": "stream",
     "text": [
      "34/34 [==============================] - 6s 191ms/step - loss: 61106716.0000 - root_mean_squared_error: 7817.0781 - val_loss: 68302608.0000 - val_root_mean_squared_error: 8264.5391\n",
      "Epoch 12/30\n",
      "33/34 [============================>.] - ETA: 0s - loss: 61118732.0000 - root_mean_squared_error: 7817.8467INFO:tensorflow:Assets written to: model_1/assets\n"
     ]
    },
    {
     "name": "stderr",
     "output_type": "stream",
     "text": [
      "INFO:tensorflow:Assets written to: model_1/assets\n"
     ]
    },
    {
     "name": "stdout",
     "output_type": "stream",
     "text": [
      "34/34 [==============================] - 6s 181ms/step - loss: 61096076.0000 - root_mean_squared_error: 7816.3975 - val_loss: 68290504.0000 - val_root_mean_squared_error: 8263.8066\n",
      "Epoch 13/30\n",
      "33/34 [============================>.] - ETA: 0s - loss: 61155032.0000 - root_mean_squared_error: 7820.1685INFO:tensorflow:Assets written to: model_1/assets\n"
     ]
    },
    {
     "name": "stderr",
     "output_type": "stream",
     "text": [
      "INFO:tensorflow:Assets written to: model_1/assets\n"
     ]
    },
    {
     "name": "stdout",
     "output_type": "stream",
     "text": [
      "34/34 [==============================] - 7s 211ms/step - loss: 61085420.0000 - root_mean_squared_error: 7815.7163 - val_loss: 68278384.0000 - val_root_mean_squared_error: 8263.0732\n",
      "Epoch 14/30\n",
      "32/34 [===========================>..] - ETA: 0s - loss: 61280544.0000 - root_mean_squared_error: 7828.1885INFO:tensorflow:Assets written to: model_1/assets\n"
     ]
    },
    {
     "name": "stderr",
     "output_type": "stream",
     "text": [
      "INFO:tensorflow:Assets written to: model_1/assets\n"
     ]
    },
    {
     "name": "stdout",
     "output_type": "stream",
     "text": [
      "34/34 [==============================] - 6s 187ms/step - loss: 61074800.0000 - root_mean_squared_error: 7815.0361 - val_loss: 68266288.0000 - val_root_mean_squared_error: 8262.3418\n",
      "Epoch 15/30\n",
      "34/34 [==============================] - ETA: 0s - loss: 61064148.0000 - root_mean_squared_error: 7814.3550INFO:tensorflow:Assets written to: model_1/assets\n"
     ]
    },
    {
     "name": "stderr",
     "output_type": "stream",
     "text": [
      "INFO:tensorflow:Assets written to: model_1/assets\n"
     ]
    },
    {
     "name": "stdout",
     "output_type": "stream",
     "text": [
      "34/34 [==============================] - 6s 189ms/step - loss: 61064148.0000 - root_mean_squared_error: 7814.3550 - val_loss: 68254200.0000 - val_root_mean_squared_error: 8261.6104\n",
      "Epoch 16/30\n",
      "34/34 [==============================] - ETA: 0s - loss: 61053512.0000 - root_mean_squared_error: 7813.6748INFO:tensorflow:Assets written to: model_1/assets\n"
     ]
    },
    {
     "name": "stderr",
     "output_type": "stream",
     "text": [
      "INFO:tensorflow:Assets written to: model_1/assets\n"
     ]
    },
    {
     "name": "stdout",
     "output_type": "stream",
     "text": [
      "34/34 [==============================] - 6s 180ms/step - loss: 61053512.0000 - root_mean_squared_error: 7813.6748 - val_loss: 68242080.0000 - val_root_mean_squared_error: 8260.8770\n",
      "Epoch 17/30\n",
      "32/34 [===========================>..] - ETA: 0s - loss: 60511352.0000 - root_mean_squared_error: 7778.9053INFO:tensorflow:Assets written to: model_1/assets\n"
     ]
    },
    {
     "name": "stderr",
     "output_type": "stream",
     "text": [
      "INFO:tensorflow:Assets written to: model_1/assets\n"
     ]
    },
    {
     "name": "stdout",
     "output_type": "stream",
     "text": [
      "34/34 [==============================] - 6s 177ms/step - loss: 61042864.0000 - root_mean_squared_error: 7812.9941 - val_loss: 68229984.0000 - val_root_mean_squared_error: 8260.1445\n",
      "Epoch 18/30\n",
      "32/34 [===========================>..] - ETA: 0s - loss: 60443228.0000 - root_mean_squared_error: 7774.5244INFO:tensorflow:Assets written to: model_1/assets\n"
     ]
    },
    {
     "name": "stderr",
     "output_type": "stream",
     "text": [
      "INFO:tensorflow:Assets written to: model_1/assets\n"
     ]
    },
    {
     "name": "stdout",
     "output_type": "stream",
     "text": [
      "34/34 [==============================] - 6s 195ms/step - loss: 61032240.0000 - root_mean_squared_error: 7812.3135 - val_loss: 68217872.0000 - val_root_mean_squared_error: 8259.4111\n",
      "Epoch 19/30\n",
      "32/34 [===========================>..] - ETA: 0s - loss: 60836736.0000 - root_mean_squared_error: 7799.7910INFO:tensorflow:Assets written to: model_1/assets\n"
     ]
    },
    {
     "name": "stderr",
     "output_type": "stream",
     "text": [
      "INFO:tensorflow:Assets written to: model_1/assets\n"
     ]
    },
    {
     "name": "stdout",
     "output_type": "stream",
     "text": [
      "34/34 [==============================] - 6s 179ms/step - loss: 61021600.0000 - root_mean_squared_error: 7811.6333 - val_loss: 68205792.0000 - val_root_mean_squared_error: 8258.6797\n",
      "Epoch 20/30\n",
      "32/34 [===========================>..] - ETA: 0s - loss: 61321620.0000 - root_mean_squared_error: 7830.8120INFO:tensorflow:Assets written to: model_1/assets\n"
     ]
    },
    {
     "name": "stderr",
     "output_type": "stream",
     "text": [
      "INFO:tensorflow:Assets written to: model_1/assets\n"
     ]
    },
    {
     "name": "stdout",
     "output_type": "stream",
     "text": [
      "34/34 [==============================] - 6s 192ms/step - loss: 61010992.0000 - root_mean_squared_error: 7810.9531 - val_loss: 68193720.0000 - val_root_mean_squared_error: 8257.9492\n",
      "Epoch 21/30\n",
      "32/34 [===========================>..] - ETA: 0s - loss: 61304004.0000 - root_mean_squared_error: 7829.6875INFO:tensorflow:Assets written to: model_1/assets\n"
     ]
    },
    {
     "name": "stderr",
     "output_type": "stream",
     "text": [
      "INFO:tensorflow:Assets written to: model_1/assets\n"
     ]
    },
    {
     "name": "stdout",
     "output_type": "stream",
     "text": [
      "34/34 [==============================] - 6s 178ms/step - loss: 61000368.0000 - root_mean_squared_error: 7810.2729 - val_loss: 68181624.0000 - val_root_mean_squared_error: 8257.2158\n",
      "Epoch 22/30\n",
      "32/34 [===========================>..] - ETA: 0s - loss: 60730784.0000 - root_mean_squared_error: 7792.9966INFO:tensorflow:Assets written to: model_1/assets\n"
     ]
    },
    {
     "name": "stderr",
     "output_type": "stream",
     "text": [
      "INFO:tensorflow:Assets written to: model_1/assets\n"
     ]
    },
    {
     "name": "stdout",
     "output_type": "stream",
     "text": [
      "34/34 [==============================] - 6s 178ms/step - loss: 60989736.0000 - root_mean_squared_error: 7809.5933 - val_loss: 68169552.0000 - val_root_mean_squared_error: 8256.4854\n",
      "Epoch 23/30\n",
      "32/34 [===========================>..] - ETA: 0s - loss: 61360052.0000 - root_mean_squared_error: 7833.2661INFO:tensorflow:Assets written to: model_1/assets\n"
     ]
    },
    {
     "name": "stderr",
     "output_type": "stream",
     "text": [
      "INFO:tensorflow:Assets written to: model_1/assets\n"
     ]
    },
    {
     "name": "stdout",
     "output_type": "stream",
     "text": [
      "34/34 [==============================] - 6s 195ms/step - loss: 60979124.0000 - root_mean_squared_error: 7808.9131 - val_loss: 68157456.0000 - val_root_mean_squared_error: 8255.7520\n",
      "Epoch 24/30\n",
      "32/34 [===========================>..] - ETA: 0s - loss: 61252996.0000 - root_mean_squared_error: 7826.4292INFO:tensorflow:Assets written to: model_1/assets\n"
     ]
    },
    {
     "name": "stderr",
     "output_type": "stream",
     "text": [
      "INFO:tensorflow:Assets written to: model_1/assets\n"
     ]
    },
    {
     "name": "stdout",
     "output_type": "stream",
     "text": [
      "34/34 [==============================] - 6s 184ms/step - loss: 60968504.0000 - root_mean_squared_error: 7808.2329 - val_loss: 68145416.0000 - val_root_mean_squared_error: 8255.0234\n",
      "Epoch 25/30\n",
      "32/34 [===========================>..] - ETA: 0s - loss: 60375736.0000 - root_mean_squared_error: 7770.1816INFO:tensorflow:Assets written to: model_1/assets\n"
     ]
    },
    {
     "name": "stderr",
     "output_type": "stream",
     "text": [
      "INFO:tensorflow:Assets written to: model_1/assets\n"
     ]
    },
    {
     "name": "stdout",
     "output_type": "stream",
     "text": [
      "34/34 [==============================] - 6s 180ms/step - loss: 60957900.0000 - root_mean_squared_error: 7807.5537 - val_loss: 68133352.0000 - val_root_mean_squared_error: 8254.2930\n",
      "Epoch 26/30\n",
      "34/34 [==============================] - ETA: 0s - loss: 60947280.0000 - root_mean_squared_error: 7806.8735INFO:tensorflow:Assets written to: model_1/assets\n"
     ]
    },
    {
     "name": "stderr",
     "output_type": "stream",
     "text": [
      "INFO:tensorflow:Assets written to: model_1/assets\n"
     ]
    },
    {
     "name": "stdout",
     "output_type": "stream",
     "text": [
      "34/34 [==============================] - 6s 177ms/step - loss: 60947280.0000 - root_mean_squared_error: 7806.8735 - val_loss: 68121256.0000 - val_root_mean_squared_error: 8253.5605\n",
      "Epoch 27/30\n",
      "32/34 [===========================>..] - ETA: 0s - loss: 60012872.0000 - root_mean_squared_error: 7746.7969INFO:tensorflow:Assets written to: model_1/assets\n"
     ]
    },
    {
     "name": "stderr",
     "output_type": "stream",
     "text": [
      "INFO:tensorflow:Assets written to: model_1/assets\n"
     ]
    },
    {
     "name": "stdout",
     "output_type": "stream",
     "text": [
      "34/34 [==============================] - 6s 195ms/step - loss: 60936684.0000 - root_mean_squared_error: 7806.1943 - val_loss: 68109184.0000 - val_root_mean_squared_error: 8252.8291\n",
      "Epoch 28/30\n",
      "32/34 [===========================>..] - ETA: 0s - loss: 61230220.0000 - root_mean_squared_error: 7824.9736INFO:tensorflow:Assets written to: model_1/assets\n"
     ]
    },
    {
     "name": "stderr",
     "output_type": "stream",
     "text": [
      "INFO:tensorflow:Assets written to: model_1/assets\n"
     ]
    },
    {
     "name": "stdout",
     "output_type": "stream",
     "text": [
      "34/34 [==============================] - 6s 186ms/step - loss: 60926072.0000 - root_mean_squared_error: 7805.5151 - val_loss: 68097096.0000 - val_root_mean_squared_error: 8252.0967\n",
      "Epoch 29/30\n",
      "33/34 [============================>.] - ETA: 0s - loss: 60969752.0000 - root_mean_squared_error: 7808.3120INFO:tensorflow:Assets written to: model_1/assets\n"
     ]
    },
    {
     "name": "stderr",
     "output_type": "stream",
     "text": [
      "INFO:tensorflow:Assets written to: model_1/assets\n"
     ]
    },
    {
     "name": "stdout",
     "output_type": "stream",
     "text": [
      "34/34 [==============================] - 6s 189ms/step - loss: 60915476.0000 - root_mean_squared_error: 7804.8354 - val_loss: 68085040.0000 - val_root_mean_squared_error: 8251.3652\n",
      "Epoch 30/30\n",
      "34/34 [==============================] - ETA: 0s - loss: 60904864.0000 - root_mean_squared_error: 7804.1572INFO:tensorflow:Assets written to: model_1/assets\n"
     ]
    },
    {
     "name": "stderr",
     "output_type": "stream",
     "text": [
      "INFO:tensorflow:Assets written to: model_1/assets\n"
     ]
    },
    {
     "name": "stdout",
     "output_type": "stream",
     "text": [
      "34/34 [==============================] - 6s 189ms/step - loss: 60904864.0000 - root_mean_squared_error: 7804.1572 - val_loss: 68072992.0000 - val_root_mean_squared_error: 8250.6367\n"
     ]
    },
    {
     "data": {
      "text/plain": [
       "<keras.src.callbacks.History at 0x6e7ea8650>"
      ]
     },
     "execution_count": 179,
     "metadata": {},
     "output_type": "execute_result"
    }
   ],
   "source": [
    "cp = ModelCheckpoint('model_1/', save_best_only=True) # validation loss가 가장 낮은 모델을 저장\n",
    "model_1.compile(loss=MeanSquaredError(), optimizer=Adam(learning_rate=0.0005), metrics=[RootMeanSquaredError()])\n",
    "model_1.fit(X_train, y_train, validation_data=(X_test, y_test), epochs=30, callbacks=[cp])"
   ]
  },
  {
   "cell_type": "code",
   "execution_count": 180,
   "metadata": {},
   "outputs": [
    {
     "name": "stderr",
     "output_type": "stream",
     "text": [
      "WARNING:absl:At this time, the v2.11+ optimizer `tf.keras.optimizers.RestoredOptimizer` runs slowly on M1/M2 Macs, please use the legacy Keras optimizer instead, located at `tf.keras.optimizers.legacy.RestoredOptimizer`.\n",
      "WARNING:absl:At this time, the v2.11+ optimizer `tf.keras.optimizers.Adam` runs slowly on M1/M2 Macs, please use the legacy Keras optimizer instead, located at `tf.keras.optimizers.legacy.Adam`.\n"
     ]
    }
   ],
   "source": [
    "from tensorflow.keras.models import load_model\n",
    "model_1 = load_model('model_1/')  # 저장된 모델 불러오기"
   ]
  },
  {
   "cell_type": "code",
   "execution_count": 185,
   "metadata": {},
   "outputs": [
    {
     "data": {
      "text/plain": [
       "(1060, 21, 298)"
      ]
     },
     "execution_count": 185,
     "metadata": {},
     "output_type": "execute_result"
    }
   ],
   "source": [
    "X_train.shape"
   ]
  },
  {
   "cell_type": "code",
   "execution_count": 188,
   "metadata": {},
   "outputs": [
    {
     "name": "stdout",
     "output_type": "stream",
     "text": [
      "34/34 [==============================] - 0s 9ms/step\n"
     ]
    },
    {
     "data": {
      "text/plain": [
       "(1060, 7, 298)"
      ]
     },
     "execution_count": 188,
     "metadata": {},
     "output_type": "execute_result"
    }
   ],
   "source": [
    "train_predictions = model_1.predict(X_train)\n",
    "train_predictions.shape\n",
    "# train_results = pd.DataFrame(data={'Train Predictions':train_predictions, 'Actuals':y_train})\n",
    "# train_results"
   ]
  },
  {
   "cell_type": "code",
   "execution_count": 212,
   "metadata": {},
   "outputs": [
    {
     "name": "stdout",
     "output_type": "stream",
     "text": [
      "(7, 298)\n",
      "(7,)\n",
      "[ 81.44971  102.66679  105.91873  106.36674  106.427505 106.43577\n",
      " 106.43686 ]\n"
     ]
    }
   ],
   "source": [
    "print(train_predictions[0].shape)\n",
    "print(train_predictions[0, :, 0].shape)\n",
    "for i in range(10):\n",
    "    plt.plot(train_predictions[i, :, 0])\n",
    "    plt.plot(y_train[i, :, 0])\n",
    "    plt.show()\n",
    "print(train_predictions[0, :, 0])"
   ]
  },
  {
   "cell_type": "code",
   "execution_count": 218,
   "metadata": {},
   "outputs": [
    {
     "data": {
      "text/plain": [
       "[<matplotlib.lines.Line2D at 0x6e0e7e6d0>,\n",
       " <matplotlib.lines.Line2D at 0x6e92a7750>,\n",
       " <matplotlib.lines.Line2D at 0x6e92a6b50>,\n",
       " <matplotlib.lines.Line2D at 0x6e15b46d0>,\n",
       " <matplotlib.lines.Line2D at 0x6e92a5e10>,\n",
       " <matplotlib.lines.Line2D at 0x1790e4490>,\n",
       " <matplotlib.lines.Line2D at 0x6e92a5150>]"
      ]
     },
     "execution_count": 218,
     "metadata": {},
     "output_type": "execute_result"
    },
    {
     "data": {
      "image/png": "[encoded data removed]",
      "text/plain": [
       "<Figure size 640x480 with 1 Axes>"
      ]
     },
     "metadata": {},
     "output_type": "display_data"
    }
   ],
   "source": [
    "plt.plot(train_predictions[:100, :, 0])\n",
    "plt.plot(y_train[:100, :, 0])"
   ]
  },
  {
   "cell_type": "markdown",
   "metadata": {},
   "source": [
    "예측 모델을 21 -> 7이 아닌 7->1로 변경"
   ]
  },
  {
   "cell_type": "code",
   "execution_count": 215,
   "metadata": {},
   "outputs": [],
   "source": [
    "def df_to_X_y(df, window_size=7):\n",
    "    df_as_np = df.to_numpy()\n",
    "    X = []\n",
    "    y = []\n",
    "    for i in range(len(df_as_np)-window_size):  # 인덱스를 초과하지 않기 위해서\n",
    "        row = df_as_np[i:i+window_size]\n",
    "        X.append(row)\n",
    "        y.append(df_as_np[i+window_size])\n",
    "    return np.array(X), np.array(y)"
   ]
  },
  {
   "cell_type": "code",
   "execution_count": 220,
   "metadata": {},
   "outputs": [
    {
     "data": {
      "text/plain": [
       "((1418, 7, 298), (1418, 298))"
      ]
     },
     "execution_count": 220,
     "metadata": {},
     "output_type": "execute_result"
    }
   ],
   "source": [
    "WINDOW_SIZE = 7\n",
    "X, y = df_to_X_y(data, window_size=WINDOW_SIZE)\n",
    "X.shape, y.shape"
   ]
  },
  {
   "cell_type": "code",
   "execution_count": 219,
   "metadata": {},
   "outputs": [
    {
     "data": {
      "text/plain": [
       "((1060, 7, 298), (1060, 298), (358, 7, 298), (358, 298))"
      ]
     },
     "execution_count": 219,
     "metadata": {},
     "output_type": "execute_result"
    }
   ],
   "source": [
    "X_train, y_train = X[:1060], y[:1060]\n",
    "X_test, y_test = X[1060:], y[1060:]\n",
    "X_train.shape, y_train.shape, X_test.shape, y_test.shape"
   ]
  },
  {
   "cell_type": "code",
   "execution_count": 225,
   "metadata": {},
   "outputs": [
    {
     "name": "stdout",
     "output_type": "stream",
     "text": [
      "Model: \"sequential_20\"\n",
      "_________________________________________________________________\n",
      " Layer (type)                Output Shape              Param #   \n",
      "=================================================================\n",
      " lstm_21 (LSTM)              (None, 64)                92928     \n",
      "                                                                 \n",
      " dense_36 (Dense)            (None, 8)                 520       \n",
      "                                                                 \n",
      " dense_37 (Dense)            (None, 1)                 9         \n",
      "                                                                 \n",
      "=================================================================\n",
      "Total params: 93457 (365.07 KB)\n",
      "Trainable params: 93457 (365.07 KB)\n",
      "Non-trainable params: 0 (0.00 Byte)\n",
      "_________________________________________________________________\n"
     ]
    }
   ],
   "source": [
    "model_2 = Sequential()\n",
    "model_2.add(InputLayer((WINDOW_SIZE,298)))\n",
    "model_2.add(LSTM(64))\n",
    "model_2.add(Dense(8, activation='relu'))\n",
    "model_2.add(Dense(1, 'linear'))\n",
    "\n",
    "model_2.summary()"
   ]
  },
  {
   "cell_type": "code",
   "execution_count": 228,
   "metadata": {},
   "outputs": [
    {
     "name": "stderr",
     "output_type": "stream",
     "text": [
      "WARNING:absl:At this time, the v2.11+ optimizer `tf.keras.optimizers.Adam` runs slowly on M1/M2 Macs, please use the legacy Keras optimizer instead, located at `tf.keras.optimizers.legacy.Adam`.\n"
     ]
    },
    {
     "name": "stdout",
     "output_type": "stream",
     "text": [
      "Epoch 1/30\n",
      "20/34 [================>.............] - ETA: 0s - loss: 47619404.0000 - root_mean_squared_error: 6900.6816  INFO:tensorflow:Assets written to: model_2/assets\n"
     ]
    },
    {
     "name": "stderr",
     "output_type": "stream",
     "text": [
      "INFO:tensorflow:Assets written to: model_2/assets\n"
     ]
    },
    {
     "name": "stdout",
     "output_type": "stream",
     "text": [
      "34/34 [==============================] - 5s 100ms/step - loss: 56182292.0000 - root_mean_squared_error: 7495.4849 - val_loss: 64124264.0000 - val_root_mean_squared_error: 8007.7627\n",
      "Epoch 2/30\n",
      "19/34 [===============>..............] - ETA: 0s - loss: 56160800.0000 - root_mean_squared_error: 7494.0508INFO:tensorflow:Assets written to: model_2/assets\n"
     ]
    },
    {
     "name": "stderr",
     "output_type": "stream",
     "text": [
      "INFO:tensorflow:Assets written to: model_2/assets\n"
     ]
    },
    {
     "name": "stdout",
     "output_type": "stream",
     "text": [
      "34/34 [==============================] - 2s 69ms/step - loss: 55975328.0000 - root_mean_squared_error: 7481.6660 - val_loss: 63890500.0000 - val_root_mean_squared_error: 7993.1528\n",
      "Epoch 3/30\n",
      "19/34 [===============>..............] - ETA: 0s - loss: 61818576.0000 - root_mean_squared_error: 7862.4785INFO:tensorflow:Assets written to: model_2/assets\n"
     ]
    },
    {
     "name": "stderr",
     "output_type": "stream",
     "text": [
      "INFO:tensorflow:Assets written to: model_2/assets\n"
     ]
    },
    {
     "name": "stdout",
     "output_type": "stream",
     "text": [
      "34/34 [==============================] - 3s 97ms/step - loss: 55772068.0000 - root_mean_squared_error: 7468.0708 - val_loss: 63651972.0000 - val_root_mean_squared_error: 7978.2192\n",
      "Epoch 4/30\n",
      "17/34 [==============>...............] - ETA: 0s - loss: 62862428.0000 - root_mean_squared_error: 7928.5830INFO:tensorflow:Assets written to: model_2/assets\n"
     ]
    },
    {
     "name": "stderr",
     "output_type": "stream",
     "text": [
      "INFO:tensorflow:Assets written to: model_2/assets\n"
     ]
    },
    {
     "name": "stdout",
     "output_type": "stream",
     "text": [
      "34/34 [==============================] - 3s 93ms/step - loss: 55564572.0000 - root_mean_squared_error: 7454.1646 - val_loss: 63407720.0000 - val_root_mean_squared_error: 7962.8965\n",
      "Epoch 5/30\n",
      "18/34 [==============>...............] - ETA: 0s - loss: 53344144.0000 - root_mean_squared_error: 7303.7075INFO:tensorflow:Assets written to: model_2/assets\n"
     ]
    },
    {
     "name": "stderr",
     "output_type": "stream",
     "text": [
      "INFO:tensorflow:Assets written to: model_2/assets\n"
     ]
    },
    {
     "name": "stdout",
     "output_type": "stream",
     "text": [
      "34/34 [==============================] - 4s 122ms/step - loss: 55352668.0000 - root_mean_squared_error: 7439.9375 - val_loss: 63158832.0000 - val_root_mean_squared_error: 7947.2539\n",
      "Epoch 6/30\n",
      "18/34 [==============>...............] - ETA: 0s - loss: 55563984.0000 - root_mean_squared_error: 7454.1260INFO:tensorflow:Assets written to: model_2/assets\n"
     ]
    },
    {
     "name": "stderr",
     "output_type": "stream",
     "text": [
      "INFO:tensorflow:Assets written to: model_2/assets\n"
     ]
    },
    {
     "name": "stdout",
     "output_type": "stream",
     "text": [
      "34/34 [==============================] - 2s 69ms/step - loss: 55136584.0000 - root_mean_squared_error: 7425.4014 - val_loss: 62904244.0000 - val_root_mean_squared_error: 7931.2192\n",
      "Epoch 7/30\n",
      "20/34 [================>.............] - ETA: 0s - loss: 51991556.0000 - root_mean_squared_error: 7210.5171INFO:tensorflow:Assets written to: model_2/assets\n"
     ]
    },
    {
     "name": "stderr",
     "output_type": "stream",
     "text": [
      "INFO:tensorflow:Assets written to: model_2/assets\n"
     ]
    },
    {
     "name": "stdout",
     "output_type": "stream",
     "text": [
      "34/34 [==============================] - 3s 94ms/step - loss: 54916024.0000 - root_mean_squared_error: 7410.5352 - val_loss: 62644424.0000 - val_root_mean_squared_error: 7914.8237\n",
      "Epoch 8/30\n",
      "18/34 [==============>...............] - ETA: 0s - loss: 61088164.0000 - root_mean_squared_error: 7815.8921INFO:tensorflow:Assets written to: model_2/assets\n"
     ]
    },
    {
     "name": "stderr",
     "output_type": "stream",
     "text": [
      "INFO:tensorflow:Assets written to: model_2/assets\n"
     ]
    },
    {
     "name": "stdout",
     "output_type": "stream",
     "text": [
      "34/34 [==============================] - 3s 97ms/step - loss: 54691356.0000 - root_mean_squared_error: 7395.3613 - val_loss: 62379524.0000 - val_root_mean_squared_error: 7898.0708\n",
      "Epoch 9/30\n",
      "18/34 [==============>...............] - ETA: 0s - loss: 61577024.0000 - root_mean_squared_error: 7847.1030INFO:tensorflow:Assets written to: model_2/assets\n"
     ]
    },
    {
     "name": "stderr",
     "output_type": "stream",
     "text": [
      "INFO:tensorflow:Assets written to: model_2/assets\n"
     ]
    },
    {
     "name": "stdout",
     "output_type": "stream",
     "text": [
      "34/34 [==============================] - 3s 93ms/step - loss: 54462408.0000 - root_mean_squared_error: 7379.8652 - val_loss: 62109712.0000 - val_root_mean_squared_error: 7880.9722\n",
      "Epoch 10/30\n",
      "18/34 [==============>...............] - ETA: 0s - loss: 52378692.0000 - root_mean_squared_error: 7237.3130INFO:tensorflow:Assets written to: model_2/assets\n"
     ]
    },
    {
     "name": "stderr",
     "output_type": "stream",
     "text": [
      "INFO:tensorflow:Assets written to: model_2/assets\n"
     ]
    },
    {
     "name": "stdout",
     "output_type": "stream",
     "text": [
      "34/34 [==============================] - 3s 98ms/step - loss: 54229964.0000 - root_mean_squared_error: 7364.1006 - val_loss: 61836088.0000 - val_root_mean_squared_error: 7863.5928\n",
      "Epoch 11/30\n",
      "18/34 [==============>...............] - ETA: 0s - loss: 51845128.0000 - root_mean_squared_error: 7200.3560INFO:tensorflow:Assets written to: model_2/assets\n"
     ]
    },
    {
     "name": "stderr",
     "output_type": "stream",
     "text": [
      "INFO:tensorflow:Assets written to: model_2/assets\n"
     ]
    },
    {
     "name": "stdout",
     "output_type": "stream",
     "text": [
      "34/34 [==============================] - 3s 94ms/step - loss: 53993680.0000 - root_mean_squared_error: 7348.0396 - val_loss: 61556920.0000 - val_root_mean_squared_error: 7845.8223\n",
      "Epoch 12/30\n",
      "17/34 [==============>...............] - ETA: 0s - loss: 46268860.0000 - root_mean_squared_error: 6802.1221INFO:tensorflow:Assets written to: model_2/assets\n"
     ]
    },
    {
     "name": "stderr",
     "output_type": "stream",
     "text": [
      "INFO:tensorflow:Assets written to: model_2/assets\n"
     ]
    },
    {
     "name": "stdout",
     "output_type": "stream",
     "text": [
      "34/34 [==============================] - 3s 97ms/step - loss: 53715640.0000 - root_mean_squared_error: 7329.0952 - val_loss: 61219880.0000 - val_root_mean_squared_error: 7824.3135\n",
      "Epoch 13/30\n",
      "18/34 [==============>...............] - ETA: 0s - loss: 54698576.0000 - root_mean_squared_error: 7395.8481INFO:tensorflow:Assets written to: model_2/assets\n"
     ]
    },
    {
     "name": "stderr",
     "output_type": "stream",
     "text": [
      "INFO:tensorflow:Assets written to: model_2/assets\n"
     ]
    },
    {
     "name": "stdout",
     "output_type": "stream",
     "text": [
      "34/34 [==============================] - 3s 94ms/step - loss: 53463800.0000 - root_mean_squared_error: 7311.8945 - val_loss: 60930396.0000 - val_root_mean_squared_error: 7805.7925\n",
      "Epoch 14/30\n",
      "18/34 [==============>...............] - ETA: 0s - loss: 59626736.0000 - root_mean_squared_error: 7721.8354INFO:tensorflow:Assets written to: model_2/assets\n"
     ]
    },
    {
     "name": "stderr",
     "output_type": "stream",
     "text": [
      "INFO:tensorflow:Assets written to: model_2/assets\n"
     ]
    },
    {
     "name": "stdout",
     "output_type": "stream",
     "text": [
      "34/34 [==============================] - 3s 97ms/step - loss: 53214592.0000 - root_mean_squared_error: 7294.8330 - val_loss: 60636156.0000 - val_root_mean_squared_error: 7786.9219\n",
      "Epoch 15/30\n",
      "18/34 [==============>...............] - ETA: 0s - loss: 50722924.0000 - root_mean_squared_error: 7122.0029INFO:tensorflow:Assets written to: model_2/assets\n"
     ]
    },
    {
     "name": "stderr",
     "output_type": "stream",
     "text": [
      "INFO:tensorflow:Assets written to: model_2/assets\n"
     ]
    },
    {
     "name": "stdout",
     "output_type": "stream",
     "text": [
      "34/34 [==============================] - 3s 95ms/step - loss: 52962096.0000 - root_mean_squared_error: 7277.5054 - val_loss: 60337420.0000 - val_root_mean_squared_error: 7767.7163\n",
      "Epoch 16/30\n",
      "33/34 [============================>.] - ETA: 0s - loss: 52709112.0000 - root_mean_squared_error: 7260.1035INFO:tensorflow:Assets written to: model_2/assets\n"
     ]
    },
    {
     "name": "stderr",
     "output_type": "stream",
     "text": [
      "INFO:tensorflow:Assets written to: model_2/assets\n"
     ]
    },
    {
     "name": "stdout",
     "output_type": "stream",
     "text": [
      "34/34 [==============================] - 3s 96ms/step - loss: 52705212.0000 - root_mean_squared_error: 7259.8345 - val_loss: 60029676.0000 - val_root_mean_squared_error: 7747.8818\n",
      "Epoch 17/30\n",
      "18/34 [==============>...............] - ETA: 0s - loss: 44245184.0000 - root_mean_squared_error: 6651.7061INFO:tensorflow:Assets written to: model_2/assets\n"
     ]
    },
    {
     "name": "stderr",
     "output_type": "stream",
     "text": [
      "INFO:tensorflow:Assets written to: model_2/assets\n"
     ]
    },
    {
     "name": "stdout",
     "output_type": "stream",
     "text": [
      "34/34 [==============================] - 3s 97ms/step - loss: 52443808.0000 - root_mean_squared_error: 7241.8101 - val_loss: 59722496.0000 - val_root_mean_squared_error: 7728.0327\n",
      "Epoch 18/30\n",
      "17/34 [==============>...............] - ETA: 0s - loss: 60176736.0000 - root_mean_squared_error: 7757.3672INFO:tensorflow:Assets written to: model_2/assets\n"
     ]
    },
    {
     "name": "stderr",
     "output_type": "stream",
     "text": [
      "INFO:tensorflow:Assets written to: model_2/assets\n"
     ]
    },
    {
     "name": "stdout",
     "output_type": "stream",
     "text": [
      "34/34 [==============================] - 3s 94ms/step - loss: 52182132.0000 - root_mean_squared_error: 7223.7207 - val_loss: 59411840.0000 - val_root_mean_squared_error: 7707.9072\n",
      "Epoch 19/30\n",
      "17/34 [==============>...............] - ETA: 0s - loss: 53608136.0000 - root_mean_squared_error: 7321.7578INFO:tensorflow:Assets written to: model_2/assets\n"
     ]
    },
    {
     "name": "stderr",
     "output_type": "stream",
     "text": [
      "INFO:tensorflow:Assets written to: model_2/assets\n"
     ]
    },
    {
     "name": "stdout",
     "output_type": "stream",
     "text": [
      "34/34 [==============================] - 3s 94ms/step - loss: 51917200.0000 - root_mean_squared_error: 7205.3584 - val_loss: 59098180.0000 - val_root_mean_squared_error: 7687.5347\n",
      "Epoch 20/30\n",
      "29/34 [========================>.....] - ETA: 0s - loss: 49191972.0000 - root_mean_squared_error: 7013.6987INFO:tensorflow:Assets written to: model_2/assets\n"
     ]
    },
    {
     "name": "stderr",
     "output_type": "stream",
     "text": [
      "INFO:tensorflow:Assets written to: model_2/assets\n"
     ]
    },
    {
     "name": "stdout",
     "output_type": "stream",
     "text": [
      "34/34 [==============================] - 3s 96ms/step - loss: 51650420.0000 - root_mean_squared_error: 7186.8223 - val_loss: 58781048.0000 - val_root_mean_squared_error: 7666.8799\n",
      "Epoch 21/30\n",
      "19/34 [===============>..............] - ETA: 0s - loss: 57565364.0000 - root_mean_squared_error: 7587.1846INFO:tensorflow:Assets written to: model_2/assets\n"
     ]
    },
    {
     "name": "stderr",
     "output_type": "stream",
     "text": [
      "INFO:tensorflow:Assets written to: model_2/assets\n"
     ]
    },
    {
     "name": "stdout",
     "output_type": "stream",
     "text": [
      "34/34 [==============================] - 3s 93ms/step - loss: 51381228.0000 - root_mean_squared_error: 7168.0698 - val_loss: 58461436.0000 - val_root_mean_squared_error: 7646.0083\n",
      "Epoch 22/30\n",
      "18/34 [==============>...............] - ETA: 0s - loss: 51837648.0000 - root_mean_squared_error: 7199.8364INFO:tensorflow:Assets written to: model_2/assets\n"
     ]
    },
    {
     "name": "stderr",
     "output_type": "stream",
     "text": [
      "INFO:tensorflow:Assets written to: model_2/assets\n"
     ]
    },
    {
     "name": "stdout",
     "output_type": "stream",
     "text": [
      "34/34 [==============================] - 3s 97ms/step - loss: 51109752.0000 - root_mean_squared_error: 7149.1089 - val_loss: 58138276.0000 - val_root_mean_squared_error: 7624.8452\n",
      "Epoch 23/30\n",
      "18/34 [==============>...............] - ETA: 0s - loss: 42689892.0000 - root_mean_squared_error: 6533.7505INFO:tensorflow:Assets written to: model_2/assets\n"
     ]
    },
    {
     "name": "stderr",
     "output_type": "stream",
     "text": [
      "INFO:tensorflow:Assets written to: model_2/assets\n"
     ]
    },
    {
     "name": "stdout",
     "output_type": "stream",
     "text": [
      "34/34 [==============================] - 3s 93ms/step - loss: 50836424.0000 - root_mean_squared_error: 7129.9658 - val_loss: 57812664.0000 - val_root_mean_squared_error: 7603.4634\n",
      "Epoch 24/30\n",
      "18/34 [==============>...............] - ETA: 0s - loss: 56752812.0000 - root_mean_squared_error: 7533.4463INFO:tensorflow:Assets written to: model_2/assets\n"
     ]
    },
    {
     "name": "stderr",
     "output_type": "stream",
     "text": [
      "INFO:tensorflow:Assets written to: model_2/assets\n"
     ]
    },
    {
     "name": "stdout",
     "output_type": "stream",
     "text": [
      "34/34 [==============================] - 3s 103ms/step - loss: 50560952.0000 - root_mean_squared_error: 7110.6221 - val_loss: 57484036.0000 - val_root_mean_squared_error: 7581.8232\n",
      "Epoch 25/30\n",
      "17/34 [==============>...............] - ETA: 0s - loss: 48765492.0000 - root_mean_squared_error: 6983.2300INFO:tensorflow:Assets written to: model_2/assets\n"
     ]
    },
    {
     "name": "stderr",
     "output_type": "stream",
     "text": [
      "INFO:tensorflow:Assets written to: model_2/assets\n"
     ]
    },
    {
     "name": "stdout",
     "output_type": "stream",
     "text": [
      "34/34 [==============================] - 3s 90ms/step - loss: 50283812.0000 - root_mean_squared_error: 7091.1084 - val_loss: 57153564.0000 - val_root_mean_squared_error: 7559.9976\n",
      "Epoch 26/30\n",
      "17/34 [==============>...............] - ETA: 0s - loss: 48526040.0000 - root_mean_squared_error: 6966.0635INFO:tensorflow:Assets written to: model_2/assets\n"
     ]
    },
    {
     "name": "stderr",
     "output_type": "stream",
     "text": [
      "INFO:tensorflow:Assets written to: model_2/assets\n"
     ]
    },
    {
     "name": "stdout",
     "output_type": "stream",
     "text": [
      "34/34 [==============================] - 3s 95ms/step - loss: 50005856.0000 - root_mean_squared_error: 7071.4819 - val_loss: 56820616.0000 - val_root_mean_squared_error: 7537.9453\n",
      "Epoch 27/30\n",
      "17/34 [==============>...............] - ETA: 0s - loss: 51375064.0000 - root_mean_squared_error: 7167.6401  INFO:tensorflow:Assets written to: model_2/assets\n"
     ]
    },
    {
     "name": "stderr",
     "output_type": "stream",
     "text": [
      "INFO:tensorflow:Assets written to: model_2/assets\n"
     ]
    },
    {
     "name": "stdout",
     "output_type": "stream",
     "text": [
      "34/34 [==============================] - 3s 97ms/step - loss: 49725788.0000 - root_mean_squared_error: 7051.6519 - val_loss: 56486488.0000 - val_root_mean_squared_error: 7515.7495\n",
      "Epoch 28/30\n",
      "18/34 [==============>...............] - ETA: 0s - loss: 47217680.0000 - root_mean_squared_error: 6871.5117INFO:tensorflow:Assets written to: model_2/assets\n"
     ]
    },
    {
     "name": "stderr",
     "output_type": "stream",
     "text": [
      "INFO:tensorflow:Assets written to: model_2/assets\n"
     ]
    },
    {
     "name": "stdout",
     "output_type": "stream",
     "text": [
      "34/34 [==============================] - 3s 98ms/step - loss: 49445164.0000 - root_mean_squared_error: 7031.7256 - val_loss: 56150032.0000 - val_root_mean_squared_error: 7493.3320\n",
      "Epoch 29/30\n",
      "17/34 [==============>...............] - ETA: 0s - loss: 51258972.0000 - root_mean_squared_error: 7159.5371INFO:tensorflow:Assets written to: model_2/assets\n"
     ]
    },
    {
     "name": "stderr",
     "output_type": "stream",
     "text": [
      "INFO:tensorflow:Assets written to: model_2/assets\n"
     ]
    },
    {
     "name": "stdout",
     "output_type": "stream",
     "text": [
      "34/34 [==============================] - 3s 97ms/step - loss: 49164092.0000 - root_mean_squared_error: 7011.7109 - val_loss: 55812012.0000 - val_root_mean_squared_error: 7470.7437\n",
      "Epoch 30/30\n",
      "16/34 [=============>................] - ETA: 0s - loss: 40760292.0000 - root_mean_squared_error: 6384.3779INFO:tensorflow:Assets written to: model_2/assets\n"
     ]
    },
    {
     "name": "stderr",
     "output_type": "stream",
     "text": [
      "INFO:tensorflow:Assets written to: model_2/assets\n"
     ]
    },
    {
     "name": "stdout",
     "output_type": "stream",
     "text": [
      "34/34 [==============================] - 3s 95ms/step - loss: 48881896.0000 - root_mean_squared_error: 6991.5581 - val_loss: 55473848.0000 - val_root_mean_squared_error: 7448.0767\n"
     ]
    },
    {
     "data": {
      "text/plain": [
       "<keras.src.callbacks.History at 0x3f4fe9610>"
      ]
     },
     "execution_count": 228,
     "metadata": {},
     "output_type": "execute_result"
    }
   ],
   "source": [
    "cp = ModelCheckpoint('model_2/', save_best_only=True) # validation loss가 가장 낮은 모델을 저장\n",
    "model_2.compile(loss=MeanSquaredError(), optimizer=Adam(learning_rate=0.001), metrics=[RootMeanSquaredError()])\n",
    "model_2.fit(X_train, y_train, validation_data=(X_test, y_test), epochs=30, callbacks=[cp])"
   ]
  },
  {
   "cell_type": "code",
   "execution_count": 229,
   "metadata": {},
   "outputs": [
    {
     "name": "stdout",
     "output_type": "stream",
     "text": [
      "Model: \"sequential_21\"\n",
      "_________________________________________________________________\n",
      " Layer (type)                Output Shape              Param #   \n",
      "=================================================================\n",
      " lstm_22 (LSTM)              (None, 256)               568320    \n",
      "                                                                 \n",
      " dense_38 (Dense)            (None, 64)                16448     \n",
      "                                                                 \n",
      " dense_39 (Dense)            (None, 1)                 65        \n",
      "                                                                 \n",
      "=================================================================\n",
      "Total params: 584833 (2.23 MB)\n",
      "Trainable params: 584833 (2.23 MB)\n",
      "Non-trainable params: 0 (0.00 Byte)\n",
      "_________________________________________________________________\n"
     ]
    }
   ],
   "source": [
    "model_3 = Sequential()\n",
    "model_3.add(InputLayer((WINDOW_SIZE,298)))\n",
    "model_3.add(LSTM(256))\n",
    "model_3.add(Dense(64, activation='relu'))\n",
    "model_3.add(Dense(1, 'linear'))\n",
    "\n",
    "model_3.summary()"
   ]
  },
  {
   "cell_type": "code",
   "execution_count": 230,
   "metadata": {},
   "outputs": [
    {
     "name": "stderr",
     "output_type": "stream",
     "text": [
      "WARNING:absl:At this time, the v2.11+ optimizer `tf.keras.optimizers.Adam` runs slowly on M1/M2 Macs, please use the legacy Keras optimizer instead, located at `tf.keras.optimizers.legacy.Adam`.\n"
     ]
    },
    {
     "name": "stdout",
     "output_type": "stream",
     "text": [
      "Epoch 1/30\n",
      "32/34 [===========================>..] - ETA: 0s - loss: 61334672.0000 - root_mean_squared_error: 7831.6455INFO:tensorflow:Assets written to: model_3/assets\n"
     ]
    },
    {
     "name": "stderr",
     "output_type": "stream",
     "text": [
      "INFO:tensorflow:Assets written to: model_3/assets\n"
     ]
    },
    {
     "name": "stdout",
     "output_type": "stream",
     "text": [
      "34/34 [==============================] - 5s 111ms/step - loss: 61062460.0000 - root_mean_squared_error: 7814.2476 - val_loss: 69697344.0000 - val_root_mean_squared_error: 8348.4932\n",
      "Epoch 2/30\n",
      "31/34 [==========================>...] - ETA: 0s - loss: 61188920.0000 - root_mean_squared_error: 7822.3350INFO:tensorflow:Assets written to: model_3/assets\n"
     ]
    },
    {
     "name": "stderr",
     "output_type": "stream",
     "text": [
      "INFO:tensorflow:Assets written to: model_3/assets\n"
     ]
    },
    {
     "name": "stdout",
     "output_type": "stream",
     "text": [
      "34/34 [==============================] - 4s 107ms/step - loss: 60717996.0000 - root_mean_squared_error: 7792.1753 - val_loss: 69197192.0000 - val_root_mean_squared_error: 8318.4854\n",
      "Epoch 3/30\n",
      "34/34 [==============================] - ETA: 0s - loss: 60201524.0000 - root_mean_squared_error: 7758.9634INFO:tensorflow:Assets written to: model_3/assets\n"
     ]
    },
    {
     "name": "stderr",
     "output_type": "stream",
     "text": [
      "INFO:tensorflow:Assets written to: model_3/assets\n"
     ]
    },
    {
     "name": "stdout",
     "output_type": "stream",
     "text": [
      "34/34 [==============================] - 3s 79ms/step - loss: 60201524.0000 - root_mean_squared_error: 7758.9634 - val_loss: 68503096.0000 - val_root_mean_squared_error: 8276.6602\n",
      "Epoch 4/30\n",
      "32/34 [===========================>..] - ETA: 0s - loss: 59820400.0000 - root_mean_squared_error: 7734.3652"
     ]
    },
    {
     "name": "stderr",
     "output_type": "stream",
     "text": [
      "Exception ignored in: <function AtomicFunction.__del__ at 0x30cb15760>\n",
      "Traceback (most recent call last):\n",
      "  File \"/opt/homebrew/lib/python3.11/site-packages/tensorflow/python/eager/polymorphic_function/atomic_function.py\", line 286, in __del__\n",
      "    def __del__(self):\n",
      "  \n",
      "KeyboardInterrupt: \n"
     ]
    },
    {
     "name": "stdout",
     "output_type": "stream",
     "text": [
      "INFO:tensorflow:Assets written to: model_3/assets\n"
     ]
    },
    {
     "name": "stderr",
     "output_type": "stream",
     "text": [
      "INFO:tensorflow:Assets written to: model_3/assets\n"
     ]
    },
    {
     "name": "stdout",
     "output_type": "stream",
     "text": [
      "34/34 [==============================] - 4s 112ms/step - loss: 59501716.0000 - root_mean_squared_error: 7713.7354 - val_loss: 67578856.0000 - val_root_mean_squared_error: 8220.6357\n",
      "Epoch 5/30\n",
      "31/34 [==========================>...] - ETA: 0s - loss: 59084368.0000 - root_mean_squared_error: 7686.6357INFO:tensorflow:Assets written to: model_3/assets\n"
     ]
    },
    {
     "name": "stderr",
     "output_type": "stream",
     "text": [
      "INFO:tensorflow:Assets written to: model_3/assets\n"
     ]
    },
    {
     "name": "stdout",
     "output_type": "stream",
     "text": [
      "34/34 [==============================] - 4s 108ms/step - loss: 58629560.0000 - root_mean_squared_error: 7656.9941 - val_loss: 66472612.0000 - val_root_mean_squared_error: 8153.0737\n",
      "Epoch 6/30\n",
      "28/34 [=======================>......] - ETA: 0s - loss: 53426600.0000 - root_mean_squared_error: 7309.3511INFO:tensorflow:Assets written to: model_3/assets\n"
     ]
    },
    {
     "name": "stderr",
     "output_type": "stream",
     "text": [
      "INFO:tensorflow:Assets written to: model_3/assets\n"
     ]
    },
    {
     "name": "stdout",
     "output_type": "stream",
     "text": [
      "34/34 [==============================] - 3s 103ms/step - loss: 57600568.0000 - root_mean_squared_error: 7589.5044 - val_loss: 65188504.0000 - val_root_mean_squared_error: 8073.9399\n",
      "Epoch 7/30\n",
      "29/34 [========================>.....] - ETA: 0s - loss: 57830716.0000 - root_mean_squared_error: 7604.6514INFO:tensorflow:Assets written to: model_3/assets\n"
     ]
    },
    {
     "name": "stderr",
     "output_type": "stream",
     "text": [
      "INFO:tensorflow:Assets written to: model_3/assets\n"
     ]
    },
    {
     "name": "stdout",
     "output_type": "stream",
     "text": [
      "34/34 [==============================] - 3s 105ms/step - loss: 56426868.0000 - root_mean_squared_error: 7511.7817 - val_loss: 63731036.0000 - val_root_mean_squared_error: 7983.1719\n",
      "Epoch 8/30\n",
      "34/34 [==============================] - ETA: 0s - loss: 55093192.0000 - root_mean_squared_error: 7422.4790INFO:tensorflow:Assets written to: model_3/assets\n"
     ]
    },
    {
     "name": "stderr",
     "output_type": "stream",
     "text": [
      "INFO:tensorflow:Assets written to: model_3/assets\n"
     ]
    },
    {
     "name": "stdout",
     "output_type": "stream",
     "text": [
      "34/34 [==============================] - 3s 105ms/step - loss: 55093192.0000 - root_mean_squared_error: 7422.4790 - val_loss: 62093948.0000 - val_root_mean_squared_error: 7879.9717\n",
      "Epoch 9/30\n",
      "31/34 [==========================>...] - ETA: 0s - loss: 54079524.0000 - root_mean_squared_error: 7353.8779INFO:tensorflow:Assets written to: model_3/assets\n"
     ]
    },
    {
     "name": "stderr",
     "output_type": "stream",
     "text": [
      "INFO:tensorflow:Assets written to: model_3/assets\n"
     ]
    },
    {
     "name": "stdout",
     "output_type": "stream",
     "text": [
      "34/34 [==============================] - 4s 106ms/step - loss: 53658804.0000 - root_mean_squared_error: 7325.2168 - val_loss: 60370476.0000 - val_root_mean_squared_error: 7769.8433\n",
      "Epoch 10/30\n",
      "33/34 [============================>.] - ETA: 0s - loss: 52195260.0000 - root_mean_squared_error: 7224.6289INFO:tensorflow:Assets written to: model_3/assets\n"
     ]
    },
    {
     "name": "stderr",
     "output_type": "stream",
     "text": [
      "INFO:tensorflow:Assets written to: model_3/assets\n"
     ]
    },
    {
     "name": "stdout",
     "output_type": "stream",
     "text": [
      "34/34 [==============================] - 3s 101ms/step - loss: 52163984.0000 - root_mean_squared_error: 7222.4644 - val_loss: 58569080.0000 - val_root_mean_squared_error: 7653.0444\n",
      "Epoch 11/30\n",
      "31/34 [==========================>...] - ETA: 0s - loss: 51305544.0000 - root_mean_squared_error: 7162.7876INFO:tensorflow:Assets written to: model_3/assets\n"
     ]
    },
    {
     "name": "stderr",
     "output_type": "stream",
     "text": [
      "INFO:tensorflow:Assets written to: model_3/assets\n"
     ]
    },
    {
     "name": "stdout",
     "output_type": "stream",
     "text": [
      "34/34 [==============================] - 4s 106ms/step - loss: 50619536.0000 - root_mean_squared_error: 7114.7397 - val_loss: 56717268.0000 - val_root_mean_squared_error: 7531.0869\n",
      "Epoch 12/30\n",
      "32/34 [===========================>..] - ETA: 0s - loss: 49409796.0000 - root_mean_squared_error: 7029.2104INFO:tensorflow:Assets written to: model_3/assets\n"
     ]
    },
    {
     "name": "stderr",
     "output_type": "stream",
     "text": [
      "INFO:tensorflow:Assets written to: model_3/assets\n"
     ]
    },
    {
     "name": "stdout",
     "output_type": "stream",
     "text": [
      "34/34 [==============================] - 3s 104ms/step - loss: 49062444.0000 - root_mean_squared_error: 7004.4590 - val_loss: 54848900.0000 - val_root_mean_squared_error: 7406.0044\n",
      "Epoch 13/30\n",
      "28/34 [=======================>......] - ETA: 0s - loss: 49076884.0000 - root_mean_squared_error: 7005.4888INFO:tensorflow:Assets written to: model_3/assets\n"
     ]
    },
    {
     "name": "stderr",
     "output_type": "stream",
     "text": [
      "INFO:tensorflow:Assets written to: model_3/assets\n"
     ]
    },
    {
     "name": "stdout",
     "output_type": "stream",
     "text": [
      "34/34 [==============================] - 3s 103ms/step - loss: 47515252.0000 - root_mean_squared_error: 6893.1304 - val_loss: 52994276.0000 - val_root_mean_squared_error: 7279.7168\n",
      "Epoch 14/30\n",
      "34/34 [==============================] - ETA: 0s - loss: 46005676.0000 - root_mean_squared_error: 6782.7485INFO:tensorflow:Assets written to: model_3/assets\n"
     ]
    },
    {
     "name": "stderr",
     "output_type": "stream",
     "text": [
      "INFO:tensorflow:Assets written to: model_3/assets\n"
     ]
    },
    {
     "name": "stdout",
     "output_type": "stream",
     "text": [
      "34/34 [==============================] - 3s 76ms/step - loss: 46005676.0000 - root_mean_squared_error: 6782.7485 - val_loss: 51177248.0000 - val_root_mean_squared_error: 7153.8271\n",
      "Epoch 15/30\n",
      "28/34 [=======================>......] - ETA: 0s - loss: 42524168.0000 - root_mean_squared_error: 6521.0562INFO:tensorflow:Assets written to: model_3/assets\n"
     ]
    },
    {
     "name": "stderr",
     "output_type": "stream",
     "text": [
      "INFO:tensorflow:Assets written to: model_3/assets\n"
     ]
    },
    {
     "name": "stdout",
     "output_type": "stream",
     "text": [
      "34/34 [==============================] - 4s 114ms/step - loss: 44560176.0000 - root_mean_squared_error: 6675.3408 - val_loss: 49431552.0000 - val_root_mean_squared_error: 7030.7578\n",
      "Epoch 16/30\n",
      "29/34 [========================>.....] - ETA: 0s - loss: 44218072.0000 - root_mean_squared_error: 6649.6665INFO:tensorflow:Assets written to: model_3/assets\n"
     ]
    },
    {
     "name": "stderr",
     "output_type": "stream",
     "text": [
      "INFO:tensorflow:Assets written to: model_3/assets\n"
     ]
    },
    {
     "name": "stdout",
     "output_type": "stream",
     "text": [
      "34/34 [==============================] - 4s 109ms/step - loss: 43193276.0000 - root_mean_squared_error: 6572.1587 - val_loss: 47766068.0000 - val_root_mean_squared_error: 6911.2998\n",
      "Epoch 17/30\n",
      "34/34 [==============================] - ETA: 0s - loss: 41934344.0000 - root_mean_squared_error: 6475.6743INFO:tensorflow:Assets written to: model_3/assets\n"
     ]
    },
    {
     "name": "stderr",
     "output_type": "stream",
     "text": [
      "INFO:tensorflow:Assets written to: model_3/assets\n"
     ]
    },
    {
     "name": "stdout",
     "output_type": "stream",
     "text": [
      "34/34 [==============================] - 3s 103ms/step - loss: 41934344.0000 - root_mean_squared_error: 6475.6743 - val_loss: 46220888.0000 - val_root_mean_squared_error: 6798.5942\n",
      "Epoch 18/30\n",
      "30/34 [=========================>....] - ETA: 0s - loss: 38313960.0000 - root_mean_squared_error: 6189.8267INFO:tensorflow:Assets written to: model_3/assets\n"
     ]
    },
    {
     "name": "stderr",
     "output_type": "stream",
     "text": [
      "INFO:tensorflow:Assets written to: model_3/assets\n"
     ]
    },
    {
     "name": "stdout",
     "output_type": "stream",
     "text": [
      "34/34 [==============================] - 3s 103ms/step - loss: 40788636.0000 - root_mean_squared_error: 6386.5981 - val_loss: 44799240.0000 - val_root_mean_squared_error: 6693.2236\n",
      "Epoch 19/30\n",
      "33/34 [============================>.] - ETA: 0s - loss: 39796532.0000 - root_mean_squared_error: 6308.4497INFO:tensorflow:Assets written to: model_3/assets\n"
     ]
    },
    {
     "name": "stderr",
     "output_type": "stream",
     "text": [
      "INFO:tensorflow:Assets written to: model_3/assets\n"
     ]
    },
    {
     "name": "stdout",
     "output_type": "stream",
     "text": [
      "34/34 [==============================] - 3s 103ms/step - loss: 39757480.0000 - root_mean_squared_error: 6305.3535 - val_loss: 43470652.0000 - val_root_mean_squared_error: 6593.2280\n",
      "Epoch 20/30\n",
      "33/34 [============================>.] - ETA: 0s - loss: 38808928.0000 - root_mean_squared_error: 6229.6807INFO:tensorflow:Assets written to: model_3/assets\n"
     ]
    },
    {
     "name": "stderr",
     "output_type": "stream",
     "text": [
      "INFO:tensorflow:Assets written to: model_3/assets\n"
     ]
    },
    {
     "name": "stdout",
     "output_type": "stream",
     "text": [
      "34/34 [==============================] - 3s 103ms/step - loss: 38787792.0000 - root_mean_squared_error: 6227.9839 - val_loss: 42211320.0000 - val_root_mean_squared_error: 6497.0234\n",
      "Epoch 21/30\n",
      "31/34 [==========================>...] - ETA: 0s - loss: 38569760.0000 - root_mean_squared_error: 6210.4561INFO:tensorflow:Assets written to: model_3/assets\n"
     ]
    },
    {
     "name": "stderr",
     "output_type": "stream",
     "text": [
      "INFO:tensorflow:Assets written to: model_3/assets\n"
     ]
    },
    {
     "name": "stdout",
     "output_type": "stream",
     "text": [
      "34/34 [==============================] - 3s 104ms/step - loss: 37982680.0000 - root_mean_squared_error: 6163.0088 - val_loss: 41138568.0000 - val_root_mean_squared_error: 6413.9355\n",
      "Epoch 22/30\n",
      "32/34 [===========================>..] - ETA: 0s - loss: 37588064.0000 - root_mean_squared_error: 6130.9111INFO:tensorflow:Assets written to: model_3/assets\n"
     ]
    },
    {
     "name": "stderr",
     "output_type": "stream",
     "text": [
      "INFO:tensorflow:Assets written to: model_3/assets\n"
     ]
    },
    {
     "name": "stdout",
     "output_type": "stream",
     "text": [
      "34/34 [==============================] - 3s 104ms/step - loss: 37318032.0000 - root_mean_squared_error: 6108.8491 - val_loss: 40259428.0000 - val_root_mean_squared_error: 6345.0317\n",
      "Epoch 23/30\n",
      "33/34 [============================>.] - ETA: 0s - loss: 36822060.0000 - root_mean_squared_error: 6068.1182INFO:tensorflow:Assets written to: model_3/assets\n"
     ]
    },
    {
     "name": "stderr",
     "output_type": "stream",
     "text": [
      "INFO:tensorflow:Assets written to: model_3/assets\n"
     ]
    },
    {
     "name": "stdout",
     "output_type": "stream",
     "text": [
      "34/34 [==============================] - 3s 101ms/step - loss: 36794560.0000 - root_mean_squared_error: 6065.8516 - val_loss: 39524044.0000 - val_root_mean_squared_error: 6286.8154\n",
      "Epoch 24/30\n",
      "34/34 [==============================] - ETA: 0s - loss: 36380456.0000 - root_mean_squared_error: 6031.6216INFO:tensorflow:Assets written to: model_3/assets\n"
     ]
    },
    {
     "name": "stderr",
     "output_type": "stream",
     "text": [
      "INFO:tensorflow:Assets written to: model_3/assets\n"
     ]
    },
    {
     "name": "stdout",
     "output_type": "stream",
     "text": [
      "34/34 [==============================] - 3s 104ms/step - loss: 36380456.0000 - root_mean_squared_error: 6031.6216 - val_loss: 38907544.0000 - val_root_mean_squared_error: 6237.5908\n",
      "Epoch 25/30\n",
      "31/34 [==========================>...] - ETA: 0s - loss: 36706468.0000 - root_mean_squared_error: 6058.5864INFO:tensorflow:Assets written to: model_3/assets\n"
     ]
    },
    {
     "name": "stderr",
     "output_type": "stream",
     "text": [
      "INFO:tensorflow:Assets written to: model_3/assets\n"
     ]
    },
    {
     "name": "stdout",
     "output_type": "stream",
     "text": [
      "34/34 [==============================] - 3s 104ms/step - loss: 36060964.0000 - root_mean_squared_error: 6005.0786 - val_loss: 38404772.0000 - val_root_mean_squared_error: 6197.1582\n",
      "Epoch 26/30\n",
      "33/34 [============================>.] - ETA: 0s - loss: 35842712.0000 - root_mean_squared_error: 5986.8784INFO:tensorflow:Assets written to: model_3/assets\n"
     ]
    },
    {
     "name": "stderr",
     "output_type": "stream",
     "text": [
      "INFO:tensorflow:Assets written to: model_3/assets\n"
     ]
    },
    {
     "name": "stdout",
     "output_type": "stream",
     "text": [
      "34/34 [==============================] - 3s 79ms/step - loss: 35819628.0000 - root_mean_squared_error: 5984.9507 - val_loss: 37996260.0000 - val_root_mean_squared_error: 6164.1113\n",
      "Epoch 27/30\n",
      "33/34 [============================>.] - ETA: 0s - loss: 35672740.0000 - root_mean_squared_error: 5972.6660INFO:tensorflow:Assets written to: model_3/assets\n"
     ]
    },
    {
     "name": "stderr",
     "output_type": "stream",
     "text": [
      "INFO:tensorflow:Assets written to: model_3/assets\n"
     ]
    },
    {
     "name": "stdout",
     "output_type": "stream",
     "text": [
      "34/34 [==============================] - 3s 103ms/step - loss: 35639388.0000 - root_mean_squared_error: 5969.8735 - val_loss: 37673180.0000 - val_root_mean_squared_error: 6137.8486\n",
      "Epoch 28/30\n",
      "33/34 [============================>.] - ETA: 0s - loss: 35546400.0000 - root_mean_squared_error: 5962.0801INFO:tensorflow:Assets written to: model_3/assets\n"
     ]
    },
    {
     "name": "stderr",
     "output_type": "stream",
     "text": [
      "INFO:tensorflow:Assets written to: model_3/assets\n"
     ]
    },
    {
     "name": "stdout",
     "output_type": "stream",
     "text": [
      "34/34 [==============================] - 3s 101ms/step - loss: 35509904.0000 - root_mean_squared_error: 5959.0190 - val_loss: 37409672.0000 - val_root_mean_squared_error: 6116.3447\n",
      "Epoch 29/30\n",
      "30/34 [=========================>....] - ETA: 0s - loss: 36239540.0000 - root_mean_squared_error: 6019.9287INFO:tensorflow:Assets written to: model_3/assets\n"
     ]
    },
    {
     "name": "stderr",
     "output_type": "stream",
     "text": [
      "INFO:tensorflow:Assets written to: model_3/assets\n"
     ]
    },
    {
     "name": "stdout",
     "output_type": "stream",
     "text": [
      "34/34 [==============================] - 3s 102ms/step - loss: 35418332.0000 - root_mean_squared_error: 5951.3311 - val_loss: 37204748.0000 - val_root_mean_squared_error: 6099.5693\n",
      "Epoch 30/30\n",
      "28/34 [=======================>......] - ETA: 0s - loss: 36755308.0000 - root_mean_squared_error: 6062.6162INFO:tensorflow:Assets written to: model_3/assets\n"
     ]
    },
    {
     "name": "stderr",
     "output_type": "stream",
     "text": [
      "INFO:tensorflow:Assets written to: model_3/assets\n"
     ]
    },
    {
     "name": "stdout",
     "output_type": "stream",
     "text": [
      "34/34 [==============================] - 3s 99ms/step - loss: 35350704.0000 - root_mean_squared_error: 5945.6465 - val_loss: 36995808.0000 - val_root_mean_squared_error: 6082.4185\n"
     ]
    },
    {
     "data": {
      "text/plain": [
       "<keras.src.callbacks.History at 0x6fec42890>"
      ]
     },
     "execution_count": 230,
     "metadata": {},
     "output_type": "execute_result"
    }
   ],
   "source": [
    "cp = ModelCheckpoint('model_3/', save_best_only=True) # validation loss가 가장 낮은 모델을 저장\n",
    "model_3.compile(loss=MeanSquaredError(), optimizer=Adam(learning_rate=0.01), metrics=[RootMeanSquaredError()])\n",
    "model_3.fit(X_train, y_train, validation_data=(X_test, y_test), epochs=30, callbacks=[cp])"
   ]
  },
  {
   "cell_type": "code",
   "execution_count": 231,
   "metadata": {},
   "outputs": [
    {
     "name": "stdout",
     "output_type": "stream",
     "text": [
      "Epoch 1/30\n",
      "32/34 [===========================>..] - ETA: 0s - loss: 35665100.0000 - root_mean_squared_error: 5972.0273INFO:tensorflow:Assets written to: model_3/assets\n"
     ]
    },
    {
     "name": "stderr",
     "output_type": "stream",
     "text": [
      "INFO:tensorflow:Assets written to: model_3/assets\n"
     ]
    },
    {
     "name": "stdout",
     "output_type": "stream",
     "text": [
      "34/34 [==============================] - 4s 109ms/step - loss: 35301684.0000 - root_mean_squared_error: 5941.5234 - val_loss: 36876744.0000 - val_root_mean_squared_error: 6072.6230\n",
      "Epoch 2/30\n",
      "27/34 [======================>.......] - ETA: 0s - loss: 33230882.0000 - root_mean_squared_error: 5764.6235INFO:tensorflow:Assets written to: model_3/assets\n"
     ]
    },
    {
     "name": "stderr",
     "output_type": "stream",
     "text": [
      "INFO:tensorflow:Assets written to: model_3/assets\n"
     ]
    },
    {
     "name": "stdout",
     "output_type": "stream",
     "text": [
      "34/34 [==============================] - 3s 101ms/step - loss: 35276608.0000 - root_mean_squared_error: 5939.4111 - val_loss: 36783944.0000 - val_root_mean_squared_error: 6064.9771\n",
      "Epoch 3/30\n",
      "28/34 [=======================>......] - ETA: 0s - loss: 27314702.0000 - root_mean_squared_error: 5226.3467INFO:tensorflow:Assets written to: model_3/assets\n"
     ]
    },
    {
     "name": "stderr",
     "output_type": "stream",
     "text": [
      "INFO:tensorflow:Assets written to: model_3/assets\n"
     ]
    },
    {
     "name": "stdout",
     "output_type": "stream",
     "text": [
      "34/34 [==============================] - 4s 110ms/step - loss: 35261768.0000 - root_mean_squared_error: 5938.1621 - val_loss: 36717644.0000 - val_root_mean_squared_error: 6059.5088\n",
      "Epoch 4/30\n",
      "34/34 [==============================] - ETA: 0s - loss: 35252012.0000 - root_mean_squared_error: 5937.3408INFO:tensorflow:Assets written to: model_3/assets\n"
     ]
    },
    {
     "name": "stderr",
     "output_type": "stream",
     "text": [
      "INFO:tensorflow:Assets written to: model_3/assets\n"
     ]
    },
    {
     "name": "stdout",
     "output_type": "stream",
     "text": [
      "34/34 [==============================] - 3s 103ms/step - loss: 35252012.0000 - root_mean_squared_error: 5937.3408 - val_loss: 36662816.0000 - val_root_mean_squared_error: 6054.9829\n",
      "Epoch 5/30\n",
      "33/34 [============================>.] - ETA: 0s - loss: 35294196.0000 - root_mean_squared_error: 5940.8921INFO:tensorflow:Assets written to: model_3/assets\n"
     ]
    },
    {
     "name": "stderr",
     "output_type": "stream",
     "text": [
      "INFO:tensorflow:Assets written to: model_3/assets\n"
     ]
    },
    {
     "name": "stdout",
     "output_type": "stream",
     "text": [
      "34/34 [==============================] - 4s 106ms/step - loss: 35246584.0000 - root_mean_squared_error: 5936.8828 - val_loss: 36628220.0000 - val_root_mean_squared_error: 6052.1255\n",
      "Epoch 6/30\n",
      "33/34 [============================>.] - ETA: 0s - loss: 35295148.0000 - root_mean_squared_error: 5940.9722INFO:tensorflow:Assets written to: model_3/assets\n"
     ]
    },
    {
     "name": "stderr",
     "output_type": "stream",
     "text": [
      "INFO:tensorflow:Assets written to: model_3/assets\n"
     ]
    },
    {
     "name": "stdout",
     "output_type": "stream",
     "text": [
      "34/34 [==============================] - 3s 101ms/step - loss: 35243048.0000 - root_mean_squared_error: 5936.5854 - val_loss: 36593284.0000 - val_root_mean_squared_error: 6049.2383\n",
      "Epoch 7/30\n",
      "28/34 [=======================>......] - ETA: 0s - loss: 36745268.0000 - root_mean_squared_error: 6061.7881INFO:tensorflow:Assets written to: model_3/assets\n"
     ]
    },
    {
     "name": "stderr",
     "output_type": "stream",
     "text": [
      "INFO:tensorflow:Assets written to: model_3/assets\n"
     ]
    },
    {
     "name": "stdout",
     "output_type": "stream",
     "text": [
      "34/34 [==============================] - 4s 112ms/step - loss: 35240996.0000 - root_mean_squared_error: 5936.4131 - val_loss: 36571576.0000 - val_root_mean_squared_error: 6047.4438\n",
      "Epoch 8/30\n",
      "32/34 [===========================>..] - ETA: 0s - loss: 35521304.0000 - root_mean_squared_error: 5959.9751INFO:tensorflow:Assets written to: model_3/assets\n"
     ]
    },
    {
     "name": "stderr",
     "output_type": "stream",
     "text": [
      "INFO:tensorflow:Assets written to: model_3/assets\n"
     ]
    },
    {
     "name": "stdout",
     "output_type": "stream",
     "text": [
      "34/34 [==============================] - 4s 107ms/step - loss: 35239836.0000 - root_mean_squared_error: 5936.3145 - val_loss: 36553764.0000 - val_root_mean_squared_error: 6045.9707\n",
      "Epoch 9/30\n",
      "31/34 [==========================>...] - ETA: 0s - loss: 35800908.0000 - root_mean_squared_error: 5983.3857INFO:tensorflow:Assets written to: model_3/assets\n"
     ]
    },
    {
     "name": "stderr",
     "output_type": "stream",
     "text": [
      "INFO:tensorflow:Assets written to: model_3/assets\n"
     ]
    },
    {
     "name": "stdout",
     "output_type": "stream",
     "text": [
      "34/34 [==============================] - 4s 107ms/step - loss: 35239060.0000 - root_mean_squared_error: 5936.2495 - val_loss: 36538824.0000 - val_root_mean_squared_error: 6044.7354\n",
      "Epoch 10/30\n",
      "31/34 [==========================>...] - ETA: 0s - loss: 35891324.0000 - root_mean_squared_error: 5990.9370INFO:tensorflow:Assets written to: model_3/assets\n"
     ]
    },
    {
     "name": "stderr",
     "output_type": "stream",
     "text": [
      "INFO:tensorflow:Assets written to: model_3/assets\n"
     ]
    },
    {
     "name": "stdout",
     "output_type": "stream",
     "text": [
      "34/34 [==============================] - 4s 119ms/step - loss: 35238604.0000 - root_mean_squared_error: 5936.2114 - val_loss: 36530828.0000 - val_root_mean_squared_error: 6044.0737\n",
      "Epoch 11/30\n",
      "29/34 [========================>.....] - ETA: 0s - loss: 36565496.0000 - root_mean_squared_error: 6046.9419INFO:tensorflow:Assets written to: model_3/assets\n"
     ]
    },
    {
     "name": "stderr",
     "output_type": "stream",
     "text": [
      "INFO:tensorflow:Assets written to: model_3/assets\n"
     ]
    },
    {
     "name": "stdout",
     "output_type": "stream",
     "text": [
      "34/34 [==============================] - 3s 100ms/step - loss: 35238364.0000 - root_mean_squared_error: 5936.1919 - val_loss: 36521748.0000 - val_root_mean_squared_error: 6043.3228\n",
      "Epoch 12/30\n",
      "34/34 [==============================] - 0s 10ms/step - loss: 35238160.0000 - root_mean_squared_error: 5936.1738 - val_loss: 36521900.0000 - val_root_mean_squared_error: 6043.3350\n",
      "Epoch 13/30\n",
      "31/34 [==========================>...] - ETA: 0s - loss: 35741220.0000 - root_mean_squared_error: 5978.3955INFO:tensorflow:Assets written to: model_3/assets\n"
     ]
    },
    {
     "name": "stderr",
     "output_type": "stream",
     "text": [
      "INFO:tensorflow:Assets written to: model_3/assets\n"
     ]
    },
    {
     "name": "stdout",
     "output_type": "stream",
     "text": [
      "34/34 [==============================] - 4s 110ms/step - loss: 35238052.0000 - root_mean_squared_error: 5936.1641 - val_loss: 36517472.0000 - val_root_mean_squared_error: 6042.9692\n",
      "Epoch 14/30\n",
      "34/34 [==============================] - 0s 10ms/step - loss: 35237916.0000 - root_mean_squared_error: 5936.1538 - val_loss: 36517984.0000 - val_root_mean_squared_error: 6043.0112\n",
      "Epoch 15/30\n",
      "34/34 [==============================] - 0s 11ms/step - loss: 35238740.0000 - root_mean_squared_error: 5936.2217 - val_loss: 36610948.0000 - val_root_mean_squared_error: 6050.6982\n",
      "Epoch 16/30\n",
      "34/34 [==============================] - ETA: 0s - loss: 35235612.0000 - root_mean_squared_error: 5935.9595INFO:tensorflow:Assets written to: model_3/assets\n"
     ]
    },
    {
     "name": "stderr",
     "output_type": "stream",
     "text": [
      "INFO:tensorflow:Assets written to: model_3/assets\n"
     ]
    },
    {
     "name": "stdout",
     "output_type": "stream",
     "text": [
      "34/34 [==============================] - 3s 86ms/step - loss: 35235612.0000 - root_mean_squared_error: 5935.9595 - val_loss: 36498268.0000 - val_root_mean_squared_error: 6041.3799\n",
      "Epoch 17/30\n",
      "34/34 [==============================] - 0s 13ms/step - loss: 35237572.0000 - root_mean_squared_error: 5936.1245 - val_loss: 36498424.0000 - val_root_mean_squared_error: 6041.3931\n",
      "Epoch 18/30\n",
      "34/34 [==============================] - 0s 10ms/step - loss: 35237480.0000 - root_mean_squared_error: 5936.1167 - val_loss: 36504372.0000 - val_root_mean_squared_error: 6041.8843\n",
      "Epoch 19/30\n",
      "34/34 [==============================] - 0s 10ms/step - loss: 35237352.0000 - root_mean_squared_error: 5936.1060 - val_loss: 36501364.0000 - val_root_mean_squared_error: 6041.6357\n",
      "Epoch 20/30\n",
      "34/34 [==============================] - 0s 10ms/step - loss: 35237216.0000 - root_mean_squared_error: 5936.0952 - val_loss: 36504856.0000 - val_root_mean_squared_error: 6041.9253\n",
      "Epoch 21/30\n",
      "34/34 [==============================] - 0s 10ms/step - loss: 35237080.0000 - root_mean_squared_error: 5936.0830 - val_loss: 36507192.0000 - val_root_mean_squared_error: 6042.1182\n",
      "Epoch 22/30\n",
      "34/34 [==============================] - 0s 11ms/step - loss: 35236568.0000 - root_mean_squared_error: 5936.0396 - val_loss: 36511800.0000 - val_root_mean_squared_error: 6042.5000\n",
      "Epoch 23/30\n",
      "34/34 [==============================] - 0s 11ms/step - loss: 35241316.0000 - root_mean_squared_error: 5936.4399 - val_loss: 36602040.0000 - val_root_mean_squared_error: 6049.9619\n",
      "Epoch 24/30\n",
      "34/34 [==============================] - 0s 10ms/step - loss: 35239524.0000 - root_mean_squared_error: 5936.2886 - val_loss: 36568892.0000 - val_root_mean_squared_error: 6047.2222\n",
      "Epoch 25/30\n",
      "34/34 [==============================] - 0s 11ms/step - loss: 35247196.0000 - root_mean_squared_error: 5936.9351 - val_loss: 36811532.0000 - val_root_mean_squared_error: 6067.2510\n",
      "Epoch 26/30\n",
      "34/34 [==============================] - 0s 10ms/step - loss: 35260500.0000 - root_mean_squared_error: 5938.0562 - val_loss: 36699552.0000 - val_root_mean_squared_error: 6058.0156\n",
      "Epoch 27/30\n",
      "34/34 [==============================] - 0s 11ms/step - loss: 35246260.0000 - root_mean_squared_error: 5936.8564 - val_loss: 36622772.0000 - val_root_mean_squared_error: 6051.6753\n",
      "Epoch 28/30\n",
      "34/34 [==============================] - 0s 13ms/step - loss: 35239888.0000 - root_mean_squared_error: 5936.3193 - val_loss: 36573220.0000 - val_root_mean_squared_error: 6047.5796\n",
      "Epoch 29/30\n",
      "34/34 [==============================] - 0s 10ms/step - loss: 35237500.0000 - root_mean_squared_error: 5936.1182 - val_loss: 36542508.0000 - val_root_mean_squared_error: 6045.0400\n",
      "Epoch 30/30\n",
      "34/34 [==============================] - 0s 10ms/step - loss: 35242264.0000 - root_mean_squared_error: 5936.5195 - val_loss: 36635152.0000 - val_root_mean_squared_error: 6052.6978\n"
     ]
    },
    {
     "data": {
      "text/plain": [
       "<keras.src.callbacks.History at 0x6e011ec10>"
      ]
     },
     "execution_count": 231,
     "metadata": {},
     "output_type": "execute_result"
    }
   ],
   "source": [
    "model_3.fit(X_train, y_train, validation_data=(X_test, y_test), epochs=30, callbacks=[cp])"
   ]
  },
  {
   "cell_type": "code",
   "execution_count": null,
   "metadata": {},
   "outputs": [],
   "source": []
  }
 ],
 "metadata": {
  "kernelspec": {
   "display_name": "Python 3",
   "language": "python",
   "name": "python3"
  },
  "language_info": {
   "codemirror_mode": {
    "name": "ipython",
    "version": 3
   },
   "file_extension": ".py",
   "mimetype": "text/x-python",
   "name": "python",
   "nbconvert_exporter": "python",
   "pygments_lexer": "ipython3",
   "version": "3.11.8"
  }
 },
 "nbformat": 4,
 "nbformat_minor": 2
}
